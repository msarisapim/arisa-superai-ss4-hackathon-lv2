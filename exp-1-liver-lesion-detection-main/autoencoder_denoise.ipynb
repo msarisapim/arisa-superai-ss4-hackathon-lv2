{
  "nbformat": 4,
  "nbformat_minor": 0,
  "metadata": {
    "colab": {
      "provenance": [],
      "machine_shape": "hm",
      "gpuType": "L4"
    },
    "kernelspec": {
      "name": "python3",
      "display_name": "Python 3"
    },
    "language_info": {
      "name": "python"
    },
    "accelerator": "GPU"
  },
  "cells": [
    {
      "cell_type": "code",
      "execution_count": null,
      "metadata": {
        "id": "nHYcTMnMjzWF"
      },
      "outputs": [],
      "source": [
        "#load data\n",
        "! pip install -q kaggle"
      ]
    },
    {
      "cell_type": "code",
      "source": [
        "from google.colab import userdata\n",
        "import os\n",
        "\n",
        "os.environ[\"KAGGLE_KEY\"] = userdata.get('key')\n",
        "os.environ[\"KAGGLE_USERNAME\"] = userdata.get('username')"
      ],
      "metadata": {
        "id": "nweCwYCJkJjU"
      },
      "execution_count": null,
      "outputs": []
    },
    {
      "cell_type": "code",
      "source": [
        "!kaggle competitions download -c liver-ultrasound-detection"
      ],
      "metadata": {
        "id": "rzJSrn0KkOn9"
      },
      "execution_count": null,
      "outputs": []
    },
    {
      "cell_type": "code",
      "source": [
        "!unzip /content/liver-ultrasound-detection.zip"
      ],
      "metadata": {
        "id": "GVp-Bu6YkQ-B"
      },
      "execution_count": null,
      "outputs": []
    },
    {
      "cell_type": "code",
      "source": [
        "# torch loaded...!!!\n",
        "import torch\n",
        "import torch.nn as nn\n",
        "import torch.nn.functional as F\n",
        "import torch.optim as optim\n",
        "\n",
        "# torchvision loaded...!!!\n",
        "import torchvision\n",
        "import torchvision.transforms as transforms\n",
        "from torchvision.utils import save_image\n",
        "from torchsummary import summary\n",
        "\n",
        "# matplotlib loaded...!!!\n",
        "import matplotlib.pyplot as plt\n",
        "import numpy as np\n",
        "import os\n",
        "import time\n",
        "from tqdm import tqdm\n"
      ],
      "metadata": {
        "id": "G1yHUZgokTT9"
      },
      "execution_count": null,
      "outputs": []
    },
    {
      "cell_type": "code",
      "source": [
        "NUM_EPOCHS = 10\n",
        "LEARNING_RATE = 0.001\n",
        "BATCH_SIZE = 32\n",
        "NOISE_FACTOR = 0.5 # constant NOISE_FACTOR which defines the amount of noise that we will add to our images."
      ],
      "metadata": {
        "id": "f4kP0onel3F3"
      },
      "execution_count": null,
      "outputs": []
    },
    {
      "cell_type": "code",
      "source": [
        "import os\n",
        "import pandas as pd\n",
        "from torchvision.io import read_image\n",
        "from PIL import Image, ImageOps\n",
        "from torch.utils.data import Dataset\n",
        "from torchvision import datasets\n"
      ],
      "metadata": {
        "id": "fAlTmxKGIPQk"
      },
      "execution_count": null,
      "outputs": []
    },
    {
      "cell_type": "code",
      "source": [
        "class CustomImageDataset(Dataset):\n",
        "    def __init__(self, img_dir, transform=None, target_transform=None):\n",
        "        #self.img_labels = pd.read_csv(annotations_file)\n",
        "        self.img_dir = img_dir\n",
        "        self.transform = transform\n",
        "        self.target_transform = target_transform\n",
        "\n",
        "    def __len__(self):\n",
        "        return len(glob.glob(self.img_dir+\"/*\"))\n",
        "\n",
        "    def __getitem__(self, idx):\n",
        "        img_path = glob.glob(self.img_dir+\"/*\")[idx]\n",
        "        image = Image.open(img_path)\n",
        "        image = ImageOps.grayscale(image)\n",
        "        if self.transform:\n",
        "            image = self.transform(image)\n",
        "        return image"
      ],
      "metadata": {
        "id": "XBSLiULyK7tV"
      },
      "execution_count": null,
      "outputs": []
    },
    {
      "cell_type": "code",
      "source": [
        "transform = transforms.Compose([\n",
        "    transforms.Resize((224, 224)),\n",
        "    transforms.ToTensor(),\n",
        "    transforms.Normalize(mean=(0.5, ), std=(0.5, ))\n",
        "])"
      ],
      "metadata": {
        "id": "9rHLaHkm-ZW2"
      },
      "execution_count": null,
      "outputs": []
    },
    {
      "cell_type": "code",
      "source": [
        "train_data = CustomImageDataset('/content/train/train/images', transform)\n",
        "trainLoader = torch.utils.data.DataLoader(train_data, batch_size=BATCH_SIZE, shuffle=True)"
      ],
      "metadata": {
        "id": "egLy8ZEHJpMQ"
      },
      "execution_count": null,
      "outputs": []
    },
    {
      "cell_type": "code",
      "source": [
        "val_data = CustomImageDataset('/content/val/val/images', transform)\n",
        "valLoader = torch.utils.data.DataLoader(val_data, batch_size=BATCH_SIZE, shuffle=True)"
      ],
      "metadata": {
        "id": "yQ8-wjVdLu_0"
      },
      "execution_count": null,
      "outputs": []
    },
    {
      "cell_type": "code",
      "source": [
        "for batch in trainLoader:\n",
        "    #batch1 = batch\n",
        "    print(batch.shape)\n",
        "    for img in batch:\n",
        "        print(img.shape)\n",
        "    break"
      ],
      "metadata": {
        "id": "qeWNw181CWpH"
      },
      "execution_count": null,
      "outputs": []
    },
    {
      "cell_type": "code",
      "source": [
        "import glob\n",
        "train_img_path = glob.glob(\"/content/train/train/images/*\")\n",
        "type(train_img_path)"
      ],
      "metadata": {
        "id": "yom-t34gIiQs"
      },
      "execution_count": null,
      "outputs": []
    },
    {
      "cell_type": "code",
      "source": [
        "device = torch.device(\"cuda:0\" if torch.cuda.is_available() else \"cpu\")\n",
        "\n",
        "def make_dir():\n",
        "    image_dir = 'Saved_Images'\n",
        "    if not os.path.exists(image_dir):\n",
        "        os.mkdir(image_dir)\n",
        "\n",
        "def save_decoded_image(img, name):\n",
        "    #img = img.view(img.size(0), 1, 28, 28)\n",
        "    save_image(img, 'Saved_Images/' + name + '.png')"
      ],
      "metadata": {
        "id": "dZ29uW9_MQ7k"
      },
      "execution_count": null,
      "outputs": []
    },
    {
      "cell_type": "code",
      "source": [
        "class AutorEncoder(nn.Module):\n",
        "    def __init__(self):\n",
        "        super(AutorEncoder, self).__init__()\n",
        "\n",
        "        # Encoder layers\n",
        "        self.enc1 = nn.Conv2d(1, 64, kernel_size=3, padding=1)\n",
        "        self.enc2 = nn.Conv2d(64, 32, kernel_size=3, padding=1)\n",
        "        self.enc3 = nn.Conv2d(32, 16, kernel_size=3, padding=1)\n",
        "        self.enc4 = nn.Conv2d(16, 8, kernel_size=3, padding=1)\n",
        "        self.pool = nn.MaxPool2d(2,2)\n",
        "\n",
        "        # Decoder layers\n",
        "        self.dec1 = nn.ConvTranspose2d(8, 8, kernel_size=2, stride=2)\n",
        "        self.dec2 = nn.ConvTranspose2d(8, 16, kernel_size=2, stride=2)\n",
        "        self.dec3 = nn.ConvTranspose2d(16, 32, kernel_size=2, stride=2)\n",
        "        self.dec4 = nn.ConvTranspose2d(32, 64, kernel_size=2, stride=2)\n",
        "        self.out = nn.Conv2d(64, 1, kernel_size=3, padding=1)\n",
        "\n",
        "\n",
        "    def forward(self, x):\n",
        "        # Encoder\n",
        "        x = self.pool(F.relu(self.enc1(x)))\n",
        "        x = self.pool(F.relu(self.enc2(x)))\n",
        "        x = self.pool(F.relu(self.enc3(x)))\n",
        "        x = self.pool(F.relu(self.enc4(x))) # latent space representation\n",
        "\n",
        "        # Decoder\n",
        "        x = F.relu(self.dec1(x))\n",
        "        x = F.relu(self.dec2(x))\n",
        "        x = F.relu(self.dec3(x))\n",
        "        x = F.relu(self.dec4(x))\n",
        "        x = torch.sigmoid(self.out(x))\n",
        "\n",
        "        return x\n",
        "\n",
        "model = AutorEncoder().to(device)"
      ],
      "metadata": {
        "id": "p40vn8UgMTaA"
      },
      "execution_count": null,
      "outputs": []
    },
    {
      "cell_type": "code",
      "source": [
        "summary(model, (1, 224, 224))"
      ],
      "metadata": {
        "id": "i6W1NR4GMYqO"
      },
      "execution_count": null,
      "outputs": []
    },
    {
      "cell_type": "code",
      "source": [
        "# the loss function\n",
        "loss_fn = nn.MSELoss()\n",
        "# the optimizer\n",
        "optimizer = optim.AdamW(model.parameters(), lr=1e-2)"
      ],
      "metadata": {
        "id": "65XN8QtEMiwk"
      },
      "execution_count": null,
      "outputs": []
    },
    {
      "cell_type": "code",
      "source": [
        "def train(net, trainLoader, NUM_EPOCHS):\n",
        "    train_loss = []\n",
        "    for epoch in range(NUM_EPOCHS):\n",
        "        running_loss = 0.0\n",
        "        with tqdm(trainLoader, unit=\"batch\") as tepoch:\n",
        "            for data in tepoch:\n",
        "                tepoch.set_description(f\"Epoch {epoch+1}\")\n",
        "                img = data # we do not need the image labels\n",
        "                # add noise to the image data\n",
        "                #img_noisy = img + NOISE_FACTOR * torch.randn(img.shape)\n",
        "                # clip to make the values fall between 0 and 1\n",
        "                #img_noisy = np.clip(img_noisy, 0., 1.)\n",
        "                #img_noisy = img_noisy.to(device)\n",
        "                img = np.clip(img, 0., 1.)\n",
        "                img = img.to(device)\n",
        "                optimizer.zero_grad()\n",
        "                outputs = net(img)\n",
        "                loss = loss_fn(outputs, img)\n",
        "                # backpropagation\n",
        "                loss.backward()\n",
        "                # update the parameters\n",
        "                optimizer.step()\n",
        "                running_loss += loss.item()\n",
        "                tepoch.set_postfix(loss=loss)\n",
        "\n",
        "            loss = running_loss / len(trainLoader)\n",
        "            train_loss.append(loss)\n",
        "            # print(f\"Epoch {epoch} loss: {loss}\")\n",
        "            save_decoded_image(img.cpu().data, name='noisy{}'.format(epoch))\n",
        "            save_decoded_image(outputs.cpu().data, name='denoised{}'.format(epoch))\n",
        "\n",
        "    return train_loss\n",
        "\n",
        "\n",
        "def test_image_reconstruction(net, testloader):\n",
        "     for batch in testloader:\n",
        "        img = batch\n",
        "        # img_noisy = img + NOISE_FACTOR * torch.randn(img.shape)\n",
        "        img = np.clip(img, 0., 1.)\n",
        "        img = img.to(device)\n",
        "        outputs = net(img)\n",
        "        outputs = outputs.view(outputs.size(0), 1, 224, 224).cpu().data\n",
        "        save_image(img, 'noisy_test_input.png')\n",
        "        save_image(outputs, 'denoised_test_reconstruction.png')\n",
        "        break"
      ],
      "metadata": {
        "id": "i2yYBredM7oJ"
      },
      "execution_count": null,
      "outputs": []
    },
    {
      "cell_type": "code",
      "source": [
        "make_dir()\n",
        "train_loss = train(model, trainLoader, 5)"
      ],
      "metadata": {
        "id": "-tAsQ-z9M_vr"
      },
      "execution_count": null,
      "outputs": []
    },
    {
      "cell_type": "code",
      "source": [
        "train_loss"
      ],
      "metadata": {
        "id": "x9ID1onmRdxT"
      },
      "execution_count": null,
      "outputs": []
    },
    {
      "cell_type": "code",
      "source": [
        "plt.figure()\n",
        "plt.plot(train_loss)\n",
        "plt.title('Train Loss')\n",
        "plt.xlabel('Epochs')\n",
        "plt.ylabel('Loss')\n",
        "plt.savefig('./Saved_Images/conv_ae_fahsionmnist_loss.png')\n",
        "test_image_reconstruction(model, valLoader)"
      ],
      "metadata": {
        "id": "lXx6YW8dO5Iy"
      },
      "execution_count": null,
      "outputs": []
    },
    {
      "cell_type": "code",
      "source": [
        "import matplotlib.image as mpimg\n",
        "plt.figure(figsize=(20,20))\n",
        "img = mpimg.imread(\"/content/Saved_Images/denoised0.png\")\n",
        "img1 = mpimg.imread(\"/content/Saved_Images/noisy0.png\")\n",
        "plt.subplot(1,2,1)\n",
        "plt.imshow(img)\n",
        "plt.title('Denoising Image')\n",
        "plt.axis('off')\n",
        "\n",
        "plt.subplot(1,2,2)\n",
        "plt.imshow(img1)\n",
        "plt.title('Noisy Image')\n",
        "plt.axis('off')\n",
        "plt.show()"
      ],
      "metadata": {
        "id": "7h1501TleFYi"
      },
      "execution_count": null,
      "outputs": []
    }
  ]
}