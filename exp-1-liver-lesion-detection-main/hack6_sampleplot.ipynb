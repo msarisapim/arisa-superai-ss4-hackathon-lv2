{
  "cells": [
    {
      "cell_type": "markdown",
      "metadata": {
        "id": "QTe5MX1Vf-07"
      },
      "source": [
        "# plot sample bbox"
      ]
    },
    {
      "cell_type": "code",
      "execution_count": null,
      "metadata": {
        "id": "KfPg6oyajYPG"
      },
      "outputs": [],
      "source": [
        "import cv2\n",
        "import matplotlib.pyplot as plt\n",
        "\n",
        "# Load the image\n",
        "image_path = '1047.png'\n",
        "image = cv2.imread(image_path)\n",
        "image_rgb = cv2.cvtColor(image, cv2.COLOR_BGR2RGB)  # Convert to RGB for displaying with Matplotlib\n",
        "print(image.shape)\n",
        "\n",
        "\n",
        "# Bounding box parameters\n",
        "x_center = 0.5513888888888889\n",
        "y_center = 0.5098765432098765\n",
        "width = 0.06388888888888888 *image.shape[1]\n",
        "height = 0.0962962962962963*image.shape[0]\n",
        "print(width, height)\n",
        "\n",
        "x_center *= image.shape[1]\n",
        "y_center *= image.shape[0]\n",
        "\n",
        "# Calculate the top-left and bottom-right corners\n",
        "x1 = int(x_center - width / 2)\n",
        "y1 = int(y_center - height / 2)\n",
        "x2 = int(x_center + width / 2)\n",
        "y2 = int(y_center + height / 2)\n",
        "\n",
        "# Draw the bounding box\n",
        "cv2.rectangle(image_rgb, (x1, y1), (x2, y2), (255, 0, 0), 15)  # Draw a blue rectangle with thickness 2\n",
        "\n",
        "# Display the image with Matplotlib\n",
        "plt.imshow(image_rgb)\n",
        "plt.axis('off')  # Hide axis\n",
        "plt.show()\n"
      ]
    },
    {
      "cell_type": "code",
      "execution_count": null,
      "metadata": {
        "id": "JgAy_Vi9vbpm"
      },
      "outputs": [],
      "source": [
        "import os\n",
        "import pandas as pd\n",
        "import cv2\n",
        "import matplotlib.pyplot as plt\n",
        "\n",
        "# Load the mapping file\n",
        "#mapping_df = pd.read_excel('/content/mapping.xlsx')\n",
        "\n",
        "# Label mapping\n",
        "class_labels = ['FFC', 'FFS', 'HCC', 'cyst', 'hemangioma', 'dysplastic', 'CCA']\n",
        "\n",
        "def denormalize_bbox(img_shape, bbox):\n",
        "    img_height, img_width = img_shape[:2]\n",
        "    x_center, y_center, width, height = bbox\n",
        "    x_center *= img_width\n",
        "    y_center *= img_height\n",
        "    width *= img_width\n",
        "    height *= img_height\n",
        "    x1 = int(x_center - width / 2)\n",
        "    y1 = int(y_center - height / 2)\n",
        "    x2 = int(x_center + width / 2)\n",
        "    y2 = int(y_center + height / 2)\n",
        "    return x1, y1, x2, y2\n",
        "\n",
        "def draw_bbox(img, bbox, label):\n",
        "    x1, y1, x2, y2 = bbox\n",
        "    color = (255, 0, 0)  # Red color for the bounding box\n",
        "    thickness = 15\n",
        "    img = cv2.rectangle(img, (x1, y1), (x2, y2), color, thickness)\n",
        "    img = cv2.putText(img, label, (x1, y1 - 10), cv2.FONT_HERSHEY_SIMPLEX, 0.9, color, 2)\n",
        "    return img\n",
        "\n",
        "def visualize_yolo_annotations(image_path, annotation_path, class_labels):\n",
        "    img = cv2.imread(image_path)\n",
        "    with open(annotation_path, 'r') as file:\n",
        "        annotations = file.readlines()\n",
        "\n",
        "    for annotation in annotations:\n",
        "        parts = annotation.strip().split()\n",
        "        class_id = int(parts[0])\n",
        "        bbox = list(map(float, parts[1:]))\n",
        "        bbox = denormalize_bbox(img.shape, bbox)\n",
        "        img = draw_bbox(img, bbox, class_labels[class_id])\n",
        "\n",
        "    # Convert BGR to RGB for displaying with matplotlib\n",
        "    img_rgb = cv2.cvtColor(img, cv2.COLOR_BGR2RGB)\n",
        "    plt.imshow(img_rgb)\n",
        "    plt.axis('off')\n",
        "    plt.show()"
      ]
    },
    {
      "cell_type": "code",
      "execution_count": null,
      "metadata": {
        "id": "36IEsO4ove04"
      },
      "outputs": [],
      "source": [
        "image_path = '/content/1047.png'\n",
        "annotation_path = '/content/1047.txt'\n",
        "class_labels = ['FFC','FFS','HCC','cyst','hemangioma','dysplastic','CCA']  # Replace with your actual class labels\n",
        "visualize_yolo_annotations(image_path, annotation_path, class_labels)"
      ]
    },
    {
      "cell_type": "markdown",
      "metadata": {
        "id": "RW-aElVIwlkr"
      },
      "source": [
        "# check p'Atom label"
      ]
    },
    {
      "cell_type": "code",
      "execution_count": null,
      "metadata": {
        "id": "PBWPCSZjwzi9"
      },
      "outputs": [],
      "source": [
        "! pip install -q kaggle"
      ]
    },
    {
      "cell_type": "code",
      "execution_count": null,
      "metadata": {
        "id": "mKOYXVhSwo-o"
      },
      "outputs": [],
      "source": [
        "import pandas as pd\n",
        "import glob"
      ]
    },
    {
      "cell_type": "code",
      "execution_count": null,
      "metadata": {
        "id": "-Q5ubENNw3cp"
      },
      "outputs": [],
      "source": [
        "from google.colab import userdata\n",
        "import os\n",
        "\n",
        "os.environ[\"KAGGLE_KEY\"] = userdata.get('key')\n",
        "os.environ[\"KAGGLE_USERNAME\"] = userdata.get('username')\n"
      ]
    },
    {
      "cell_type": "code",
      "execution_count": null,
      "metadata": {
        "id": "5HSVcOn5w-s9"
      },
      "outputs": [],
      "source": [
        "!kaggle competitions download -c liver-ultrasound-detection"
      ]
    },
    {
      "cell_type": "code",
      "execution_count": null,
      "metadata": {
        "colab": {
          "background_save": true
        },
        "id": "tFp3dN6-xI8A"
      },
      "outputs": [],
      "source": [
        "!unzip /content/liver-ultrasound-detection.zip"
      ]
    },
    {
      "cell_type": "code",
      "execution_count": null,
      "metadata": {
        "id": "oIVwlsmEzCBu"
      },
      "outputs": [],
      "source": [
        "root_train_path = \"/content/train/train/images/\"\n",
        "root_val_path = \"/content/val/val/images/\"\n",
        "\n",
        "all_path_train = glob.glob(\"/content/train/train/images/*\")\n",
        "\n",
        "#all_path_train[:5]\n",
        "all_path_train = [i.replace(root_train_path, \"\") for i in all_path_train]\n",
        "\n",
        "all_path_val = glob.glob(\"/content/val/val/images/*\")\n",
        "all_path_val = [i.replace(root_val_path, \"\") for i in all_path_val]"
      ]
    },
    {
      "cell_type": "code",
      "execution_count": null,
      "metadata": {
        "id": "ZigrNSLqPMQx"
      },
      "outputs": [],
      "source": [
        "/content/train/train/images/9523.jpg"
      ]
    },
    {
      "cell_type": "code",
      "execution_count": null,
      "metadata": {
        "id": "NrQtbHDS0N0s"
      },
      "outputs": [],
      "source": [
        "all_path_train[:5],all_path_val[:5]"
      ]
    },
    {
      "cell_type": "code",
      "execution_count": null,
      "metadata": {
        "id": "owPGy18v0pyd"
      },
      "outputs": [],
      "source": [
        "labels_patom = pd.read_csv(\"/content/mapping2.csv\")\n",
        "labels_patom"
      ]
    },
    {
      "cell_type": "code",
      "execution_count": null,
      "metadata": {
        "id": "OUZ5JDpM00hs"
      },
      "outputs": [],
      "source": [
        "counter = 0\n",
        "for i in range(len(labels_patom)):\n",
        "    path = labels_patom.loc[i, \"Image File\"]\n",
        "    if(path in all_path_train):\n",
        "        if(labels_patom.loc[i, \"PATH\"]==\"Train\"):\n",
        "            counter+=1\n",
        "    if(path in all_path_val):\n",
        "        if(labels_patom.loc[i, \"PATH\"]==\"Val\"):\n",
        "            counter+=1"
      ]
    },
    {
      "cell_type": "code",
      "execution_count": null,
      "metadata": {
        "id": "jnQc63EH1lMm"
      },
      "outputs": [],
      "source": [
        "counter"
      ]
    },
    {
      "cell_type": "code",
      "execution_count": null,
      "metadata": {
        "id": "BofLd0-F5tVC"
      },
      "outputs": [],
      "source": [
        "counter = 0\n",
        "for i in range(len(labels_patom)):\n",
        "    path = labels_patom.loc[i, \"Image File\"]\n",
        "    if(path in all_path_train):\n",
        "        labels_patom.loc[i, \"PATH\"]=\"Train\"\n",
        "    if(path in all_path_val):\n",
        "        labels_patom.loc[i, \"PATH\"]=\"Val\""
      ]
    },
    {
      "cell_type": "markdown",
      "metadata": {
        "id": "LpUHECfkgFFW"
      },
      "source": [
        "# explore mobile image"
      ]
    },
    {
      "cell_type": "code",
      "execution_count": null,
      "metadata": {
        "id": "5h-b0Yz8gI7d"
      },
      "outputs": [],
      "source": [
        "! pip install -q kaggle"
      ]
    },
    {
      "cell_type": "code",
      "execution_count": null,
      "metadata": {
        "id": "4Ar1vsVEgMit"
      },
      "outputs": [],
      "source": [
        "import pandas as pd\n",
        "import glob"
      ]
    },
    {
      "cell_type": "code",
      "execution_count": null,
      "metadata": {
        "id": "3tPP8tglgOVS"
      },
      "outputs": [],
      "source": [
        "from google.colab import userdata\n",
        "import os\n",
        "\n",
        "os.environ[\"KAGGLE_KEY\"] = userdata.get('key')\n",
        "os.environ[\"KAGGLE_USERNAME\"] = userdata.get('username')"
      ]
    },
    {
      "cell_type": "code",
      "execution_count": null,
      "metadata": {
        "id": "PZnrgY3ngR_q"
      },
      "outputs": [],
      "source": [
        "!kaggle competitions download -c liver-ultrasound-detection"
      ]
    },
    {
      "cell_type": "code",
      "execution_count": null,
      "metadata": {
        "id": "3Ys8aKwngYFg"
      },
      "outputs": [],
      "source": [
        "!unzip /content/liver-ultrasound-detection.zip"
      ]
    },
    {
      "cell_type": "code",
      "execution_count": null,
      "metadata": {
        "id": "DRrLsE5IGYF7"
      },
      "outputs": [],
      "source": [
        "f = open(txt_train_path[0], \"r\")\n",
        "x = f.read().replace('\\n', '').split(\" \")\n",
        "x"
      ]
    },
    {
      "cell_type": "code",
      "execution_count": null,
      "metadata": {
        "id": "92kp0Y-AHJvh"
      },
      "outputs": [],
      "source": [
        "import glob\n",
        "txt_train_path = glob.glob(\"/content/val/val/annotations/*\")\n",
        "txt_train_path"
      ]
    },
    {
      "cell_type": "code",
      "execution_count": null,
      "metadata": {
        "id": "Fwqufke1Hq_i"
      },
      "outputs": [],
      "source": [
        "!mkdir new_val_annotations"
      ]
    },
    {
      "cell_type": "code",
      "execution_count": null,
      "metadata": {
        "id": "AduxvrWHKQ_M"
      },
      "outputs": [],
      "source": [
        "!pip install tqdm"
      ]
    },
    {
      "cell_type": "code",
      "execution_count": null,
      "metadata": {
        "id": "EVfK0JVqIAGd"
      },
      "outputs": [],
      "source": [
        "from tqdm import tqdm\n",
        "root_path = \"/content/new_val_annotations/\"\n",
        "\n",
        "for idx in tqdm(range(len(txt_train_path))):\n",
        "    path = txt_train_path[idx]\n",
        "    f = open(path, \"r\")\n",
        "    x = f.read().replace('\\n', '').split(\" \")\n",
        "    txt = f\"{x[0]} {x[1]} {x[2]} {float(x[3])*2} {float(x[4])*2}\"\n",
        "    real_path = path.replace(\"/content/val/val/annotations/\", \"\")\n",
        "    f1 = open(root_path+real_path, \"a\")\n",
        "    f1.write(txt)\n",
        "    f1.close()\n"
      ]
    },
    {
      "cell_type": "code",
      "execution_count": null,
      "metadata": {
        "id": "U3MBkLceJ__M"
      },
      "outputs": [],
      "source": [
        "import glob\n",
        "paths = glob.glob(\"/content/new_val_annotations/*\")\n",
        "paths"
      ]
    },
    {
      "cell_type": "code",
      "execution_count": null,
      "metadata": {
        "id": "woBIc7bgKyuy"
      },
      "outputs": [],
      "source": [
        "!zip -r /content/new_val_annotations.zip /content/new_val_annotations"
      ]
    },
    {
      "cell_type": "markdown",
      "metadata": {
        "id": "ksozDC4KGTtf"
      },
      "source": [
        "# map yeah"
      ]
    },
    {
      "cell_type": "code",
      "execution_count": null,
      "metadata": {
        "id": "m2CAIhtHj92A"
      },
      "outputs": [],
      "source": [
        "mapping_csv = pd.read_csv(\"/content/mapping2.csv\")"
      ]
    },
    {
      "cell_type": "code",
      "execution_count": null,
      "metadata": {
        "id": "MeBLLTmPkzBt"
      },
      "outputs": [],
      "source": [
        "mapping_csv"
      ]
    },
    {
      "cell_type": "code",
      "execution_count": null,
      "metadata": {
        "id": "LZfDv4VSkaDP"
      },
      "outputs": [],
      "source": [
        "val_path = glob.glob(\"/content/val/val/images/*\")\n",
        "val_path_img = [i.replace(\"/content/val/val/images/\", \"\") for i in val_path]\n",
        "val_path_img[:5]"
      ]
    },
    {
      "cell_type": "code",
      "execution_count": null,
      "metadata": {
        "id": "sJyFsvPZkrKU"
      },
      "outputs": [],
      "source": [
        "counter = 0\n",
        "\n",
        "for j in range(len(mapping_csv)):\n",
        "    if(mapping_csv.loc[j, \"PATH\"]==\"Val\" and mapping_csv.loc[j, \"Source\"]==\"mobile\"):\n",
        "        counter+=1"
      ]
    },
    {
      "cell_type": "code",
      "execution_count": null,
      "metadata": {
        "id": "9XDB9bOFlVd3"
      },
      "outputs": [],
      "source": [
        "counter"
      ]
    },
    {
      "cell_type": "code",
      "execution_count": null,
      "metadata": {
        "id": "WDHkW8hZmDY8"
      },
      "outputs": [],
      "source": [
        "from PIL import Image"
      ]
    },
    {
      "cell_type": "code",
      "execution_count": null,
      "metadata": {
        "id": "MxcBNnkhmG3T"
      },
      "outputs": [],
      "source": [
        "counter = 0\n",
        "\n",
        "for j in range(len(mapping_csv)):\n",
        "    if(mapping_csv.loc[j, \"PATH\"]==\"Val\" and mapping_csv.loc[j, \"Source\"]==\"mobile\"):\n",
        "\n",
        "        counter+=1"
      ]
    },
    {
      "cell_type": "markdown",
      "metadata": {
        "id": "rz9fMWTvVXv7"
      },
      "source": [
        "# modify submission expanding bbox"
      ]
    },
    {
      "cell_type": "code",
      "execution_count": null,
      "metadata": {
        "id": "HMTfJmklVd6O"
      },
      "outputs": [],
      "source": [
        "import pandas as pd\n",
        "import ast"
      ]
    },
    {
      "cell_type": "code",
      "execution_count": null,
      "metadata": {
        "id": "5yioDlbMVf6I"
      },
      "outputs": [],
      "source": [
        "submission = pd.read_csv(\"/content/RT-DETR-L-Cof05.csv\")\n",
        "x = ast.literal_eval(submission[\"Annotation\"][0])\n",
        "type(x[0][0])"
      ]
    },
    {
      "cell_type": "code",
      "execution_count": null,
      "metadata": {
        "id": "nwl1EViMWf8P"
      },
      "outputs": [],
      "source": [
        "submission"
      ]
    },
    {
      "cell_type": "code",
      "execution_count": null,
      "metadata": {
        "id": "kLSOIflgWKj9"
      },
      "outputs": [],
      "source": [
        "for i in range(len(submission)):\n",
        "    labels = submission[\"Label\"][i]\n",
        "    if(labels!='[]'):\n",
        "        ls = ast.literal_eval(submission[\"Annotation\"][i])\n",
        "        ls_new = []\n",
        "        for idx in range(len(ls)):\n",
        "            sub_ls = ls[idx]\n",
        "            sub_ls[2] *= 1.5\n",
        "            sub_ls[3] *= 1.5\n",
        "            ls_new.append(sub_ls)\n",
        "        submission[\"Annotation\"][i] = ls_new"
      ]
    },
    {
      "cell_type": "code",
      "execution_count": null,
      "metadata": {
        "id": "ihij7FV8XWpV"
      },
      "outputs": [],
      "source": [
        "submission.to_csv(\"modify-1.csv\", index=False)"
      ]
    },
    {
      "cell_type": "markdown",
      "metadata": {
        "id": "JMnTAN8qb3yN"
      },
      "source": [
        "# make submission"
      ]
    },
    {
      "cell_type": "code",
      "execution_count": null,
      "metadata": {
        "id": "kSMNeAl6b6VL"
      },
      "outputs": [],
      "source": [
        "import torch\n",
        "\n",
        "print(f'Setup complete. Using torch {torch.__version__}')\n",
        "print(f\"{torch.cuda.get_device_properties(0).name if torch.cuda.is_available() else 'CPU'}\")"
      ]
    },
    {
      "cell_type": "code",
      "execution_count": null,
      "metadata": {
        "id": "_kLQIh_kcWY9"
      },
      "outputs": [],
      "source": [
        "!pip install -q git+https://github.com/THU-MIG/yolov10.git"
      ]
    },
    {
      "cell_type": "code",
      "execution_count": null,
      "metadata": {
        "id": "XFmm3aopdaz_"
      },
      "outputs": [],
      "source": [
        "%pip install ultralytics\n",
        "\n",
        "import ultralytics\n",
        "ultralytics.checks()"
      ]
    },
    {
      "cell_type": "code",
      "execution_count": null,
      "metadata": {
        "id": "u8-U8aIjdhTW"
      },
      "outputs": [],
      "source": [
        "import pandas as pd\n",
        "import cv2\n",
        "import json\n",
        "import numpy as np\n",
        "\n",
        "df = pd.read_excel('/content/mapping.xlsx')\n",
        "df"
      ]
    },
    {
      "cell_type": "code",
      "execution_count": null,
      "metadata": {
        "id": "rbPT9YM2fJEU"
      },
      "outputs": [],
      "source": [
        "!pip install gdown"
      ]
    },
    {
      "cell_type": "code",
      "execution_count": null,
      "metadata": {
        "id": "LbcE0m_-esm-"
      },
      "outputs": [],
      "source": [
        " !gdown 1-9VhoLpTYHhR_5-NQAdop-yM7PZH0E6x"
      ]
    },
    {
      "cell_type": "code",
      "execution_count": null,
      "metadata": {
        "id": "gJRDlZuVgADj"
      },
      "outputs": [],
      "source": [
        "!unzip /content/smooth_clahe_test.zip"
      ]
    },
    {
      "cell_type": "code",
      "execution_count": null,
      "metadata": {
        "id": "49y6dVbXdl6f"
      },
      "outputs": [],
      "source": [
        "import os\n",
        "\n",
        "images_dir = '/content/images'\n",
        "images_files = sorted([f for f in os.listdir(images_dir) if f.endswith('.jpg')])\n",
        "len(images_files)"
      ]
    },
    {
      "cell_type": "code",
      "execution_count": null,
      "metadata": {
        "id": "5dkBv6ChgpgF"
      },
      "outputs": [],
      "source": [
        "from ultralytics import RTDETR\n",
        "from ultralytics import YOLOv10\n",
        "\n",
        "weights_path = '/content/best.pt'\n",
        "model = YOLOv10(weights_path)\n",
        "\n",
        "def detect_objects(image_path, model):\n",
        "    results = model(source=image_path, conf=0.65)\n",
        "    boxes = results[0].boxes.xyxy[:, :4].cpu().numpy()\n",
        "    classes = results[0].boxes.cls.cpu().numpy()\n",
        "    scores = results[0].boxes.conf.cpu().numpy()\n",
        "    boxes_n = []\n",
        "    for boxe in boxes:\n",
        "      boxe = [float(i) for i in boxe]\n",
        "      boxes_n.append(boxe)\n",
        "    classes = [int(classe) for classe in classes]\n",
        "    scores = [round(score, 4) for score in scores]\n",
        "    return boxes_n, classes, scores\n",
        "\n",
        "df = pd.read_csv('/content/sample_submission.csv')\n",
        "df"
      ]
    },
    {
      "cell_type": "code",
      "execution_count": null,
      "metadata": {
        "id": "GeROalJXiF3C"
      },
      "outputs": [],
      "source": [
        "help(model)"
      ]
    },
    {
      "cell_type": "code",
      "execution_count": null,
      "metadata": {
        "id": "waJHPeLJiKYj"
      },
      "outputs": [],
      "source": [
        "model.predict(source='/content/images/18999.jpg', conf=0.5)"
      ]
    },
    {
      "cell_type": "code",
      "execution_count": null,
      "metadata": {
        "id": "NotDxToYhkaX"
      },
      "outputs": [],
      "source": [
        "import glob\n",
        "all_path = glob.glob(\"/content/images/*\")\n",
        "print('/content/images/18999.jpg' in all_path)"
      ]
    },
    {
      "cell_type": "code",
      "execution_count": null,
      "metadata": {
        "id": "1u8fndD9hGdX"
      },
      "outputs": [],
      "source": [
        "from tqdm.auto import tqdm\n",
        "\n",
        "b = []\n",
        "c= []\n",
        "counter = 0\n",
        "\n",
        "for path in tqdm(df['Image File']):\n",
        "    image_path = '/content/images/{0}.jpg'.format(path)\n",
        "    print(image_path)\n",
        "    boxes, classes, scores = detect_objects(image_path, model)\n",
        "    b.append(boxes)\n",
        "    c.append(classes)\n",
        "\n",
        "\n",
        "df['Annotation'] = b\n",
        "df['Label'] = c\n",
        "df"
      ]
    },
    {
      "cell_type": "code",
      "execution_count": null,
      "metadata": {
        "id": "uJJlU9mJp_eh"
      },
      "outputs": [],
      "source": [
        "import numpy as np"
      ]
    },
    {
      "cell_type": "code",
      "execution_count": null,
      "metadata": {
        "id": "IAMvldpkpx4E"
      },
      "outputs": [],
      "source": [
        "uni = []\n",
        "\n",
        "for j in range(len(df)):\n",
        "    if(df[\"Annotation\"][j] not in uni):\n",
        "        uni.append(df[\"Annotation\"][j])"
      ]
    },
    {
      "cell_type": "code",
      "execution_count": null,
      "metadata": {
        "id": "P9Qzv994qhj1"
      },
      "outputs": [],
      "source": [
        "uni"
      ]
    },
    {
      "cell_type": "markdown",
      "metadata": {
        "id": "ERj-NMtPuc2s"
      },
      "source": [
        "# modify bbox in range"
      ]
    },
    {
      "cell_type": "code",
      "execution_count": null,
      "metadata": {
        "id": "ivKe-NqYvMS8"
      },
      "outputs": [],
      "source": [
        "# test concept\n",
        "from PIL import Image\n",
        "import matplotlib.pyplot as plt"
      ]
    },
    {
      "cell_type": "code",
      "execution_count": null,
      "metadata": {
        "id": "juptiAcN2deT"
      },
      "outputs": [],
      "source": [
        "f = open(\"/content/1047.txt\", \"r\")\n",
        "txt = f.read().replace('\\n', '').split(' ')\n",
        "txt"
      ]
    },
    {
      "cell_type": "code",
      "execution_count": null,
      "metadata": {
        "id": "06VhaNgQ49W3"
      },
      "outputs": [],
      "source": [
        "img = Image.open(\"/content/1047.jpg\")\n",
        "img.size"
      ]
    },
    {
      "cell_type": "code",
      "execution_count": null,
      "metadata": {
        "id": "mqgsd3f43Fw9"
      },
      "outputs": [],
      "source": [
        "x_center, y_center = float(txt[1]), float(txt[2])\n",
        "w_box, h_box = float(txt[3]), float(txt[4])\n",
        "w, h = img.size\n",
        "\n",
        "x_center *= w\n",
        "y_center *= h\n",
        "w_box *= w\n",
        "h_box *= h\n",
        "\n",
        "x_center, y_center, w_box, h_box"
      ]
    },
    {
      "cell_type": "code",
      "execution_count": null,
      "metadata": {
        "id": "HpFyoPIV6KTX"
      },
      "outputs": [],
      "source": [
        "ww = w_box/2\n",
        "hh = h_box/2\n",
        "\n",
        "xmin, xmax = x_center-ww, x_center+ww\n",
        "ymin, ymax = y_center-hh, y_center+hh\n",
        "\n",
        "xmin, xmax, ymin, ymax"
      ]
    },
    {
      "cell_type": "code",
      "execution_count": null,
      "metadata": {
        "id": "ONiEFv7m7AXD"
      },
      "outputs": [],
      "source": [
        "implot = plt.imshow(img)\n",
        "\n",
        "# put a red dot, size 40, at 2 locations:\n",
        "plt.scatter(x=[xmin, xmin, xmax, xmax], y=[ymin, ymax, ymin, ymax], c='r', s=20)\n",
        "\n",
        "plt.show()"
      ]
    },
    {
      "cell_type": "code",
      "execution_count": null,
      "metadata": {
        "id": "3K7iVR9T7Yiu"
      },
      "outputs": [],
      "source": [
        "increased_ratio = 2\n",
        "\n",
        "nw_box, nh_box = float(txt[3])*increased_ratio, float(txt[4])*increased_ratio\n",
        "\n",
        "nw_box *= w\n",
        "nh_box *= h\n",
        "\n",
        "wn = nw_box/2\n",
        "hn = nh_box/2\n",
        "\n",
        "nxmin, nxmax = x_center-wn, x_center+wn\n",
        "nymin, nymax = y_center-hn, y_center+hn\n",
        "\n",
        "if(nxmin<0):\n",
        "    nxmin=0\n",
        "if(nxmax>w):\n",
        "    nxmax=w\n",
        "if(nymin<0):\n",
        "    nymin=0\n",
        "if(nymax>h):\n",
        "    nymax=h\n",
        "\n",
        "nxmin, nxmax, nymin, nymax"
      ]
    },
    {
      "cell_type": "code",
      "execution_count": null,
      "metadata": {
        "id": "KrFYDXJq8V1G"
      },
      "outputs": [],
      "source": [
        "implot = plt.imshow(img)\n",
        "\n",
        "# put a red dot, size 40, at 2 locations:\n",
        "plt.scatter(x=[nxmin, nxmin, nxmax, nxmax], y=[nymin, nymax, nymin, nymax], c='r', s=20)\n",
        "\n",
        "plt.show()"
      ]
    },
    {
      "cell_type": "code",
      "execution_count": null,
      "metadata": {
        "id": "_u7L9gJz9hlM"
      },
      "outputs": [],
      "source": [
        "# recenter\n",
        "nx_center = (nxmin+nxmax)/2\n",
        "ny_center = (nymin+nymax)/2\n",
        "nx_center, ny_center"
      ]
    },
    {
      "cell_type": "code",
      "execution_count": null,
      "metadata": {
        "id": "g6deGZZc-QvK"
      },
      "outputs": [],
      "source": [
        "def expandbbox(x_center, y_center, w_box, h_box, w, h):\n",
        "    ratio = 2\n",
        "    nw_box, nh_box = w_box*ratio, h_box*ratio\n",
        "    #print(nw_box, nh_box)\n",
        "\n",
        "    nw_box *= w\n",
        "    nh_box *= h\n",
        "\n",
        "    #print(nw_box, nh_box)\n",
        "\n",
        "    wn = nw_box/2\n",
        "    hn = nh_box/2\n",
        "    # print(x_center, y_center)\n",
        "    # print(wn, hn)\n",
        "\n",
        "    nxmin, nxmax = x_center-wn, x_center+wn\n",
        "    nymin, nymax = y_center-hn, y_center+hn\n",
        "\n",
        "    if(nxmin<0):\n",
        "        nxmin=0\n",
        "    if(nxmax>w):\n",
        "        nxmax=w\n",
        "    if(nymin<0):\n",
        "        nymin=0\n",
        "    if(nymax>h):\n",
        "        nymax=h\n",
        "    #print(nxmin, nxmax, nymin, nymax)\n",
        "\n",
        "    nx_center = (nxmin+nxmax)/2\n",
        "    ny_center = (nymin+nymax)/2\n",
        "\n",
        "    return [nx_center, ny_center, nw_box, nh_box]"
      ]
    },
    {
      "cell_type": "code",
      "execution_count": null,
      "metadata": {
        "id": "Ptg9Z4fM_eNO"
      },
      "outputs": [],
      "source": [
        "x_center, y_center = float(txt[1]), float(txt[2])\n",
        "w_box, h_box = float(txt[3]), float(txt[4])\n",
        "w, h = img.size\n",
        "x_center *= w\n",
        "y_center *= h\n",
        "#print(w_box, h_box)\n",
        "new_ans = expandbbox(x_center, y_center, w_box, h_box, w, h)\n",
        "new_ans"
      ]
    },
    {
      "cell_type": "code",
      "execution_count": null,
      "metadata": {
        "id": "UHN1IbWgB3uS"
      },
      "outputs": [],
      "source": [
        "import pandas as pd\n",
        "import ast\n",
        "submission = pd.read_csv(\"/content/RT-DETR-L-Cof05.csv\")"
      ]
    },
    {
      "cell_type": "code",
      "execution_count": null,
      "metadata": {
        "id": "riha09M_CQuD"
      },
      "outputs": [],
      "source": [
        "submission"
      ]
    },
    {
      "cell_type": "code",
      "execution_count": null,
      "metadata": {
        "id": "IimCITnpdk9i"
      },
      "outputs": [],
      "source": [
        "!pip install tqdm"
      ]
    },
    {
      "cell_type": "code",
      "execution_count": null,
      "metadata": {
        "colab": {
          "background_save": true
        },
        "id": "1UbogExxCHnc"
      },
      "outputs": [],
      "source": [
        "from tqdm import tqdm\n",
        "for i in tqdm(range(len(submission))):\n",
        "    ls = ast.literal_eval(submission[\"Annotation\"][i])\n",
        "    new_ls = []\n",
        "\n",
        "    path = \"/content/test/test/images/\"+str(submission[\"Image File\"][i])+\".jpg\"\n",
        "    img = Image.open(path)\n",
        "\n",
        "\n",
        "    for sub_ls in ls:\n",
        "        newls = sub_ls.copy()\n",
        "        w, h = img.size\n",
        "        x_center, y_center = newls[0]/w, newls[1]/h\n",
        "        w_box, h_box = newls[2]/w, newls[3]/h\n",
        "        # x_center *= w\n",
        "        # y_center *= h\n",
        "        new_ans = expandbbox(x_center, y_center, w_box, h_box, w, h)\n",
        "        print(new_ans)\n",
        "        new_ls.append(new_ans)\n",
        "    break\n",
        "\n",
        "    submission[\"Annotation\"][i] = new_ls"
      ]
    },
    {
      "cell_type": "code",
      "execution_count": null,
      "metadata": {
        "id": "fvXsRn4Id4OT"
      },
      "outputs": [],
      "source": [
        "submission"
      ]
    },
    {
      "cell_type": "code",
      "execution_count": null,
      "metadata": {
        "id": "od34S5mfd7w2"
      },
      "outputs": [],
      "source": [
        "submission.to_csv(\"submission-modify.csv\", index=False)"
      ]
    }
  ],
  "metadata": {
    "accelerator": "GPU",
    "colab": {
      "collapsed_sections": [
        "QTe5MX1Vf-07",
        "RW-aElVIwlkr",
        "ksozDC4KGTtf",
        "rz9fMWTvVXv7",
        "JMnTAN8qb3yN"
      ],
      "gpuType": "L4",
      "machine_shape": "hm",
      "provenance": []
    },
    "kernelspec": {
      "display_name": "Python 3",
      "name": "python3"
    },
    "language_info": {
      "name": "python"
    }
  },
  "nbformat": 4,
  "nbformat_minor": 0
}