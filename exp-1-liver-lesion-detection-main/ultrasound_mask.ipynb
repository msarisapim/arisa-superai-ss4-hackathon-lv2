{
  "nbformat": 4,
  "nbformat_minor": 0,
  "metadata": {
    "colab": {
      "provenance": [],
      "machine_shape": "hm"
    },
    "kernelspec": {
      "name": "python3",
      "display_name": "Python 3"
    },
    "language_info": {
      "name": "python"
    }
  },
  "cells": [
    {
      "cell_type": "code",
      "source": [
        "from google.colab import drive\n",
        "drive.mount('/content/drive')"
      ],
      "metadata": {
        "id": "HEKx_FDx_B39"
      },
      "execution_count": null,
      "outputs": []
    },
    {
      "cell_type": "code",
      "source": [
        "!cp '/content/drive/MyDrive/Colab Notebooks/Hackathon_LV2_ONLINE#2/Medical AI  OCR Hackathon/Liver Lesion/liver-ultrasound-detection.zip' '/content/liver-ultrasound-detection.zip'"
      ],
      "metadata": {
        "id": "pB586KZZAmbU"
      },
      "execution_count": null,
      "outputs": []
    },
    {
      "cell_type": "code",
      "source": [
        "!cp '/content/drive/MyDrive/Colab Notebooks/Hackathon_LV2_ONLINE#2/Medical AI  OCR Hackathon/Liver Lesion/mapping_withPATH.csv' '/content/mapping_withPATH.csv'"
      ],
      "metadata": {
        "id": "FAKiIZtiAtN8"
      },
      "execution_count": null,
      "outputs": []
    },
    {
      "cell_type": "code",
      "source": [
        "!unzip /content/liver-ultrasound-detection.zip && rm -rf /content/liver-ultrasound-detection.zip"
      ],
      "metadata": {
        "collapsed": true,
        "id": "0-MTzQ0eAniB"
      },
      "execution_count": null,
      "outputs": []
    },
    {
      "cell_type": "markdown",
      "source": [
        "# Ultrasound test"
      ],
      "metadata": {
        "id": "C_d10WzC2rVI"
      }
    },
    {
      "cell_type": "code",
      "source": [
        "import cv2\n",
        "import numpy as np\n",
        "import matplotlib.pyplot as plt\n",
        "\n",
        "def display_image(image, title, cmap='gray'):\n",
        "    \"\"\"Displays an image using matplotlib.\"\"\"\n",
        "    plt.imshow(image, cmap=cmap)\n",
        "    plt.title(title)\n",
        "    plt.axis('off')\n",
        "    plt.show()\n",
        "\n",
        "# Load the image\n",
        "image_path = '/content/test/test/images/10001.jpg' # ultrasound\n",
        "image = cv2.imread(image_path)\n",
        "display_image(image, 'image')\n",
        "\n",
        "# Convert to grayscale\n",
        "gray = cv2.cvtColor(image, cv2.COLOR_BGR2GRAY)\n",
        "display_image(gray, 'gray')\n",
        "\n",
        "\n",
        "# Apply binary threshold\n",
        "ret, mask = cv2.threshold(gray, 0, 255, cv2.THRESH_BINARY )# for ultrasound\n",
        "\n",
        "# Create a kernel for morphological operations\n",
        "kernel = np.ones((5, 5), np.uint8)\n",
        "\n",
        "# Apply opening operation to remove small noise\n",
        "opened_mask = cv2.morphologyEx(mask, cv2.MORPH_OPEN, kernel)\n",
        "\n",
        "# Find all connected components\n",
        "num_labels, labels, stats, centroids = cv2.connectedComponentsWithStats(opened_mask, connectivity=8)\n",
        "\n",
        "# Find the largest connected component excluding the background\n",
        "largest_component = 1 + np.argmax(stats[1:, cv2.CC_STAT_AREA])\n",
        "largest_mask = np.zeros_like(opened_mask)\n",
        "largest_mask[labels == largest_component] = 255\n",
        "\n",
        "# Fill holes using flood fill\n",
        "im_floodfill = largest_mask.copy()\n",
        "h, w = im_floodfill.shape[:2]\n",
        "mask_floodfill = np.zeros((h+2, w+2), np.uint8)\n",
        "cv2.floodFill(im_floodfill, mask_floodfill, (0,0), 255)\n",
        "filled_mask = cv2.bitwise_or(largest_mask, cv2.bitwise_not(im_floodfill))\n",
        "\n",
        "# Apply the mask to the original image\n",
        "masked_image = cv2.bitwise_and(image, image, mask=filled_mask)\n",
        "display_image(masked_image, 'Masked Image', cmap=None)"
      ],
      "metadata": {
        "id": "NL-a1EZCCfDX"
      },
      "execution_count": null,
      "outputs": []
    },
    {
      "cell_type": "markdown",
      "source": [
        "-----------"
      ],
      "metadata": {
        "id": "thtOFIp3XDHb"
      }
    },
    {
      "cell_type": "markdown",
      "source": [
        "# Generated mobile-like test"
      ],
      "metadata": {
        "id": "qXa9n5A6XEc4"
      }
    },
    {
      "cell_type": "code",
      "source": [
        "# Load the image\n",
        "image_path = '/content/102890_fake.png' #generated mobile-like\n",
        "image = cv2.imread(image_path)\n",
        "display_image(image, 'image')\n",
        "\n",
        "# Convert to grayscale\n",
        "gray = cv2.cvtColor(image, cv2.COLOR_BGR2GRAY)\n",
        "display_image(gray, 'gray')\n",
        "\n",
        "# For generated images\n",
        "adapthresh = cv2.adaptiveThreshold(gray, 255, cv2.ADAPTIVE_THRESH_MEAN_C,\n",
        "                                          cv2.THRESH_BINARY, 199, 2)\n",
        "display_image(adapthresh, 'adaptive thresh')\n",
        "\n",
        "ret, mask = cv2.threshold(adapthresh, 0, 255, cv2.THRESH_BINARY )# for generated mobile-like\n",
        "\n",
        "# Create a kernel for morphological operations\n",
        "kernel = np.ones((5, 5), np.uint8)\n",
        "\n",
        "# Apply opening operation to remove small noise\n",
        "opened_mask = cv2.morphologyEx(mask, cv2.MORPH_OPEN, kernel)\n",
        "\n",
        "# Find all connected components\n",
        "num_labels, labels, stats, centroids = cv2.connectedComponentsWithStats(opened_mask, connectivity=8)\n",
        "\n",
        "# Find the largest connected component excluding the background\n",
        "largest_component = 1 + np.argmax(stats[1:, cv2.CC_STAT_AREA])\n",
        "largest_mask = np.zeros_like(opened_mask)\n",
        "largest_mask[labels == largest_component] = 255\n",
        "\n",
        "# Fill holes using flood fill\n",
        "im_floodfill = largest_mask.copy()\n",
        "h, w = im_floodfill.shape[:2]\n",
        "mask_floodfill = np.zeros((h+2, w+2), np.uint8)\n",
        "cv2.floodFill(im_floodfill, mask_floodfill, (0,0), 255)\n",
        "filled_mask = cv2.bitwise_or(largest_mask, cv2.bitwise_not(im_floodfill))\n",
        "\n",
        "# Smooth the left edge\n",
        "contours, _ = cv2.findContours(filled_mask, cv2.RETR_EXTERNAL, cv2.CHAIN_APPROX_SIMPLE)\n",
        "for contour in contours:\n",
        "    if cv2.contourArea(contour) > 500:  # Only consider significant contours\n",
        "        epsilon = 0.01 * cv2.arcLength(contour, True)\n",
        "        approx = cv2.approxPolyDP(contour, epsilon, True)\n",
        "        hull = cv2.convexHull(approx)\n",
        "        cv2.drawContours(filled_mask, [hull], 0, (255), thickness=cv2.FILLED)\n",
        "\n",
        "\n",
        "# Apply the mask to the original image\n",
        "masked_image = cv2.bitwise_and(image, image, mask=filled_mask)\n",
        "display_image(masked_image, 'Masked Image', cmap=None)"
      ],
      "metadata": {
        "id": "tdbF9jYiXIdY"
      },
      "execution_count": null,
      "outputs": []
    },
    {
      "cell_type": "markdown",
      "source": [
        "-----------"
      ],
      "metadata": {
        "id": "oL3hAd8gPXXU"
      }
    },
    {
      "cell_type": "markdown",
      "source": [
        "# Mobile test"
      ],
      "metadata": {
        "id": "bGnnTEX4R3F4"
      }
    },
    {
      "cell_type": "code",
      "source": [
        "# img path\n",
        "# image_path = '/content/test/test/images/10001.jpg' # ultrasound\n",
        "image_path = '/content/102890_fake.png' #generated mobile-like\n",
        "# image_path = '/content/1060.jpg' # mobile image\n",
        "\n",
        "image = cv2.imread(image_path)\n",
        "display_image(image, 'Original Image', cmap=None)\n",
        "\n",
        "# Convert to grayscale\n",
        "gray = cv2.cvtColor(image, cv2.COLOR_BGR2GRAY)\n",
        "# display_image(gray, 'Gray Image')\n",
        "\n",
        "# For generated images\n",
        "ret,th1 = cv2.threshold(gray, np.mean(image),255 ,cv2.THRESH_BINARY)\n",
        "# ret,th1 = cv2.threshold(gray, 90,255 ,cv2.THRESH_BINARY)\n",
        "display_image(th1, 'glob thresh')\n",
        "\n",
        "# Fill holes using flood fill\n",
        "im_floodfill = th1.copy()\n",
        "h, w = im_floodfill.shape[:2]\n",
        "mask_floodfill = np.zeros((h+2, w+2), np.uint8)\n",
        "cv2.floodFill(im_floodfill, mask_floodfill, (0,0), 255)\n",
        "filled_mask = cv2.bitwise_or(th1, cv2.bitwise_not(im_floodfill))\n",
        "\n",
        "# Smooth the left edge\n",
        "contours, _ = cv2.findContours(filled_mask, cv2.RETR_EXTERNAL, cv2.CHAIN_APPROX_SIMPLE)\n",
        "for contour in contours:\n",
        "    if cv2.contourArea(contour) > 500:  # Only consider significant contours\n",
        "        epsilon = 0.01 * cv2.arcLength(contour, True)\n",
        "        approx = cv2.approxPolyDP(contour, epsilon, True)\n",
        "        hull = cv2.convexHull(approx)\n",
        "        cv2.drawContours(filled_mask, [hull], 0, (255), thickness=cv2.FILLED)\n",
        "\n",
        "flipped_mask = cv2.flip(filled_mask, 1)\n",
        "display_image(flipped_mask, 'flipped_mask')\n",
        "\n",
        "sum_mask = filled_mask + flipped_mask\n",
        "display_image(sum_mask, 'sum_mask')\n",
        "\n",
        "\n",
        "# Fill holes using flood fill\n",
        "im_floodfill = sum_mask.copy()\n",
        "h, w = im_floodfill.shape[:2]\n",
        "mask_floodfill = np.zeros((h+2, w+2), np.uint8)\n",
        "cv2.floodFill(im_floodfill, mask_floodfill, (0,0), 255)\n",
        "filled_mask = cv2.bitwise_or(sum_mask, cv2.bitwise_not(im_floodfill))\n",
        "\n",
        "\n",
        "# Optionally apply opening to remove small noise\n",
        "cleaned_mask = cv2.morphologyEx(filled_mask, cv2.MORPH_OPEN, np.ones((5, 5), np.uint8))\n",
        "display_image(cleaned_mask, 'cleaned_mask')\n",
        "\n",
        "\n",
        "# Find contours\n",
        "contours, _ = cv2.findContours(cleaned_mask, cv2.RETR_EXTERNAL, cv2.CHAIN_APPROX_SIMPLE)\n",
        "\n",
        "# Create an empty mask\n",
        "hull_mask = np.zeros_like(gray, dtype=np.uint8)\n",
        "\n",
        "# Draw the convex hull of the largest contour on the mask\n",
        "if contours:\n",
        "    largest_contour = max(contours, key=cv2.contourArea)\n",
        "    hull = cv2.convexHull(largest_contour)\n",
        "    cv2.drawContours(hull_mask, [hull], -1, 255, thickness=cv2.FILLED)\n",
        "\n",
        "display_image(hull_mask, 'Convex Hull Mask')\n",
        "\n",
        "\n",
        "# # Apply the mask to the original image\n",
        "masked_image = cv2.bitwise_and(image, image, mask=hull_mask)\n",
        "display_image(masked_image, 'Masked Image', cmap=None)"
      ],
      "metadata": {
        "id": "6Sktzr6WJeUn"
      },
      "execution_count": null,
      "outputs": []
    },
    {
      "cell_type": "code",
      "source": [],
      "metadata": {
        "id": "82I-9teEt27A"
      },
      "execution_count": null,
      "outputs": []
    },
    {
      "cell_type": "markdown",
      "source": [
        "------\n",
        "# Prepare function"
      ],
      "metadata": {
        "id": "3zNgSg3SyleE"
      }
    },
    {
      "cell_type": "code",
      "source": [
        "def extract_ultrasound(image, imtype='mobile'):\n",
        "  if imtype == 'mobile':\n",
        "    gray = cv2.cvtColor(image, cv2.COLOR_BGR2GRAY)\n",
        "    min_thresh = np.mean(image) + 0.3*np.std(image)\n",
        "    max_thresh = 255\n",
        "    print(min_thresh, max_thresh)\n",
        "    ret,th1 = cv2.threshold(gray , min_thresh,  max_thresh, cv2.THRESH_BINARY)\n",
        "    im_floodfill = th1.copy()\n",
        "    h, w = im_floodfill.shape[:2]\n",
        "    mask_floodfill = np.zeros((h+2, w+2), np.uint8)\n",
        "    cv2.floodFill(im_floodfill, mask_floodfill, (0,0), 255)\n",
        "    filled_mask = cv2.bitwise_or(th1, cv2.bitwise_not(im_floodfill))\n",
        "\n",
        "    # Smooth the left edge\n",
        "    contours, _ = cv2.findContours(filled_mask, cv2.RETR_EXTERNAL, cv2.CHAIN_APPROX_SIMPLE)\n",
        "    for contour in contours:\n",
        "        if cv2.contourArea(contour) > 500:  # Only consider significant contours\n",
        "            epsilon = 0.01 * cv2.arcLength(contour, True)\n",
        "            approx = cv2.approxPolyDP(contour, epsilon, True)\n",
        "            hull = cv2.convexHull(approx)\n",
        "            cv2.drawContours(filled_mask, [hull], 0, (255), thickness=cv2.FILLED)\n",
        "\n",
        "    flipped_mask = cv2.flip(filled_mask, 1)\n",
        "    sum_mask = filled_mask + flipped_mask\n",
        "    im_floodfill = sum_mask.copy()\n",
        "    h, w = im_floodfill.shape[:2]\n",
        "    mask_floodfill = np.zeros((h+2, w+2), np.uint8)\n",
        "    cv2.floodFill(im_floodfill, mask_floodfill, (0,0), 255)\n",
        "    filled_mask = cv2.bitwise_or(sum_mask, cv2.bitwise_not(im_floodfill))\n",
        "    cleaned_mask = cv2.morphologyEx(filled_mask, cv2.MORPH_OPEN, np.ones((5, 5), np.uint8))\n",
        "    contours, _ = cv2.findContours(cleaned_mask, cv2.RETR_EXTERNAL, cv2.CHAIN_APPROX_SIMPLE)\n",
        "    hull_mask = np.zeros_like(gray, dtype=np.uint8)\n",
        "    if contours:\n",
        "        largest_contour = max(contours, key=cv2.contourArea)\n",
        "        hull = cv2.convexHull(largest_contour)\n",
        "        cv2.drawContours(hull_mask, [hull], -1, 255, thickness=cv2.FILLED)\n",
        "    masked_image = cv2.bitwise_and(image, image, mask=hull_mask)\n",
        "\n",
        "  elif imtype == 'machine':\n",
        "    gray = cv2.cvtColor(image, cv2.COLOR_BGR2GRAY)\n",
        "    ret, mask = cv2.threshold(gray, 0, 255, cv2.THRESH_BINARY )# for ultrasound\n",
        "    kernel = np.ones((5, 5), np.uint8)\n",
        "    opened_mask = cv2.morphologyEx(mask, cv2.MORPH_OPEN, kernel)\n",
        "    num_labels, labels, stats, centroids = cv2.connectedComponentsWithStats(opened_mask, connectivity=8)\n",
        "    largest_component = 1 + np.argmax(stats[1:, cv2.CC_STAT_AREA])\n",
        "    largest_mask = np.zeros_like(opened_mask)\n",
        "    largest_mask[labels == largest_component] = 255\n",
        "    im_floodfill = largest_mask.copy()\n",
        "    h, w = im_floodfill.shape[:2]\n",
        "    mask_floodfill = np.zeros((h+2, w+2), np.uint8)\n",
        "    cv2.floodFill(im_floodfill, mask_floodfill, (0,0), 255)\n",
        "    filled_mask = cv2.bitwise_or(largest_mask, cv2.bitwise_not(im_floodfill))\n",
        "    masked_image = cv2.bitwise_and(image, image, mask=filled_mask)\n",
        "\n",
        "  else: #Gital's generated US\n",
        "\n",
        "    gray = cv2.cvtColor(image, cv2.COLOR_BGR2GRAY)\n",
        "    adapthresh = cv2.adaptiveThreshold(gray, 255, cv2.ADAPTIVE_THRESH_MEAN_C,\n",
        "                                              cv2.THRESH_BINARY, 199, 2)\n",
        "    ret, mask = cv2.threshold(adapthresh, 0, 255, cv2.THRESH_BINARY )# for generated mobile-like\n",
        "    kernel = np.ones((5, 5), np.uint8)\n",
        "    opened_mask = cv2.morphologyEx(mask, cv2.MORPH_OPEN, kernel)\n",
        "    num_labels, labels, stats, centroids = cv2.connectedComponentsWithStats(opened_mask, connectivity=8)\n",
        "    largest_component = 1 + np.argmax(stats[1:, cv2.CC_STAT_AREA])\n",
        "    largest_mask = np.zeros_like(opened_mask)\n",
        "    largest_mask[labels == largest_component] = 255\n",
        "    im_floodfill = largest_mask.copy()\n",
        "    h, w = im_floodfill.shape[:2]\n",
        "    mask_floodfill = np.zeros((h+2, w+2), np.uint8)\n",
        "    cv2.floodFill(im_floodfill, mask_floodfill, (0,0), 255)\n",
        "    filled_mask = cv2.bitwise_or(largest_mask, cv2.bitwise_not(im_floodfill))\n",
        "    contours, _ = cv2.findContours(filled_mask, cv2.RETR_EXTERNAL, cv2.CHAIN_APPROX_SIMPLE)\n",
        "    for contour in contours:\n",
        "        if cv2.contourArea(contour) > 500:  # Only consider significant contours\n",
        "            epsilon = 0.01 * cv2.arcLength(contour, True)\n",
        "            approx = cv2.approxPolyDP(contour, epsilon, True)\n",
        "            hull = cv2.convexHull(approx)\n",
        "            cv2.drawContours(filled_mask, [hull], 0, (255), thickness=cv2.FILLED)\n",
        "    masked_image = cv2.bitwise_and(image, image, mask=filled_mask)\n",
        "\n",
        "  return masked_image"
      ],
      "metadata": {
        "id": "9G3YVQbKt4V_"
      },
      "execution_count": null,
      "outputs": []
    },
    {
      "cell_type": "code",
      "source": [
        "image_path = '/content/val/val/images/1001.jpg'\n",
        "# image_path = '/content/1060.jpg' # mobile image\n",
        "\n",
        "image = cv2.imread(image_path)\n",
        "display_image(image, 'Original Image', cmap=None)\n",
        "\n",
        "test = extract_ultrasound(image, imtype='mobile')\n",
        "display_image(test, 'test', cmap=None)"
      ],
      "metadata": {
        "id": "-Ia5Q4vHyxDZ"
      },
      "execution_count": null,
      "outputs": []
    },
    {
      "cell_type": "code",
      "source": [
        "image_path = '/content/test/test/images/10001.jpg' # ultrasound\n",
        "# image_path = '/content/1060.jpg' # mobile image\n",
        "\n",
        "image = cv2.imread(image_path)\n",
        "display_image(image, 'Original Image', cmap=None)\n",
        "\n",
        "test = extract_ultrasound(image, imtype='machine')\n",
        "display_image(test, 'test', cmap=None)"
      ],
      "metadata": {
        "id": "Hj2H_Wt4hEI4"
      },
      "execution_count": null,
      "outputs": []
    },
    {
      "cell_type": "code",
      "source": [
        "image_path = '/content/102890_fake.png' #Gital's generated mobile-like\n",
        "\n",
        "\n",
        "image = cv2.imread(image_path)\n",
        "display_image(image, 'Original Image', cmap=None)\n",
        "\n",
        "test = extract_ultrasound(image, imtype='a')\n",
        "display_image(test, 'test')"
      ],
      "metadata": {
        "id": "kg1uZruozAIi"
      },
      "execution_count": null,
      "outputs": []
    },
    {
      "cell_type": "code",
      "source": [],
      "metadata": {
        "id": "-JEwhcaC0BTI"
      },
      "execution_count": null,
      "outputs": []
    }
  ]
}