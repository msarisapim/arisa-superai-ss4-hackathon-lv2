{
  "nbformat": 4,
  "nbformat_minor": 0,
  "metadata": {
    "colab": {
      "provenance": []
    },
    "kernelspec": {
      "name": "python3",
      "display_name": "Python 3"
    },
    "language_info": {
      "name": "python"
    }
  },
  "cells": [
    {
      "cell_type": "code",
      "execution_count": null,
      "metadata": {
        "id": "bs4YTrjHphyG"
      },
      "outputs": [],
      "source": [
        "!nvidia-smi"
      ]
    },
    {
      "cell_type": "code",
      "source": [
        "from IPython.display import clear_output\n",
        "import os\n",
        "import yaml\n",
        "\n",
        "from ultralytics import YOLO\n",
        "# import torch\n",
        "# import torch.nn as nn"
      ],
      "metadata": {
        "id": "8ySgCWFRgDl-"
      },
      "execution_count": null,
      "outputs": []
    },
    {
      "cell_type": "code",
      "source": [
        "import ultralytics\n",
        "\n",
        "ultralytics.checks()"
      ],
      "metadata": {
        "id": "Ai_1uYeOM7dC"
      },
      "execution_count": null,
      "outputs": []
    },
    {
      "cell_type": "code",
      "source": [
        "!pwd"
      ],
      "metadata": {
        "id": "5mE9pFs2iIqN"
      },
      "execution_count": null,
      "outputs": []
    },
    {
      "cell_type": "code",
      "source": [
        "!cd /project/lt900101-ai24e1/"
      ],
      "metadata": {
        "id": "KHGVX5CyycVn"
      },
      "execution_count": null,
      "outputs": []
    },
    {
      "cell_type": "code",
      "source": [
        "# Define your data dictionary\n",
        "data = {\n",
        "  'train': '/project/lt900101-ai24e1/liver-ultrasound-detection/train/train',  # Path to training data\n",
        "  'val': '/project/lt900101-ai24e1/liver-ultrasound-detection/val/val',    # Path to validation data\n",
        "  'nc': 7,                        # Number of classes\n",
        "  'names': [0, 1, 2, 3, 4, 5, 6]  # Class names\n",
        "}\n",
        "\n",
        "# Set the filename\n",
        "filename = 'dataset.yaml'\n",
        "\n",
        "# Write the data dictionary to a YAML file\n",
        "with open(filename, 'w') as f:\n",
        "  yaml.dump(data, f)\n",
        "\n",
        "print(f'YAML file created: {filename}')"
      ],
      "metadata": {
        "id": "Nn7OHe9ew6ZK"
      },
      "execution_count": null,
      "outputs": []
    },
    {
      "cell_type": "code",
      "source": [
        "# Load a model\n",
        "# model = YOLO(\"yolov8n.yaml\")  # build a new model from YAML\n",
        "# model = YOLO(\"yolov8n.pt\")  # load a pretrained model (recommended for training)\n",
        "# model = YOLO(\"/content/-q/yolov10x.pt\").load(\"yolov8x.pt\")  # build from YAML and transfer weights\n",
        "\n",
        "# model = YOLO(\"/project/lt900101-ai24e1/Atom/-q/yolov10x.pt\").load(\"yolov8x.pt\")  # build from YAML and transfer weights\n",
        "\n",
        "# model = YOLO(\"/project/lt900101-ai24e1/Atom/-q/yolov10x.pt\")  # build from YAML and transfer weights"
      ],
      "metadata": {
        "id": "0QZ6od07y3_I"
      },
      "execution_count": null,
      "outputs": []
    },
    {
      "cell_type": "code",
      "source": [
        "#from ultralytics import YOLO\n",
        "#just try to change annotations -> labels (in all train and val always delete .cache file in train and val)\n",
        "\n",
        "model = YOLO('yolov8x.pt')\n",
        "params = {\n",
        "    \"task\": \"detect\",\n",
        "    \"mode\": \"train\",\n",
        "    \"model\": \"yolov8x.pt\",\n",
        "    \"data\": \"dataset.yaml\",\n",
        "    \"epochs\": 100,\n",
        "    \"batch\": 64,\n",
        "    \"agnostic_nms\": True,\n",
        "    \"cos_lr\": True,\n",
        "    #\"optimizer\" : 'AdamW', #require high-ram can be max 36.9\n",
        "    \"dropout\" : 0.1,\n",
        "    \"conf\" : 0.54,\n",
        "    \"device\" : [0,1,2,3],\n",
        "    \"augment\": False  # Disable augmentation\n",
        "    #add no augmentation\n",
        "\n",
        "}\n",
        "\n",
        "model.train(**params)"
      ],
      "metadata": {
        "id": "NnguGf6n0OMc"
      },
      "execution_count": null,
      "outputs": []
    },
    {
      "cell_type": "markdown",
      "source": [
        "### Modify submission expanding bbox"
      ],
      "metadata": {
        "id": "LlWTZyFINHSg"
      }
    },
    {
      "cell_type": "code",
      "source": [
        "import pandas as pd\n",
        "import ast"
      ],
      "metadata": {
        "id": "9lqOXWOaPKyW"
      },
      "execution_count": null,
      "outputs": []
    },
    {
      "cell_type": "code",
      "source": [
        "submission = pd.read_csv(\"/content/RT-DETR-L-Cof05.csv\")\n",
        "x = ast.literal_eval(submission[\"Annotation\"][0])\n",
        "type(x[0][0])"
      ],
      "metadata": {
        "id": "rtESaAY7PNky"
      },
      "execution_count": null,
      "outputs": []
    },
    {
      "cell_type": "code",
      "source": [
        "submission"
      ],
      "metadata": {
        "id": "WP4jlwxEPShp"
      },
      "execution_count": null,
      "outputs": []
    },
    {
      "cell_type": "code",
      "source": [
        "for i in range(len(submission)):\n",
        "    labels = submission[\"Label\"][i]\n",
        "    if(labels!='[]'):\n",
        "        ls = ast.literal_eval(submission[\"Annotation\"][i])\n",
        "        ls_new = []\n",
        "        for idx in range(len(ls)):\n",
        "            sub_ls = ls[idx]\n",
        "            sub_ls[2] *= 1.5\n",
        "            sub_ls[3] *= 1.5\n",
        "            ls_new.append(sub_ls)\n",
        "        submission[\"Annotation\"][i] = ls_new"
      ],
      "metadata": {
        "id": "_1sFKIpZPYlp"
      },
      "execution_count": null,
      "outputs": []
    },
    {
      "cell_type": "code",
      "source": [
        "submission.to_csv(\"modify-1.csv\", index=False)"
      ],
      "metadata": {
        "id": "UIx2kThOPdP9"
      },
      "execution_count": null,
      "outputs": []
    },
    {
      "cell_type": "markdown",
      "source": [
        "### Make submission"
      ],
      "metadata": {
        "id": "3ZirM7_JNBav"
      }
    },
    {
      "cell_type": "markdown",
      "source": [
        "#### Import"
      ],
      "metadata": {
        "id": "82XJUhyoQacP"
      }
    },
    {
      "cell_type": "code",
      "source": [
        "#!pip install -q git+https://github.com/THU-MIG/yolov10.git\n",
        "#!pip install ultralytics\n",
        "#!pip install gdown"
      ],
      "metadata": {
        "id": "tUlJ0BxFPkpj"
      },
      "execution_count": null,
      "outputs": []
    },
    {
      "cell_type": "code",
      "source": [
        "import torch\n",
        "import ultralytics\n",
        "\n",
        "import pandas as pd\n",
        "import cv2\n",
        "import json\n",
        "import numpy as np\n",
        "\n",
        "import os\n",
        "\n",
        "from ultralytics import RTDETR\n",
        "from ultralytics import YOLOv10"
      ],
      "metadata": {
        "id": "aRn-vnbZQZW7"
      },
      "execution_count": null,
      "outputs": []
    },
    {
      "cell_type": "code",
      "source": [
        "print(f'Setup complete. Using torch {torch.__version__}')\n",
        "print(f\"{torch.cuda.get_device_properties(0).name if torch.cuda.is_available() else 'CPU'}\")"
      ],
      "metadata": {
        "id": "EqCUJoSINGRc"
      },
      "execution_count": null,
      "outputs": []
    },
    {
      "cell_type": "code",
      "source": [
        "ultralytics.checks()"
      ],
      "metadata": {
        "id": "PP-b3WyePnIu"
      },
      "execution_count": null,
      "outputs": []
    },
    {
      "cell_type": "code",
      "source": [
        "df = pd.read_excel('/project/lt900101-ai24e1/liver-ultrasound-detection/mapping.xlsx')\n",
        "df"
      ],
      "metadata": {
        "id": "j18FfvYhPqCl"
      },
      "execution_count": null,
      "outputs": []
    },
    {
      "cell_type": "code",
      "source": [
        "!pwd"
      ],
      "metadata": {
        "id": "Djd7IOqeTl8t"
      },
      "execution_count": null,
      "outputs": []
    },
    {
      "cell_type": "code",
      "source": [
        "#!gdown 1-9VhoLpTYHhR_5-NQAdop-yM7PZH0E6x"
      ],
      "metadata": {
        "id": "Xi90THzmP53J"
      },
      "execution_count": null,
      "outputs": []
    },
    {
      "cell_type": "code",
      "source": [
        "#!unzip /content/smooth_clahe_test.zip"
      ],
      "metadata": {
        "id": "BEFl7zJjP8Qq"
      },
      "execution_count": null,
      "outputs": []
    },
    {
      "cell_type": "code",
      "source": [
        "images_dir = '/project/lt900101-ai24e1/liver-ultrasound-detection/test/test/images'\n",
        "# images_dir = '/project/lt900101-ai24e1/super_contrast_test/images'\n",
        "images_files = sorted([f for f in os.listdir(images_dir) if f.endswith('.jpg')])\n",
        "len(images_files)"
      ],
      "metadata": {
        "id": "y6NOpZG_P-j-"
      },
      "execution_count": null,
      "outputs": []
    },
    {
      "cell_type": "code",
      "source": [
        "weights_path = '/project/lt900101-ai24e1/Atom/runs/detect/train/weights/best.pt'\n",
        "model = YOLOv10(weights_path)\n",
        "\n",
        "def detect_objects(image_path, model):\n",
        "    results = model(source=image_path, conf=0.5274)\n",
        "    boxes = results[0].boxes.xyxy[:, :4].cpu().numpy()\n",
        "    classes = results[0].boxes.cls.cpu().numpy()\n",
        "    scores = results[0].boxes.conf.cpu().numpy()\n",
        "    boxes_n = []\n",
        "    for boxe in boxes:\n",
        "      boxe = [float(i) for i in boxe]\n",
        "      boxes_n.append(boxe)\n",
        "    classes = [int(classe) for classe in classes]\n",
        "    scores = [round(score, 4) for score in scores]\n",
        "    return boxes_n, classes, scores\n",
        "\n",
        "df = pd.read_csv('/project/lt900101-ai24e1/liver-ultrasound-detection/sample_submission.csv')\n",
        "df"
      ],
      "metadata": {
        "id": "5q-L2_g2P_bT"
      },
      "execution_count": null,
      "outputs": []
    },
    {
      "cell_type": "code",
      "source": [
        "help(model)"
      ],
      "metadata": {
        "id": "9aG6BO_pQEUr"
      },
      "execution_count": null,
      "outputs": []
    },
    {
      "cell_type": "code",
      "source": [
        "model.predict(source='/project/lt900101-ai24e1/liver-ultrasound-detection/test/test/images/18999.jpg', conf=0.5)"
      ],
      "metadata": {
        "id": "ZeQXp9FbQGp6"
      },
      "execution_count": null,
      "outputs": []
    },
    {
      "cell_type": "code",
      "source": [
        "import glob\n",
        "all_path = glob.glob(\"/content/images/*\")\n",
        "print('/content/images/18999.jpg' in all_path)"
      ],
      "metadata": {
        "id": "tsE38LawQJeH"
      },
      "execution_count": null,
      "outputs": []
    },
    {
      "cell_type": "code",
      "source": [
        "from tqdm.auto import tqdm\n",
        "\n",
        "b = []\n",
        "c= []\n",
        "counter = 0\n",
        "\n",
        "for path in tqdm(df['Image File']):\n",
        "    image_path = '/project/lt900101-ai24e1/liver-ultrasound-detection/test/test/images/{0}.jpg'.format(path)\n",
        "    #image_path = '/project/lt900101-ai24e1/super_contrast_test/images/{0}.jpg'.format(path)\n",
        "    print(image_path)\n",
        "    boxes, classes, scores = detect_objects(image_path, model)\n",
        "    b.append(boxes)\n",
        "    c.append(classes)\n",
        "\n",
        "\n",
        "df['Annotation'] = b\n",
        "df['Label'] = c\n",
        "df"
      ],
      "metadata": {
        "id": "xFrSQalfQNi9"
      },
      "execution_count": null,
      "outputs": []
    },
    {
      "cell_type": "code",
      "source": [
        "import numpy as np"
      ],
      "metadata": {
        "id": "86GTdWFlQPzQ"
      },
      "execution_count": null,
      "outputs": []
    },
    {
      "cell_type": "code",
      "source": [
        "uni = []\n",
        "\n",
        "for j in range(len(df)):\n",
        "    if(df[\"Annotation\"][j] not in uni):\n",
        "        uni.append(df[\"Annotation\"][j])"
      ],
      "metadata": {
        "id": "9LHspzyxQSZM"
      },
      "execution_count": null,
      "outputs": []
    },
    {
      "cell_type": "code",
      "source": [
        "print(uni)\n",
        "print(len(uni))"
      ],
      "metadata": {
        "id": "xKRyjH8sQUfq"
      },
      "execution_count": null,
      "outputs": []
    },
    {
      "cell_type": "code",
      "source": [
        "df.to_csv(\"submission_yolov8x_100_epoch_raw.csv\", index=False)"
      ],
      "metadata": {
        "id": "uT7qj_OMbPFJ"
      },
      "execution_count": null,
      "outputs": []
    }
  ]
}