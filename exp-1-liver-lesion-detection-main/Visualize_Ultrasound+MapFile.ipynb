{
  "cells": [
    {
      "cell_type": "markdown",
      "metadata": {
        "id": "zKQHNQtFCA0c"
      },
      "source": [
        "## Setting Up Kaggle API Credentials"
      ]
    },
    {
      "cell_type": "code",
      "execution_count": null,
      "metadata": {
        "id": "FnnHx9o5BkSa"
      },
      "outputs": [],
      "source": [
        "from google.colab import userdata\n",
        "username = userdata.get('KAGGLE_USER')\n",
        "key = userdata.get('KAGGLE_KEY')\n",
        "# Echo the credentials into the kaggle.json file\n",
        "!mkdir -p ~/.kaggle\n",
        "!echo '{{\"username\":\"{username}\",\"key\":\"{key}\"}}' > ~/.kaggle/kaggle.json\n",
        "!chmod 600 /root/.kaggle/kaggle.json"
      ]
    },
    {
      "cell_type": "code",
      "execution_count": null,
      "metadata": {
        "id": "Bx8lBAlvCIoA"
      },
      "outputs": [],
      "source": [
        "# Download dataset\n",
        "!kaggle competitions download -c liver-ultrasound-detection\n",
        "!unzip /content/liver-ultrasound-detection.zip && rm -rf /content/liver-ultrasound-detection.zip"
      ]
    },
    {
      "cell_type": "code",
      "execution_count": null,
      "metadata": {
        "id": "LlR059HzDtKF"
      },
      "outputs": [],
      "source": [
        "import os\n",
        "import pandas as pd\n",
        "import cv2\n",
        "import matplotlib.pyplot as plt\n",
        "from collections import defaultdict"
      ]
    },
    {
      "cell_type": "code",
      "execution_count": null,
      "metadata": {
        "id": "SdvpjVQVDuut"
      },
      "outputs": [],
      "source": [
        "def count_classes_in_folder(annotation_folder):\n",
        "    # Dictionary to hold counts of each class ID\n",
        "    class_counts = defaultdict(int)\n",
        "\n",
        "    # Iterate over all files in the folder\n",
        "    for filename in os.listdir(annotation_folder):\n",
        "        if filename.endswith('.txt'):  # Assuming annotation files have .txt extension\n",
        "            file_path = os.path.join(annotation_folder, filename)\n",
        "            with open(file_path, 'r') as file:\n",
        "                lines = file.readlines()\n",
        "\n",
        "            # Count class IDs\n",
        "            for line in lines:\n",
        "                class_id = int(line.strip().split()[0])\n",
        "                class_counts[class_id] += 1\n",
        "\n",
        "\n",
        "    return class_counts\n",
        "\n",
        "def plot_class_distribution(class_counts, class_names):\n",
        "    # Prepare data for plotting\n",
        "    class_ids = sorted(class_counts.keys())\n",
        "    counts = [class_counts[class_id] for class_id in class_ids]\n",
        "    labels = [class_names[class_id] for class_id in class_ids]\n",
        "\n",
        "    # Plot bar chart\n",
        "    plt.figure(figsize=(10, 6))\n",
        "    bars = plt.bar(labels, counts, color='skyblue')\n",
        "    plt.xlabel('Class Names')\n",
        "    plt.ylabel('Counts')\n",
        "    plt.title('Class Distribution')\n",
        "    plt.xticks(rotation=45)\n",
        "\n",
        "    # Add counts on top of each bar\n",
        "    for bar, count in zip(bars, counts):\n",
        "        plt.text(bar.get_x() + bar.get_width() / 2, bar.get_height(), str(count),\n",
        "                 ha='center', va='bottom')\n",
        "\n",
        "    plt.show()\n",
        "\n"
      ]
    },
    {
      "cell_type": "code",
      "execution_count": null,
      "metadata": {
        "id": "7MNia0g3ERdW"
      },
      "outputs": [],
      "source": [
        "# Example usage\n",
        "annotation_folder = '/content/train/train/annotations'\n",
        "class_names = ['FFC', 'FFS', 'HCC', 'cyst', 'hemangioma', 'dysplastic', 'CCA'] # Add your class names here\n",
        "\n",
        "class_counts = count_classes_in_folder(annotation_folder)\n",
        "plot_class_distribution(class_counts, class_names)"
      ]
    },
    {
      "cell_type": "code",
      "execution_count": null,
      "metadata": {
        "id": "M176WUglIOEa"
      },
      "outputs": [],
      "source": [
        "import pandas as pd\n",
        "import matplotlib.pyplot as plt\n",
        "\n",
        "# Read the data from Excel file\n",
        "data = pd.read_excel('/content/mapping.xlsx')\n",
        "\n",
        "# Group by 'Source' and 'Type', and count occurrences\n",
        "class_counts = data.groupby(['Source', 'Type']).size().unstack(fill_value=0)\n",
        "\n",
        "# Plot the bar chart\n",
        "class_counts.plot(kind='bar', figsize=(10, 6))\n",
        "plt.xlabel('Source')\n",
        "plt.ylabel('Counts')\n",
        "plt.title('Class Distribution by Source')\n",
        "plt.xticks(rotation=45)\n",
        "plt.legend(title='Type')\n",
        "plt.show()\n"
      ]
    },
    {
      "cell_type": "code",
      "execution_count": null,
      "metadata": {
        "id": "Y65-Rw5mMdl2"
      },
      "outputs": [],
      "source": [
        "import os\n",
        "import matplotlib.pyplot as plt\n",
        "import pandas as pd\n",
        "from collections import defaultdict\n",
        "\n",
        "def count_classes_in_files(annotation_files, annotation_folder):\n",
        "    # Dictionary to hold counts of each class ID\n",
        "    class_counts = defaultdict(int)\n",
        "\n",
        "    # Iterate over all annotation files\n",
        "    for annotation_file in annotation_files:\n",
        "        # Check for NaN values\n",
        "        if pd.notna(annotation_file):\n",
        "            file_path = os.path.join(annotation_folder, str(annotation_file))  # Convert to string\n",
        "            try:\n",
        "                with open(file_path, 'r') as file:\n",
        "                    lines = file.readlines()\n",
        "\n",
        "                # Count class IDs\n",
        "                for line in lines:\n",
        "                    class_id = int(line.strip().split()[0])\n",
        "                    class_counts[class_id] += 1\n",
        "            except FileNotFoundError:\n",
        "                print(f\"Warning: Annotation file '{annotation_file}' not found. Skipping.\")\n",
        "\n",
        "    return class_counts\n",
        "\n",
        "def plot_class_distribution(class_counts, class_names):\n",
        "    # Prepare data for plotting\n",
        "    class_ids = sorted(class_counts.keys())\n",
        "    counts = [class_counts[class_id] for class_id in class_ids]\n",
        "    labels = [class_names[class_id] for class_id in class_ids]\n",
        "\n",
        "    # Plot bar chart\n",
        "    plt.figure(figsize=(10, 6))\n",
        "    bars = plt.bar(labels, counts, color='skyblue')\n",
        "    plt.xlabel('Class Names')\n",
        "    plt.ylabel('Counts')\n",
        "    plt.title('Class Distribution')\n",
        "    plt.xticks(rotation=45)\n",
        "\n",
        "    # Add counts on top of each bar\n",
        "    for bar, count in zip(bars, counts):\n",
        "        plt.text(bar.get_x() + bar.get_width() / 2, bar.get_height(), str(count),\n",
        "                 ha='center', va='bottom')\n",
        "\n",
        "    plt.show()\n",
        "\n",
        "# Read the data from Excel file\n",
        "data = pd.read_excel('/content/mapping.xlsx')\n",
        "\n",
        "# Get annotation file names and annotation folder\n",
        "annotation_files = data['Annotation File'].tolist()\n",
        "annotation_folder = '/content/train/train/annotations'\n",
        "\n",
        "# Example usage\n",
        "class_names = ['FFC', 'FFS', 'HCC', 'cyst', 'hemangioma', 'dysplastic', 'CCA']  # Add your class names here\n",
        "\n",
        "class_counts = count_classes_in_files(annotation_files, annotation_folder)\n",
        "plot_class_distribution(class_counts, class_names)\n"
      ]
    },
    {
      "cell_type": "code",
      "execution_count": null,
      "metadata": {
        "id": "o5CP_UT5N-5o"
      },
      "outputs": [],
      "source": [
        "def plot_class_distribution_by_source(data):\n",
        "    # Group data by 'Source' and 'Type', and count occurrences\n",
        "    grouped_data = data.groupby(['Source', 'Type']).size().unstack(fill_value=0)\n",
        "\n",
        "    # Plot separate bar charts for each source\n",
        "    for source, counts in grouped_data.iterrows():\n",
        "        plt.figure(figsize=(8, 6))\n",
        "        counts.plot(kind='bar', color='skyblue')\n",
        "        plt.xlabel('Class Names')\n",
        "        plt.ylabel('Counts')\n",
        "        plt.title(f'Class Distribution for Source: {source}')\n",
        "        plt.xticks(rotation=45)\n",
        "        plt.tight_layout()\n",
        "        plt.show()"
      ]
    },
    {
      "cell_type": "code",
      "execution_count": null,
      "metadata": {
        "id": "xtlo2Ov1N_qY"
      },
      "outputs": [],
      "source": [
        "# Read the data from Excel file\n",
        "data = pd.read_excel('/content/mapping.xlsx')\n",
        "\n",
        "# Plot class distribution for each source\n",
        "plot_class_distribution_by_source(data)"
      ]
    },
    {
      "cell_type": "code",
      "execution_count": null,
      "metadata": {
        "id": "3XLb_Z24PTj9"
      },
      "outputs": [],
      "source": [
        "import os\n",
        "import matplotlib.pyplot as plt\n",
        "import pandas as pd\n",
        "from collections import defaultdict\n",
        "\n",
        "def count_classes_in_files(annotation_files, annotation_folder, data):\n",
        "    # Dictionary to hold counts of each class ID\n",
        "    class_counts = defaultdict(int)\n",
        "\n",
        "    # Iterate over all annotation files\n",
        "    for annotation_file in annotation_files:\n",
        "        # Check for NaN values\n",
        "        if pd.notna(annotation_file):\n",
        "            file_path = os.path.join(annotation_folder, str(annotation_file))  # Convert to string\n",
        "            try:\n",
        "                with open(file_path, 'r') as file:\n",
        "                    lines = file.readlines()\n",
        "\n",
        "                # Get source and class_name\n",
        "                source = data.loc[data['Annotation File'] == annotation_file, 'Source'].iloc[0]\n",
        "                class_name = data.loc[data['Annotation File'] == annotation_file, 'Type'].iloc[0]\n",
        "                combined_name = f\"{source}.{class_name}\"\n",
        "\n",
        "                # Count class IDs\n",
        "                for line in lines:\n",
        "                    class_id = int(line.strip().split()[0])\n",
        "                    class_counts[combined_name] += 1\n",
        "            except FileNotFoundError:\n",
        "                print(f\"Warning: Annotation file '{annotation_file}' not found. Skipping.\")\n",
        "\n",
        "    return class_counts\n",
        "\n",
        "def plot_class_distribution(class_counts):\n",
        "    # Prepare data for plotting\n",
        "    labels = list(class_counts.keys())\n",
        "    counts = list(class_counts.values())\n",
        "\n",
        "    # Plot bar chart\n",
        "    plt.figure(figsize=(12, 6))\n",
        "    bars = plt.bar(labels, counts, color='skyblue')\n",
        "    plt.xlabel('Class Names')\n",
        "    plt.ylabel('Counts')\n",
        "    plt.title('Class Distribution')\n",
        "    plt.xticks(rotation=45)\n",
        "\n",
        "    # Add counts on top of each bar\n",
        "    for bar, count in zip(bars, counts):\n",
        "        plt.text(bar.get_x() + bar.get_width() / 2, bar.get_height(), str(count),\n",
        "                 ha='center', va='bottom')\n",
        "\n",
        "    plt.show()\n",
        "\n",
        "# Read the data from Excel file\n",
        "data = pd.read_excel('/content/mapping.xlsx')\n",
        "\n",
        "# Get annotation file names and annotation folder\n",
        "annotation_files = data['Annotation File'].tolist()\n",
        "annotation_folder = '/content/train/train/annotations'\n",
        "\n",
        "# Example usage\n",
        "class_counts = count_classes_in_files(annotation_files, annotation_folder, data)\n",
        "plot_class_distribution(class_counts)\n"
      ]
    },
    {
      "cell_type": "code",
      "execution_count": null,
      "metadata": {
        "id": "WecwQQanQbuT"
      },
      "outputs": [],
      "source": [
        "df_mapping = pd.read_csv('/content/mapping.csv')"
      ]
    },
    {
      "cell_type": "code",
      "execution_count": null,
      "metadata": {
        "id": "_e5-9Me1RJMa"
      },
      "outputs": [],
      "source": [
        "df_mapping"
      ]
    },
    {
      "cell_type": "markdown",
      "source": [
        "### Mapping data with file"
      ],
      "metadata": {
        "id": "bA-rn1-D8340"
      }
    },
    {
      "cell_type": "code",
      "execution_count": null,
      "metadata": {
        "id": "s3AUnaD6TmRm"
      },
      "outputs": [],
      "source": [
        "import pandas as pd\n",
        "import glob\n",
        "import os\n",
        "import numpy as np\n",
        "\n",
        "# Read the CSV file into a pandas dataframe\n",
        "df = pd.read_csv('/content/mapping.csv')\n",
        "\n",
        "# Specify the folder path where you want to search for files\n",
        "folder_path_train = '/content/train/train/images'\n",
        "folder_path_val = '/content/val/val/images'\n",
        "folder_path_test = '/content/test/test/images'\n",
        "\n",
        "# Get a list of all files in the folder_path\n",
        "files_in_folder_train = glob.glob(os.path.join(folder_path_train, '*'))\n",
        "files_in_folder_val = glob.glob(os.path.join(folder_path_val, '*'))\n",
        "files_in_folder_test = glob.glob(os.path.join(folder_path_test, '*'))\n",
        "\n",
        "# Function to check if a filename exists in the folder path\n",
        "def file_exists_in_folder_train(filename):\n",
        "    return any(filename == os.path.basename(file) for file in files_in_folder_train)\n",
        "\n",
        "def file_exists_in_folder_val(filename):\n",
        "    return any(filename == os.path.basename(file) for file in files_in_folder_val)\n",
        "\n",
        "def file_exists_in_folder_test(filename):\n",
        "    return any(filename == os.path.basename(file) for file in files_in_folder_test)\n",
        "\n",
        "# Check if each filename in the 'Annotation File' column exists in the folder path\n",
        "# If found, update the 'PATH' column with the folder path, otherwise add None\n",
        "# df['PATH'] = df['Annotation File'].apply(lambda x: folder_path if file_exists_in_folder(x) else None)\n",
        "\n",
        "# Create an empty list to store the paths\n",
        "paths = []\n",
        "\n",
        "# Iterate over each item in the 'Annotation File' column\n",
        "for file_name in df['Image File']:\n",
        "    # Check if the file exists in the folder\n",
        "    if file_exists_in_folder_train(file_name):\n",
        "        # If it exists, append the folder path to the list\n",
        "        paths.append('Train')\n",
        "\n",
        "    elif file_exists_in_folder_val(file_name):\n",
        "        # If it exists, append the folder path to the list\n",
        "        paths.append('Val')\n",
        "\n",
        "    elif file_exists_in_folder_test(file_name):\n",
        "        paths.append('Test')\n",
        "\n",
        "    else:\n",
        "        # If it doesn't exist, append None to the list\n",
        "        paths.append(None)\n",
        "\n",
        "\n",
        "df['PATH'] = paths\n"
      ]
    },
    {
      "cell_type": "code",
      "execution_count": null,
      "metadata": {
        "id": "e4Q00EbtocrA"
      },
      "outputs": [],
      "source": [
        "df['PATH']"
      ]
    },
    {
      "cell_type": "code",
      "execution_count": null,
      "metadata": {
        "id": "aKTnHEMaoByx"
      },
      "outputs": [],
      "source": [
        "# Add \"Train\" to the \"PATH\" column where file is found\n",
        "# df.loc[df['PATH'].notnull(), 'PATH'] = 'Train'\n",
        "df.loc[df['PATH'].notnull(), 'PATH'] = df['PATH']\n",
        "\n",
        "# df.loc[df['PATH'] == folder_path, 'PATH'] = 'Train'\n",
        "\n",
        "# Display the dataframe\n",
        "print(df)"
      ]
    },
    {
      "cell_type": "code",
      "execution_count": null,
      "metadata": {
        "id": "X3nxtNHmYqPw"
      },
      "outputs": [],
      "source": [
        "df.to_csv('mapping2.csv',index=False)"
      ]
    }
  ],
  "metadata": {
    "colab": {
      "provenance": []
    },
    "kernelspec": {
      "display_name": "Python 3",
      "name": "python3"
    },
    "language_info": {
      "name": "python"
    }
  },
  "nbformat": 4,
  "nbformat_minor": 0
}