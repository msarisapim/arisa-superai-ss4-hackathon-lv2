{
  "nbformat": 4,
  "nbformat_minor": 0,
  "metadata": {
    "colab": {
      "provenance": [],
      "gpuType": "T4"
    },
    "kernelspec": {
      "name": "python3",
      "display_name": "Python 3"
    },
    "language_info": {
      "name": "python"
    },
    "accelerator": "GPU"
  },
  "cells": [
    {
      "cell_type": "code",
      "execution_count": null,
      "metadata": {
        "collapsed": true,
        "id": "di9VYyDL9d_E"
      },
      "outputs": [],
      "source": [
        "!pip install -q datasets"
      ]
    },
    {
      "cell_type": "code",
      "source": [
        "import matplotlib.pyplot as plt"
      ],
      "metadata": {
        "id": "kT5CUF7MQsY1"
      },
      "execution_count": null,
      "outputs": []
    },
    {
      "cell_type": "code",
      "source": [
        "from huggingface_hub import login\n",
        "login()"
      ],
      "metadata": {
        "id": "epnkPwVM-p_w"
      },
      "execution_count": null,
      "outputs": []
    },
    {
      "cell_type": "code",
      "source": [
        "from datasets import load_dataset\n",
        "\n",
        "# If the dataset is gated/private, make sure you have run huggingface-cli login\n",
        "dataset = load_dataset(\"Expss4/super-preprocess-time_domain\")"
      ],
      "metadata": {
        "id": "I4wvGOck-qR5"
      },
      "execution_count": null,
      "outputs": []
    },
    {
      "cell_type": "code",
      "source": [
        "dataset"
      ],
      "metadata": {
        "id": "zbTrgRHfPfXp"
      },
      "execution_count": null,
      "outputs": []
    },
    {
      "cell_type": "code",
      "source": [
        "dataset.set_format(type='torch')"
      ],
      "metadata": {
        "id": "XUzGPM4LPjpK"
      },
      "execution_count": null,
      "outputs": []
    },
    {
      "cell_type": "code",
      "source": [
        "train_dataset = dataset['train']\n",
        "train_dataset"
      ],
      "metadata": {
        "id": "785lCllx3a5g"
      },
      "execution_count": null,
      "outputs": []
    },
    {
      "cell_type": "code",
      "source": [
        "plt.plot(train_dataset[0]['processed'][0, :])"
      ],
      "metadata": {
        "id": "dmyT-zMP3l1Y"
      },
      "execution_count": null,
      "outputs": []
    },
    {
      "cell_type": "markdown",
      "source": [
        "# Label 120"
      ],
      "metadata": {
        "id": "2Ose-TVPGbI0"
      }
    },
    {
      "cell_type": "code",
      "source": [
        "import matplotlib.pyplot as plt\n",
        "import numpy as np\n",
        "from scipy.signal import find_peaks\n",
        "\n",
        "sample = train_dataset[0]\n",
        "\n",
        "local_min = []\n",
        "count = 0\n",
        "row = 0\n",
        "figure, axis = plt.subplots(2, 4, figsize=(50, 20))\n",
        "for idx, channel in enumerate(sample['processed']):\n",
        "  data = channel\n",
        "  inverted_data = -data\n",
        "  minima_indices, _ = find_peaks(inverted_data)\n",
        "  local_min.append(minima_indices)\n",
        "  if count == 4:\n",
        "    row = 1\n",
        "  axis[row, idx%4].plot(data)\n",
        "  axis[row, idx%4].plot(minima_indices, data[minima_indices])\n",
        "  count += 1\n",
        "start_min = [min(i) for i in local_min ]\n",
        "print(sample['label'])"
      ],
      "metadata": {
        "id": "25wz4TfN4OJ1"
      },
      "execution_count": null,
      "outputs": []
    },
    {
      "cell_type": "code",
      "source": [
        "import matplotlib.pyplot as plt\n",
        "import numpy as np\n",
        "from scipy.signal import find_peaks\n",
        "\n",
        "sample = train_dataset[4]\n",
        "\n",
        "local_min = []\n",
        "count = 0\n",
        "row = 0\n",
        "figure, axis = plt.subplots(2, 4, figsize=(50, 20))\n",
        "for idx, channel in enumerate(sample['processed']):\n",
        "  data = channel\n",
        "  inverted_data = -data\n",
        "  minima_indices, _ = find_peaks(inverted_data)\n",
        "  local_min.append(minima_indices)\n",
        "  if count == 4:\n",
        "    row = 1\n",
        "  axis[row, idx%4].plot(data)\n",
        "  axis[row, idx%4].plot(minima_indices, data[minima_indices])\n",
        "  count += 1\n",
        "\n",
        "\n",
        "start_min = [min(i) for i in local_min ]\n",
        "print(sample['label'])"
      ],
      "metadata": {
        "id": "iLk3BIm8Mjaa"
      },
      "execution_count": null,
      "outputs": []
    },
    {
      "cell_type": "code",
      "source": [
        "import matplotlib.pyplot as plt\n",
        "import numpy as np\n",
        "from scipy.signal import find_peaks\n",
        "\n",
        "sample = train_dataset[10]\n",
        "\n",
        "local_min = []\n",
        "count = 0\n",
        "row = 0\n",
        "figure, axis = plt.subplots(2, 4, figsize=(50, 20))\n",
        "for idx, channel in enumerate(sample['processed']):\n",
        "  data = channel\n",
        "  inverted_data = -data\n",
        "  minima_indices, _ = find_peaks(inverted_data)\n",
        "  local_min.append(minima_indices)\n",
        "  if count == 4:\n",
        "    row = 1\n",
        "  axis[row, idx%4].plot(data)\n",
        "  axis[row, idx%4].plot(minima_indices, data[minima_indices])\n",
        "  count += 1\n",
        "start_min = [min(i) for i in local_min ]\n",
        "print(sample['label'])"
      ],
      "metadata": {
        "id": "w-j22_oIeShX"
      },
      "execution_count": null,
      "outputs": []
    },
    {
      "cell_type": "markdown",
      "source": [
        "# Label 110"
      ],
      "metadata": {
        "id": "kPpUOhukGhrw"
      }
    },
    {
      "cell_type": "code",
      "source": [
        "import matplotlib.pyplot as plt\n",
        "import numpy as np\n",
        "from scipy.signal import find_peaks\n",
        "\n",
        "sample = train_dataset[1]\n",
        "\n",
        "local_min = []\n",
        "count = 0\n",
        "row = 0\n",
        "figure, axis = plt.subplots(2, 4, figsize=(50, 20))\n",
        "for idx, channel in enumerate(sample['processed']):\n",
        "  data = channel\n",
        "  inverted_data = -data\n",
        "  minima_indices, _ = find_peaks(inverted_data)\n",
        "  local_min.append(minima_indices)\n",
        "  if count == 4:\n",
        "    row = 1\n",
        "  axis[row, idx%4].plot(data)\n",
        "  axis[row, idx%4].plot(minima_indices, data[minima_indices])\n",
        "  count += 1\n",
        "\n",
        "\n",
        "start_min = [min(i) for i in local_min ]\n",
        "print(sample['label'])"
      ],
      "metadata": {
        "id": "5tioqaXIFM-H"
      },
      "execution_count": null,
      "outputs": []
    },
    {
      "cell_type": "code",
      "source": [
        "import matplotlib.pyplot as plt\n",
        "import numpy as np\n",
        "from scipy.signal import find_peaks\n",
        "\n",
        "sample = train_dataset[7]\n",
        "\n",
        "local_min = []\n",
        "count = 0\n",
        "row = 0\n",
        "figure, axis = plt.subplots(2, 4, figsize=(50, 20))\n",
        "for idx, channel in enumerate(sample['processed']):\n",
        "  data = channel\n",
        "  inverted_data = -data\n",
        "  minima_indices, _ = find_peaks(inverted_data)\n",
        "  local_min.append(minima_indices)\n",
        "  if count == 4:\n",
        "    row = 1\n",
        "  axis[row, idx%4].plot(data)\n",
        "  axis[row, idx%4].plot(minima_indices, data[minima_indices])\n",
        "  count += 1\n",
        "\n",
        "\n",
        "start_min = [min(i) for i in local_min ]\n",
        "print(sample['label'])"
      ],
      "metadata": {
        "id": "TRpM7hPEPtW2"
      },
      "execution_count": null,
      "outputs": []
    },
    {
      "cell_type": "markdown",
      "source": [
        "# Label 150"
      ],
      "metadata": {
        "id": "CzKfT7XMMvAh"
      }
    },
    {
      "cell_type": "code",
      "source": [
        "import matplotlib.pyplot as plt\n",
        "import numpy as np\n",
        "from scipy.signal import find_peaks\n",
        "\n",
        "sample = train_dataset[2]\n",
        "\n",
        "local_min = []\n",
        "count = 0\n",
        "row = 0\n",
        "figure, axis = plt.subplots(2, 4, figsize=(50, 20))\n",
        "for idx, channel in enumerate(sample['processed']):\n",
        "  data = channel\n",
        "  inverted_data = -data\n",
        "  minima_indices, _ = find_peaks(inverted_data)\n",
        "  local_min.append(minima_indices)\n",
        "  if count == 4:\n",
        "    row = 1\n",
        "  axis[row, idx%4].plot(data)\n",
        "  axis[row, idx%4].plot(minima_indices, data[minima_indices])\n",
        "  count += 1\n",
        "\n",
        "\n",
        "start_min = [min(i) for i in local_min ]\n",
        "print(sample['label'])"
      ],
      "metadata": {
        "id": "qXch3PYkKFQp"
      },
      "execution_count": null,
      "outputs": []
    },
    {
      "cell_type": "code",
      "source": [
        "import matplotlib.pyplot as plt\n",
        "import numpy as np\n",
        "from scipy.signal import find_peaks\n",
        "\n",
        "sample = train_dataset[3]\n",
        "\n",
        "local_min = []\n",
        "count = 0\n",
        "row = 0\n",
        "figure, axis = plt.subplots(2, 4, figsize=(50, 20))\n",
        "for idx, channel in enumerate(sample['processed']):\n",
        "  data = channel\n",
        "  inverted_data = -data\n",
        "  minima_indices, _ = find_peaks(inverted_data)\n",
        "  local_min.append(minima_indices)\n",
        "  if count == 4:\n",
        "    row = 1\n",
        "  axis[row, idx%4].plot(data)\n",
        "  axis[row, idx%4].plot(minima_indices, data[minima_indices])\n",
        "  count += 1\n",
        "start_min = [min(i) for i in local_min ]\n",
        "print(sample['label'])"
      ],
      "metadata": {
        "id": "KMyLhjUKNACw"
      },
      "execution_count": null,
      "outputs": []
    },
    {
      "cell_type": "code",
      "source": [
        "train_dataset['processed'].shape"
      ],
      "metadata": {
        "id": "p24vBrB2azHs"
      },
      "execution_count": null,
      "outputs": []
    },
    {
      "cell_type": "code",
      "source": [
        "datat = load_dataset(\"Expss4/super-preprocess-test-time_domain\")"
      ],
      "metadata": {
        "id": "N1cSKib4fWvE"
      },
      "execution_count": null,
      "outputs": []
    },
    {
      "cell_type": "code",
      "source": [
        "datat"
      ],
      "metadata": {
        "id": "qOFMh4tiflUD"
      },
      "execution_count": null,
      "outputs": []
    },
    {
      "cell_type": "code",
      "source": [
        "datat.set_format(type='torch')"
      ],
      "metadata": {
        "id": "mZGj-MZ2gUI9"
      },
      "execution_count": null,
      "outputs": []
    },
    {
      "cell_type": "code",
      "source": [
        "test_dataset = datat['train']"
      ],
      "metadata": {
        "id": "_3OE8h8bfxoH"
      },
      "execution_count": null,
      "outputs": []
    },
    {
      "cell_type": "markdown",
      "source": [
        "# 110"
      ],
      "metadata": {
        "id": "xlz9LTRHiAHU"
      }
    },
    {
      "cell_type": "code",
      "source": [
        "import matplotlib.pyplot as plt\n",
        "import numpy as np\n",
        "from scipy.signal import find_peaks\n",
        "\n",
        "for idx, data in enumerate(test_dataset['label']):\n",
        "  if data == \"a0dfb1f6-a76b-404f-a04a-b61e955ce1ef\":\n",
        "    sample = test_dataset[idx]\n",
        "    break\n",
        "\n",
        "local_min = []\n",
        "count = 0\n",
        "row = 0\n",
        "figure, axis = plt.subplots(2, 4, figsize=(50, 20))\n",
        "for idx, channel in enumerate(sample['arr']):\n",
        "  data = channel\n",
        "  inverted_data = -data\n",
        "  minima_indices, _ = find_peaks(inverted_data)\n",
        "  local_min.append(minima_indices)\n",
        "  if count == 4:\n",
        "    row = 1\n",
        "  axis[row, idx%4].plot(data)\n",
        "  axis[row, idx%4].plot(minima_indices, data[minima_indices])\n",
        "  count += 1\n",
        "start_min = [min(i) for i in local_min ]\n",
        "print(sample['label'])"
      ],
      "metadata": {
        "id": "FlfMERAGgGeO"
      },
      "execution_count": null,
      "outputs": []
    },
    {
      "cell_type": "markdown",
      "source": [
        "# 150"
      ],
      "metadata": {
        "id": "w0tKUfWZiI5j"
      }
    },
    {
      "cell_type": "code",
      "source": [
        "import matplotlib.pyplot as plt\n",
        "import numpy as np\n",
        "from scipy.signal import find_peaks\n",
        "\n",
        "for idx, data in enumerate(test_dataset['label']):\n",
        "  if data == \"51afd110-7556-4a7d-b6d2-68e46256f267\":\n",
        "    sample = test_dataset[idx]\n",
        "    break\n",
        "\n",
        "local_min = []\n",
        "count = 0\n",
        "row = 0\n",
        "figure, axis = plt.subplots(2, 4, figsize=(50, 20))\n",
        "for idx, channel in enumerate(sample['arr']):\n",
        "  data = channel\n",
        "  inverted_data = -data\n",
        "  minima_indices, _ = find_peaks(inverted_data)\n",
        "  local_min.append(minima_indices)\n",
        "  if count == 4:\n",
        "    row = 1\n",
        "  axis[row, idx%4].plot(data)\n",
        "  axis[row, idx%4].plot(minima_indices, data[minima_indices])\n",
        "  count += 1\n",
        "start_min = [min(i) for i in local_min ]\n",
        "print(sample['label'])"
      ],
      "metadata": {
        "id": "KujqR99fh4pr"
      },
      "execution_count": null,
      "outputs": []
    },
    {
      "cell_type": "code",
      "source": [
        "import matplotlib.pyplot as plt\n",
        "import numpy as np\n",
        "from scipy.signal import find_peaks\n",
        "\n",
        "for idx, data in enumerate(test_dataset['label']):\n",
        "  if data == \"eb229854-1a14-4e1f-8e52-470edbec47c9\":\n",
        "    sample = test_dataset[idx]\n",
        "    break\n",
        "\n",
        "local_min = []\n",
        "count = 0\n",
        "row = 0\n",
        "figure, axis = plt.subplots(2, 4, figsize=(50, 20))\n",
        "for idx, channel in enumerate(sample['arr']):\n",
        "  data = channel\n",
        "  inverted_data = -data\n",
        "  minima_indices, _ = find_peaks(inverted_data)\n",
        "  local_min.append(minima_indices)\n",
        "  if count == 4:\n",
        "    row = 1\n",
        "  axis[row, idx%4].plot(data)\n",
        "  axis[row, idx%4].plot(minima_indices, data[minima_indices])\n",
        "  count += 1\n",
        "start_min = [min(i) for i in local_min ]\n",
        "print(sample['label'])"
      ],
      "metadata": {
        "id": "Eoba8pLaiOFN"
      },
      "execution_count": null,
      "outputs": []
    },
    {
      "cell_type": "code",
      "source": [
        "import matplotlib.pyplot as plt\n",
        "import numpy as np\n",
        "from scipy.signal import find_peaks\n",
        "\n",
        "local_min = []\n",
        "count = 0\n",
        "row = 0\n",
        "figure, axis = plt.subplots(2, 4, figsize=(50, 20))\n",
        "for idx, channel in enumerate(sample['arr']):\n",
        "  data = channel\n",
        "  inverted_data = -data\n",
        "  minima_indices, _ = find_peaks(inverted_data)\n",
        "  local_min.append(minima_indices)\n",
        "  if count == 4:\n",
        "    row = 1\n",
        "  axis[row, idx%4].plot(data)\n",
        "  axis[row, idx%4].plot(minima_indices, data[minima_indices])\n",
        "  count += 1\n",
        "start_min = [min(i) for i in local_min ]\n",
        "print(sample['label'])"
      ],
      "metadata": {
        "id": "XgSDAAynwOiF"
      },
      "execution_count": null,
      "outputs": []
    },
    {
      "cell_type": "code",
      "source": [
        "train_dataset"
      ],
      "metadata": {
        "id": "tBCcZYIC8TJc"
      },
      "execution_count": null,
      "outputs": []
    },
    {
      "cell_type": "code",
      "source": [
        "train_dataset['label']"
      ],
      "metadata": {
        "id": "glisDFwkAj4K"
      },
      "execution_count": null,
      "outputs": []
    },
    {
      "cell_type": "code",
      "source": [
        "waves = []\n",
        "\n",
        "for data in train_dataset:\n",
        "  local_wave = []\n",
        "  for channel in data['processed']:\n",
        "    inverted_data = -channel\n",
        "    minima_indices, _ = find_peaks(inverted_data)\n",
        "    local_wave.append(channel[minima_indices])\n",
        "  waves.append(local_wave)"
      ],
      "metadata": {
        "id": "GNsQmTz17GZZ"
      },
      "execution_count": null,
      "outputs": []
    },
    {
      "cell_type": "code",
      "source": [
        "import torch\n",
        "import matplotlib.pyplot as plt"
      ],
      "metadata": {
        "id": "fEMI18Uq9H5m"
      },
      "execution_count": null,
      "outputs": []
    },
    {
      "cell_type": "code",
      "source": [
        "from datasets import Dataset\n",
        "ds = Dataset.from_dict({\"simply-wave\":waves, \"label\":train_dataset['label']})\n",
        "ds"
      ],
      "metadata": {
        "id": "N4Qphqd-8_UG"
      },
      "execution_count": null,
      "outputs": []
    },
    {
      "cell_type": "code",
      "source": [
        "plt.plot(ds['simply-wave'][0][1])"
      ],
      "metadata": {
        "id": "pYXS8ffrAtL0"
      },
      "execution_count": null,
      "outputs": []
    },
    {
      "cell_type": "code",
      "source": [
        "ds.push_to_hub(\"Expss4/simply_wave-train\")"
      ],
      "metadata": {
        "id": "0kZc__0mBIh9"
      },
      "execution_count": null,
      "outputs": []
    },
    {
      "cell_type": "code",
      "source": [
        "datat = load_dataset(\"Expss4/super-preprocess-test-time_domain\")"
      ],
      "metadata": {
        "id": "mKPRFmp6BvIp"
      },
      "execution_count": null,
      "outputs": []
    },
    {
      "cell_type": "code",
      "source": [
        "datat.set_format(type='torch')"
      ],
      "metadata": {
        "id": "_Sjq46QFB18M"
      },
      "execution_count": null,
      "outputs": []
    },
    {
      "cell_type": "code",
      "source": [
        "test_dataset = datat['train']\n",
        "test_dataset"
      ],
      "metadata": {
        "id": "e9-y8BBtBxO2"
      },
      "execution_count": null,
      "outputs": []
    },
    {
      "cell_type": "code",
      "source": [
        "test_dataset['arr'][0].shape"
      ],
      "metadata": {
        "id": "O6IKhEdqCDrS"
      },
      "execution_count": null,
      "outputs": []
    },
    {
      "cell_type": "code",
      "source": [
        "waves = []\n",
        "\n",
        "for data in test_dataset:\n",
        "  local_wave = []\n",
        "  for channel in data['arr']:\n",
        "    inverted_data = -channel\n",
        "    minima_indices, _ = find_peaks(inverted_data)\n",
        "    local_wave.append(channel[minima_indices])\n",
        "  waves.append(local_wave)"
      ],
      "metadata": {
        "id": "EDA1gOpkB9Eo"
      },
      "execution_count": null,
      "outputs": []
    },
    {
      "cell_type": "code",
      "source": [
        "from datasets import Dataset\n",
        "test_ds = Dataset.from_dict({\"simply-wave\":waves, \"label\":test_dataset['label']})\n",
        "test_ds"
      ],
      "metadata": {
        "id": "aWOObl7MCwv7"
      },
      "execution_count": null,
      "outputs": []
    },
    {
      "cell_type": "code",
      "source": [
        "Expss4/EXP-Last-Placetest_ds.push_to_hub(\"Expss4/simply_wave-test\")"
      ],
      "metadata": {
        "id": "eLUvjlqaDBv-"
      },
      "execution_count": null,
      "outputs": []
    }
  ]
}