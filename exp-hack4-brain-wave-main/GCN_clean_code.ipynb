{
  "nbformat": 4,
  "nbformat_minor": 0,
  "metadata": {
    "colab": {
      "provenance": [],
      "gpuType": "T4"
    },
    "kernelspec": {
      "name": "python3",
      "display_name": "Python 3"
    },
    "language_info": {
      "name": "python"
    },
    "accelerator": "GPU"
  },
  "cells": [
    {
      "cell_type": "code",
      "execution_count": null,
      "metadata": {
        "colab": {
          "base_uri": "https://localhost:8080/"
        },
        "id": "2SlhN46Mub5h",
        "outputId": "e3eabb75-f061-47a7-a702-ea089eb0665b"
      },
      "outputs": [
        {
          "output_type": "stream",
          "name": "stdout",
          "text": [
            "Requirement already satisfied: torch_geometric in /usr/local/lib/python3.10/dist-packages (2.5.3)\n",
            "Requirement already satisfied: tqdm in /usr/local/lib/python3.10/dist-packages (from torch_geometric) (4.66.4)\n",
            "Requirement already satisfied: numpy in /usr/local/lib/python3.10/dist-packages (from torch_geometric) (1.25.2)\n",
            "Requirement already satisfied: scipy in /usr/local/lib/python3.10/dist-packages (from torch_geometric) (1.11.4)\n",
            "Requirement already satisfied: fsspec in /usr/local/lib/python3.10/dist-packages (from torch_geometric) (2023.6.0)\n",
            "Requirement already satisfied: jinja2 in /usr/local/lib/python3.10/dist-packages (from torch_geometric) (3.1.4)\n",
            "Requirement already satisfied: aiohttp in /usr/local/lib/python3.10/dist-packages (from torch_geometric) (3.9.5)\n",
            "Requirement already satisfied: requests in /usr/local/lib/python3.10/dist-packages (from torch_geometric) (2.31.0)\n",
            "Requirement already satisfied: pyparsing in /usr/local/lib/python3.10/dist-packages (from torch_geometric) (3.1.2)\n",
            "Requirement already satisfied: scikit-learn in /usr/local/lib/python3.10/dist-packages (from torch_geometric) (1.2.2)\n",
            "Requirement already satisfied: psutil>=5.8.0 in /usr/local/lib/python3.10/dist-packages (from torch_geometric) (5.9.5)\n",
            "Requirement already satisfied: aiosignal>=1.1.2 in /usr/local/lib/python3.10/dist-packages (from aiohttp->torch_geometric) (1.3.1)\n",
            "Requirement already satisfied: attrs>=17.3.0 in /usr/local/lib/python3.10/dist-packages (from aiohttp->torch_geometric) (23.2.0)\n",
            "Requirement already satisfied: frozenlist>=1.1.1 in /usr/local/lib/python3.10/dist-packages (from aiohttp->torch_geometric) (1.4.1)\n",
            "Requirement already satisfied: multidict<7.0,>=4.5 in /usr/local/lib/python3.10/dist-packages (from aiohttp->torch_geometric) (6.0.5)\n",
            "Requirement already satisfied: yarl<2.0,>=1.0 in /usr/local/lib/python3.10/dist-packages (from aiohttp->torch_geometric) (1.9.4)\n",
            "Requirement already satisfied: async-timeout<5.0,>=4.0 in /usr/local/lib/python3.10/dist-packages (from aiohttp->torch_geometric) (4.0.3)\n",
            "Requirement already satisfied: MarkupSafe>=2.0 in /usr/local/lib/python3.10/dist-packages (from jinja2->torch_geometric) (2.1.5)\n",
            "Requirement already satisfied: charset-normalizer<4,>=2 in /usr/local/lib/python3.10/dist-packages (from requests->torch_geometric) (3.3.2)\n",
            "Requirement already satisfied: idna<4,>=2.5 in /usr/local/lib/python3.10/dist-packages (from requests->torch_geometric) (3.7)\n",
            "Requirement already satisfied: urllib3<3,>=1.21.1 in /usr/local/lib/python3.10/dist-packages (from requests->torch_geometric) (2.0.7)\n",
            "Requirement already satisfied: certifi>=2017.4.17 in /usr/local/lib/python3.10/dist-packages (from requests->torch_geometric) (2024.2.2)\n",
            "Requirement already satisfied: joblib>=1.1.1 in /usr/local/lib/python3.10/dist-packages (from scikit-learn->torch_geometric) (1.4.2)\n",
            "Requirement already satisfied: threadpoolctl>=2.0.0 in /usr/local/lib/python3.10/dist-packages (from scikit-learn->torch_geometric) (3.5.0)\n"
          ]
        }
      ],
      "source": [
        "!pip install torch_geometric"
      ]
    },
    {
      "cell_type": "code",
      "source": [
        "!pip install accelerate datasets"
      ],
      "metadata": {
        "colab": {
          "base_uri": "https://localhost:8080/"
        },
        "id": "zUkjNZVYZkJn",
        "outputId": "fd50c2da-e22f-49ae-c5a0-2419ee285547"
      },
      "execution_count": null,
      "outputs": [
        {
          "output_type": "stream",
          "name": "stdout",
          "text": [
            "Requirement already satisfied: accelerate in /usr/local/lib/python3.10/dist-packages (0.30.1)\n",
            "Requirement already satisfied: datasets in /usr/local/lib/python3.10/dist-packages (2.19.1)\n",
            "Requirement already satisfied: numpy>=1.17 in /usr/local/lib/python3.10/dist-packages (from accelerate) (1.25.2)\n",
            "Requirement already satisfied: packaging>=20.0 in /usr/local/lib/python3.10/dist-packages (from accelerate) (24.0)\n",
            "Requirement already satisfied: psutil in /usr/local/lib/python3.10/dist-packages (from accelerate) (5.9.5)\n",
            "Requirement already satisfied: pyyaml in /usr/local/lib/python3.10/dist-packages (from accelerate) (6.0.1)\n",
            "Requirement already satisfied: torch>=1.10.0 in /usr/local/lib/python3.10/dist-packages (from accelerate) (2.2.1+cu121)\n",
            "Requirement already satisfied: huggingface-hub in /usr/local/lib/python3.10/dist-packages (from accelerate) (0.23.0)\n",
            "Requirement already satisfied: safetensors>=0.3.1 in /usr/local/lib/python3.10/dist-packages (from accelerate) (0.4.3)\n",
            "Requirement already satisfied: filelock in /usr/local/lib/python3.10/dist-packages (from datasets) (3.14.0)\n",
            "Requirement already satisfied: pyarrow>=12.0.0 in /usr/local/lib/python3.10/dist-packages (from datasets) (14.0.2)\n",
            "Requirement already satisfied: pyarrow-hotfix in /usr/local/lib/python3.10/dist-packages (from datasets) (0.6)\n",
            "Requirement already satisfied: dill<0.3.9,>=0.3.0 in /usr/local/lib/python3.10/dist-packages (from datasets) (0.3.8)\n",
            "Requirement already satisfied: pandas in /usr/local/lib/python3.10/dist-packages (from datasets) (2.0.3)\n",
            "Requirement already satisfied: requests>=2.19.0 in /usr/local/lib/python3.10/dist-packages (from datasets) (2.31.0)\n",
            "Requirement already satisfied: tqdm>=4.62.1 in /usr/local/lib/python3.10/dist-packages (from datasets) (4.66.4)\n",
            "Requirement already satisfied: xxhash in /usr/local/lib/python3.10/dist-packages (from datasets) (3.4.1)\n",
            "Requirement already satisfied: multiprocess in /usr/local/lib/python3.10/dist-packages (from datasets) (0.70.16)\n",
            "Requirement already satisfied: fsspec[http]<=2024.3.1,>=2023.1.0 in /usr/local/lib/python3.10/dist-packages (from datasets) (2023.6.0)\n",
            "Requirement already satisfied: aiohttp in /usr/local/lib/python3.10/dist-packages (from datasets) (3.9.5)\n",
            "Requirement already satisfied: aiosignal>=1.1.2 in /usr/local/lib/python3.10/dist-packages (from aiohttp->datasets) (1.3.1)\n",
            "Requirement already satisfied: attrs>=17.3.0 in /usr/local/lib/python3.10/dist-packages (from aiohttp->datasets) (23.2.0)\n",
            "Requirement already satisfied: frozenlist>=1.1.1 in /usr/local/lib/python3.10/dist-packages (from aiohttp->datasets) (1.4.1)\n",
            "Requirement already satisfied: multidict<7.0,>=4.5 in /usr/local/lib/python3.10/dist-packages (from aiohttp->datasets) (6.0.5)\n",
            "Requirement already satisfied: yarl<2.0,>=1.0 in /usr/local/lib/python3.10/dist-packages (from aiohttp->datasets) (1.9.4)\n",
            "Requirement already satisfied: async-timeout<5.0,>=4.0 in /usr/local/lib/python3.10/dist-packages (from aiohttp->datasets) (4.0.3)\n",
            "Requirement already satisfied: typing-extensions>=3.7.4.3 in /usr/local/lib/python3.10/dist-packages (from huggingface-hub->accelerate) (4.11.0)\n",
            "Requirement already satisfied: charset-normalizer<4,>=2 in /usr/local/lib/python3.10/dist-packages (from requests>=2.19.0->datasets) (3.3.2)\n",
            "Requirement already satisfied: idna<4,>=2.5 in /usr/local/lib/python3.10/dist-packages (from requests>=2.19.0->datasets) (3.7)\n",
            "Requirement already satisfied: urllib3<3,>=1.21.1 in /usr/local/lib/python3.10/dist-packages (from requests>=2.19.0->datasets) (2.0.7)\n",
            "Requirement already satisfied: certifi>=2017.4.17 in /usr/local/lib/python3.10/dist-packages (from requests>=2.19.0->datasets) (2024.2.2)\n",
            "Requirement already satisfied: sympy in /usr/local/lib/python3.10/dist-packages (from torch>=1.10.0->accelerate) (1.12)\n",
            "Requirement already satisfied: networkx in /usr/local/lib/python3.10/dist-packages (from torch>=1.10.0->accelerate) (3.3)\n",
            "Requirement already satisfied: jinja2 in /usr/local/lib/python3.10/dist-packages (from torch>=1.10.0->accelerate) (3.1.4)\n",
            "Requirement already satisfied: nvidia-cuda-nvrtc-cu12==12.1.105 in /usr/local/lib/python3.10/dist-packages (from torch>=1.10.0->accelerate) (12.1.105)\n",
            "Requirement already satisfied: nvidia-cuda-runtime-cu12==12.1.105 in /usr/local/lib/python3.10/dist-packages (from torch>=1.10.0->accelerate) (12.1.105)\n",
            "Requirement already satisfied: nvidia-cuda-cupti-cu12==12.1.105 in /usr/local/lib/python3.10/dist-packages (from torch>=1.10.0->accelerate) (12.1.105)\n",
            "Requirement already satisfied: nvidia-cudnn-cu12==8.9.2.26 in /usr/local/lib/python3.10/dist-packages (from torch>=1.10.0->accelerate) (8.9.2.26)\n",
            "Requirement already satisfied: nvidia-cublas-cu12==12.1.3.1 in /usr/local/lib/python3.10/dist-packages (from torch>=1.10.0->accelerate) (12.1.3.1)\n",
            "Requirement already satisfied: nvidia-cufft-cu12==11.0.2.54 in /usr/local/lib/python3.10/dist-packages (from torch>=1.10.0->accelerate) (11.0.2.54)\n",
            "Requirement already satisfied: nvidia-curand-cu12==10.3.2.106 in /usr/local/lib/python3.10/dist-packages (from torch>=1.10.0->accelerate) (10.3.2.106)\n",
            "Requirement already satisfied: nvidia-cusolver-cu12==11.4.5.107 in /usr/local/lib/python3.10/dist-packages (from torch>=1.10.0->accelerate) (11.4.5.107)\n",
            "Requirement already satisfied: nvidia-cusparse-cu12==12.1.0.106 in /usr/local/lib/python3.10/dist-packages (from torch>=1.10.0->accelerate) (12.1.0.106)\n",
            "Requirement already satisfied: nvidia-nccl-cu12==2.19.3 in /usr/local/lib/python3.10/dist-packages (from torch>=1.10.0->accelerate) (2.19.3)\n",
            "Requirement already satisfied: nvidia-nvtx-cu12==12.1.105 in /usr/local/lib/python3.10/dist-packages (from torch>=1.10.0->accelerate) (12.1.105)\n",
            "Requirement already satisfied: triton==2.2.0 in /usr/local/lib/python3.10/dist-packages (from torch>=1.10.0->accelerate) (2.2.0)\n",
            "Requirement already satisfied: nvidia-nvjitlink-cu12 in /usr/local/lib/python3.10/dist-packages (from nvidia-cusolver-cu12==11.4.5.107->torch>=1.10.0->accelerate) (12.4.127)\n",
            "Requirement already satisfied: python-dateutil>=2.8.2 in /usr/local/lib/python3.10/dist-packages (from pandas->datasets) (2.8.2)\n",
            "Requirement already satisfied: pytz>=2020.1 in /usr/local/lib/python3.10/dist-packages (from pandas->datasets) (2023.4)\n",
            "Requirement already satisfied: tzdata>=2022.1 in /usr/local/lib/python3.10/dist-packages (from pandas->datasets) (2024.1)\n",
            "Requirement already satisfied: six>=1.5 in /usr/local/lib/python3.10/dist-packages (from python-dateutil>=2.8.2->pandas->datasets) (1.16.0)\n",
            "Requirement already satisfied: MarkupSafe>=2.0 in /usr/local/lib/python3.10/dist-packages (from jinja2->torch>=1.10.0->accelerate) (2.1.5)\n",
            "Requirement already satisfied: mpmath>=0.19 in /usr/local/lib/python3.10/dist-packages (from sympy->torch>=1.10.0->accelerate) (1.3.0)\n"
          ]
        }
      ]
    },
    {
      "cell_type": "code",
      "source": [
        "import torch\n",
        "import torch.nn as nn\n",
        "import torch_geometric.nn as geom_nn\n",
        "from torch_geometric.data import Data\n",
        "from torch.utils.data import Dataset\n",
        "import numpy as np\n",
        "import glob\n",
        "import matplotlib.pyplot as plt\n",
        "from scipy import signal\n",
        "import scipy\n",
        "import datasets"
      ],
      "metadata": {
        "id": "eaMcrLlOu6-n"
      },
      "execution_count": null,
      "outputs": []
    },
    {
      "cell_type": "code",
      "source": [
        "import datasets"
      ],
      "metadata": {
        "id": "dsEklazZyqeJ"
      },
      "execution_count": null,
      "outputs": []
    },
    {
      "cell_type": "code",
      "source": [
        "import io\n",
        "from PIL import Image"
      ],
      "metadata": {
        "id": "Irtgk1uRAb27"
      },
      "execution_count": null,
      "outputs": []
    },
    {
      "cell_type": "code",
      "source": [
        "from scipy.stats import pearsonr\n",
        "from scipy.sparse import csgraph"
      ],
      "metadata": {
        "id": "ZC8ZLpphgtl0"
      },
      "execution_count": null,
      "outputs": []
    },
    {
      "cell_type": "code",
      "source": [
        "from tqdm import tqdm\n",
        "import sys"
      ],
      "metadata": {
        "id": "qmcQy1SIrunk"
      },
      "execution_count": null,
      "outputs": []
    },
    {
      "cell_type": "code",
      "source": [
        "import os\n",
        "import pandas as pd"
      ],
      "metadata": {
        "id": "HF13lLkuT9nE"
      },
      "execution_count": null,
      "outputs": []
    },
    {
      "cell_type": "code",
      "source": [
        "import torch\n",
        "from transformers import pipeline\n",
        "\n",
        "DEVICE = torch.device('cuda' if torch.cuda.is_available() else 'cpu')\n",
        "pipe = pipeline(task=\"image-feature-extraction\", model_name=\"maxvit_base_tf_384.in1k\", device=DEVICE, pool=True)"
      ],
      "metadata": {
        "colab": {
          "base_uri": "https://localhost:8080/"
        },
        "id": "V6KmaR17UUnn",
        "outputId": "cfebee09-b76b-4033-98d2-8acd6be3cb50"
      },
      "execution_count": null,
      "outputs": [
        {
          "output_type": "stream",
          "name": "stderr",
          "text": [
            "No model was supplied, defaulted to google/vit-base-patch16-224 and revision 3f49326 (https://huggingface.co/google/vit-base-patch16-224).\n",
            "Using a pipeline without specifying a model name and revision in production is not recommended.\n",
            "/usr/local/lib/python3.10/dist-packages/huggingface_hub/file_download.py:1132: FutureWarning: `resume_download` is deprecated and will be removed in version 1.0.0. Downloads always resume when possible. If you want to force a new download, use `force_download=True`.\n",
            "  warnings.warn(\n",
            "/usr/local/lib/python3.10/dist-packages/huggingface_hub/utils/_token.py:89: UserWarning: \n",
            "The secret `HF_TOKEN` does not exist in your Colab secrets.\n",
            "To authenticate with the Hugging Face Hub, create a token in your settings tab (https://huggingface.co/settings/tokens), set it as secret in your Google Colab and restart your session.\n",
            "You will be able to reuse this secret in all of your notebooks.\n",
            "Please note that authentication is recommended but still optional to access public models or datasets.\n",
            "  warnings.warn(\n",
            "Some weights of ViTModel were not initialized from the model checkpoint at google/vit-base-patch16-224 and are newly initialized: ['vit.pooler.dense.bias', 'vit.pooler.dense.weight']\n",
            "You should probably TRAIN this model on a down-stream task to be able to use it for predictions and inference.\n"
          ]
        }
      ]
    },
    {
      "cell_type": "code",
      "source": [
        "!gdown 1IIZBAZb6Y-kYXC-BDaO2pMRYO8pwSpx4\n",
        "!unzip /content/brain-motor-imagery-classification.zip -d /content"
      ],
      "metadata": {
        "colab": {
          "base_uri": "https://localhost:8080/"
        },
        "id": "CK8xzQIlvXkO",
        "outputId": "babf1b7f-2862-4c8a-fbf7-c55e9b7559d4"
      },
      "execution_count": null,
      "outputs": [
        {
          "output_type": "stream",
          "name": "stdout",
          "text": [
            "Downloading...\n",
            "From (original): https://drive.google.com/uc?id=1IIZBAZb6Y-kYXC-BDaO2pMRYO8pwSpx4\n",
            "From (redirected): https://drive.google.com/uc?id=1IIZBAZb6Y-kYXC-BDaO2pMRYO8pwSpx4&confirm=t&uuid=f7685dbf-f3af-4202-b649-79af57ea0171\n",
            "To: /content/brain-motor-imagery-classification.zip\n",
            "100% 434M/434M [00:05<00:00, 76.9MB/s]\n",
            "Archive:  /content/brain-motor-imagery-classification.zip\n",
            "replace /content/sample_submission.csv? [y]es, [n]o, [A]ll, [N]one, [r]ename: "
          ]
        }
      ]
    },
    {
      "cell_type": "markdown",
      "source": [
        "## Preprocessing"
      ],
      "metadata": {
        "id": "L475HBtTvqV9"
      }
    },
    {
      "cell_type": "markdown",
      "source": [
        "### Define Torch Transform"
      ],
      "metadata": {
        "id": "N7ta12Cuvsd6"
      }
    },
    {
      "cell_type": "code",
      "source": [
        "def clip_chunk(chunk):\n",
        "    fix_length = 1734 # replace with min length\n",
        "    trim = len(chunk) - fix_length\n",
        "    # print(trim, len(chunk))\n",
        "    if trim %2 == 0:\n",
        "      trim_left = trim_right = int(trim/2)\n",
        "      return chunk[trim_left:-trim_right]\n",
        "    if trim %2 != 0:\n",
        "      trim_left = trim//2 + 1\n",
        "      trim_right = trim//2\n",
        "      assert trim_left + trim_right == trim, 'error @clip_chunk'\n",
        "      return chunk[trim_left:-trim_right]"
      ],
      "metadata": {
        "id": "JgFPuLNbvrpa"
      },
      "execution_count": null,
      "outputs": []
    },
    {
      "cell_type": "code",
      "source": [
        "#down sampling\n",
        "def down_sampling(signal_target):\n",
        "    #f = signal.resample(sig, 1750)\n",
        "    signa = np.transpose(signal_target)\n",
        "    magic_num = 2\n",
        "    dx = len(signal_target)//magic_num\n",
        "    final = np.array([signal.resample(sub_sig, dx) for sub_sig in signa])\n",
        "    #print(final.shape)\n",
        "    final = np.transpose(final)\n",
        "    #print(final.shape)\n",
        "\n",
        "    return final"
      ],
      "metadata": {
        "id": "RRhXX9Z5v2MQ"
      },
      "execution_count": null,
      "outputs": []
    },
    {
      "cell_type": "code",
      "source": [
        "# band-pass\n",
        "def band_pass(high_cut:int, low_cut:int, sample_rate:int, n_order:int, signal_target:np.ndarray):\n",
        "    #do fft\n",
        "    # fft_signal_target = np.fft.fft2(signal_target)\n",
        "    # fft_signal_target = np.transpose(fft_signal_target)\n",
        "    #fft_signal_target = np.fft.fft2(signal_target)\n",
        "    # signal_target = np.transpose(signal_target)\n",
        "    #print(fft_signal_target.shape)\n",
        "\n",
        "    ans = []\n",
        "    for i in range(8):\n",
        "        sos = scipy.signal.butter(n_order, [low_cut, high_cut], 'bandpass', fs=1/sample_rate, output='sos')\n",
        "        filtered_data = scipy.signal.sosfiltfilt(sos, signal_target[:, i])\n",
        "        #iffft_signal_target = np.fft.ifft2(filtered_data)\n",
        "        ans.append(filtered_data)\n",
        "\n",
        "    #iffft_signal_target = np.transpose(iffft_signal_target)\n",
        "\n",
        "    return np.transpose(np.array(ans))"
      ],
      "metadata": {
        "id": "1bGoedrQv4xF"
      },
      "execution_count": null,
      "outputs": []
    },
    {
      "cell_type": "code",
      "source": [
        "# power-method\n",
        "def power_method(signal_target):\n",
        "    all_pow = []\n",
        "    signal_target = np.transpose(signal_target)\n",
        "    for chan in range(8):\n",
        "        #processed_sig = np.fft.ifft(np.abs(np.fft.fft(signal_target[chan]))**2)\n",
        "        fft_sig = np.abs(np.fft.fft(signal_target[chan]))\n",
        "        processed_sig = fft_sig *fft_sig\n",
        "        #print(processed_sig.shape)\n",
        "        #all_pow.append(np.fft.ifft(np.abs(np.fft.fft(signal_target[:, chan]))**2))\n",
        "        all_pow.append(np.fft.ifft(processed_sig))\n",
        "    all_pow = np.transpose(np.array(all_pow))\n",
        "\n",
        "    return all_pow"
      ],
      "metadata": {
        "id": "4cmYVN0ev8WQ"
      },
      "execution_count": null,
      "outputs": []
    },
    {
      "cell_type": "code",
      "source": [
        "class EEGTransform(torch.nn.Module):\n",
        "  def __init__(self, l_freq, h_freq ,  sample_rate, n_order=4):\n",
        "    super().__init__()\n",
        "    self.h_freq = h_freq\n",
        "    self.l_freq = l_freq\n",
        "    self.sample_rate = sample_rate\n",
        "  def forward(self, x, idx):\n",
        "    x = x.T  # Need to transform from (8,1740) into (1740, 8)\n",
        "    x = clip_chunk(x)\n",
        "    x = down_sampling(x)\n",
        "    x = band_pass(self.h_freq, self.l_freq, self.sample_rate, 5, x)\n",
        "\n",
        "    # Perform STFT\n",
        "    f, t, Zxx = signal.stft(x[:,idx], 125, nperseg=865)\n",
        "\n",
        "    # Create a figure\n",
        "    fig, ax = plt.subplots()\n",
        "\n",
        "    # Plot the STFT magnitude using pcolormesh\n",
        "    ax.pcolormesh(t, f, np.abs(Zxx), shading='gouraud')\n",
        "\n",
        "    # If you do not want any axes or labels, you can disable them\n",
        "    ax.axis('off')  # Turn off the axis\n",
        "\n",
        "    fig.savefig(f'out_{idx}.png', bbox_inches='tight', pad_inches=0)\n",
        "\n",
        "    # Assume fig is your Matplotlib figure object that you've set up elsewhere\n",
        "    buf = io.BytesIO()\n",
        "    fig.savefig(buf, format='png', bbox_inches='tight', pad_inches=0)\n",
        "    buf.seek(0)  # Rewind the buffer to start reading from the beginning\n",
        "    img = Image.open(buf)\n",
        "    img_copy = img.copy()\n",
        "    # Optionally, show the image to verify it's correct\n",
        "    #display(img)\n",
        "\n",
        "    # Close the buffer and figure to clean up resources\n",
        "    buf.close()\n",
        "    plt.close(fig)\n",
        "\n",
        "    return x, img_copy"
      ],
      "metadata": {
        "id": "zWo_pHFhwYtc"
      },
      "execution_count": null,
      "outputs": []
    },
    {
      "cell_type": "code",
      "source": [
        "img_test = Image.open('out_5.png')\n",
        "outputs = pipe([img_test, img_test, img_test])\n",
        "\n",
        "# get the length of a single output\n",
        "print(len(outputs[0][0]))\n",
        "# show outputs\n",
        "print(type(outputs))\n",
        "outputs = torch.tensor(outputs).squeeze()\n",
        "print(outputs.shape)"
      ],
      "metadata": {
        "colab": {
          "base_uri": "https://localhost:8080/"
        },
        "id": "EgR4BGjoXZms",
        "outputId": "9d30204b-73d6-4974-f708-3bf0168cdda3"
      },
      "execution_count": null,
      "outputs": [
        {
          "output_type": "stream",
          "name": "stdout",
          "text": [
            "768\n",
            "<class 'list'>\n",
            "torch.Size([3, 768])\n"
          ]
        }
      ]
    },
    {
      "cell_type": "code",
      "source": [
        "print(type(outputs))"
      ],
      "metadata": {
        "colab": {
          "base_uri": "https://localhost:8080/"
        },
        "id": "7jaNTc_4o0xg",
        "outputId": "a9768e37-dba7-4483-daff-6148cc20eb3a"
      },
      "execution_count": null,
      "outputs": [
        {
          "output_type": "stream",
          "name": "stdout",
          "text": [
            "<class 'torch.Tensor'>\n"
          ]
        }
      ]
    },
    {
      "cell_type": "code",
      "source": [
        "node_embeddings = outputs.detach().cpu().numpy()\n",
        "# Let's assume 'node_embeddings' is your node embedding matrix of shape (n_nodes, n_features)\n",
        "n_nodes = node_embeddings.shape[0]\n",
        "\n",
        "# Step 1: Compute PCC Matrix\n",
        "pcc_matrix = np.corrcoef(node_embeddings, rowvar= True)\n",
        "print(pcc_matrix.shape)\n",
        "\n",
        "# Step 2: Convert to Absolute PCC Matrix\n",
        "abs_pcc_matrix = np.abs(pcc_matrix)\n",
        "\n",
        "# Step 3: Create Adjacency Matrix by thresholding the absolute PCC Matrix\n",
        "threshold = 0.5  # Adjust this threshold based on your specific requirements\n",
        "adjacency_matrix = (abs_pcc_matrix > threshold).astype(int)\n",
        "\n",
        "# Ensure diagonal is zero (no self-loops)\n",
        "np.fill_diagonal(adjacency_matrix, 0)  # SPECIFIC for adjacency matrix\n",
        "\n",
        "# Step 4: Compute Graph Laplacian\n",
        "laplacian_matrix = csgraph.laplacian(adjacency_matrix, normed=False)\n",
        "print(laplacian_matrix.shape)\n",
        "\n",
        "\n",
        "# Convert adjacency matrix to edge index format for PyTorch Geometric\n",
        "edge_index = torch.tensor(np.nonzero(laplacian_matrix), dtype=torch.long)   # The first row contains source nodes.  The second row contains target nodes.\n",
        "\n",
        "# Assume you also have node features in some tensor 'node_features'\n",
        "node_features = torch.tensor(node_embeddings, dtype=torch.float32)\n",
        "\n",
        "# Create the graph data object\n",
        "data = Data(x=node_features, edge_index=edge_index)\n",
        "\n",
        "print(\"Adjacency Matrix:\\n\", adjacency_matrix)\n",
        "print(\"Graph Laplacian:\\n\", laplacian_matrix)\n",
        "print(\"Edge Index for PyTorch Geometric:\\n\", edge_index)\n",
        "print(\"Data object created for PyTorch Geometric.\")\n"
      ],
      "metadata": {
        "colab": {
          "base_uri": "https://localhost:8080/"
        },
        "id": "Fn_Bxgamg2DZ",
        "outputId": "a4dcb469-b014-4e56-f372-fe4d72c564ad"
      },
      "execution_count": null,
      "outputs": [
        {
          "output_type": "stream",
          "name": "stdout",
          "text": [
            "(3, 3)\n",
            "(3, 3)\n",
            "Adjacency Matrix:\n",
            " [[0 1 1]\n",
            " [1 0 1]\n",
            " [1 1 0]]\n",
            "Graph Laplacian:\n",
            " [[ 2 -1 -1]\n",
            " [-1  2 -1]\n",
            " [-1 -1  2]]\n",
            "Edge Index for PyTorch Geometric:\n",
            " tensor([[0, 0, 0, 1, 1, 1, 2, 2, 2],\n",
            "        [0, 1, 2, 0, 1, 2, 0, 1, 2]])\n",
            "Data object created for PyTorch Geometric.\n"
          ]
        }
      ]
    },
    {
      "cell_type": "code",
      "source": [
        "print(data)"
      ],
      "metadata": {
        "colab": {
          "base_uri": "https://localhost:8080/"
        },
        "id": "bwcZ7ZX3ncW6",
        "outputId": "93df6df6-6612-4169-88db-d3de1001416e"
      },
      "execution_count": null,
      "outputs": [
        {
          "output_type": "stream",
          "name": "stdout",
          "text": [
            "Data(x=[3, 768], edge_index=[2, 9])\n"
          ]
        }
      ]
    },
    {
      "cell_type": "code",
      "source": [
        "class TimeSeriesDataset(Dataset):\n",
        "    def __init__(self, folder_path, transform=None):\n",
        "        super(TimeSeriesDataset, self).__init__()\n",
        "        self.img_series = []\n",
        "        self.node_emb = []\n",
        "        self.graph_series = []\n",
        "        self.label_series = []\n",
        "        self.transform = transform\n",
        "        npy_files = sorted(glob.glob(folder_path + \"/*.npy\"))\n",
        "        file_map = {}     # {'/content/train/train/s1_d2_p002_002_': {'data_time_series': '/content/train/train/s1_d2_p002_002_data_time_series.npy',...}, }\n",
        "\n",
        "        # Organize files by base name , FULL_name: Ex. /content/train/train/s1_d2_p002_002_data_time_series.npy\n",
        "        for file_path in npy_files:\n",
        "            base_name = file_path[:36]  # Ex. /content/train/train/s1_d2_p002_002_\n",
        "            file_type = file_path[36:-4]   # Ex. data_time_series\n",
        "            if base_name not in file_map:\n",
        "                file_map[base_name] = {}\n",
        "            file_map[base_name][file_type] = file_path\n",
        "\n",
        "        self.file_map_list = list(file_map.items())\n",
        "\n",
        "    def create_graph(self, output, threshold=0.5):\n",
        "\n",
        "        node_embeddings = output.detach().cpu().numpy()\n",
        "        # Let's assume 'node_embeddings' is your node embedding matrix of shape (n_nodes, n_features)\n",
        "        n_nodes = node_embeddings.shape[0]\n",
        "\n",
        "        # Step 1: Compute PCC Matrix\n",
        "        pcc_matrix = np.corrcoef(node_embeddings, rowvar= True)\n",
        "\n",
        "        # Step 2: Convert to Absolute PCC Matrix\n",
        "        abs_pcc_matrix = np.abs(pcc_matrix)\n",
        "\n",
        "        # Step 3: Create Adjacency Matrix by thresholding the absolute PCC Matrix\n",
        "        # Adjust this threshold based on your specific requirements\n",
        "        adjacency_matrix = (abs_pcc_matrix > threshold).astype(int)\n",
        "\n",
        "        # Ensure diagonal is zero (no self-loops)\n",
        "        np.fill_diagonal(adjacency_matrix, 0)  # SPECIFIC for adjacency matrix\n",
        "\n",
        "        # Step 4: Compute Graph Laplacian\n",
        "        laplacian_matrix = csgraph.laplacian(adjacency_matrix, normed=False)\n",
        "\n",
        "        # Convert adjacency matrix to edge index format for PyTorch Geometric\n",
        "        edge_index = torch.tensor(np.nonzero(laplacian_matrix), dtype=torch.long)   # The first row contains source nodes.  The second row contains target nodes.\n",
        "\n",
        "        # Assume you also have node features in some tensor 'node_features'\n",
        "        node_features = torch.tensor(node_embeddings, dtype=torch.float32)\n",
        "\n",
        "        # Create the graph data object\n",
        "        data = Data(x=node_features, edge_index=edge_index)\n",
        "\n",
        "        return data\n",
        "\n",
        "\n",
        "    def __len__(self):\n",
        "        return len(self.graph_series)\n",
        "\n",
        "    def __getitem__(self, idx):  # idx is channel idx\n",
        "        base_name, files = self.file_map_list[idx]\n",
        "        data_time_series = np.load(files['data_time_series'])  # main time-series\n",
        "        label_time_series = np.load(files['label_time_series'])\n",
        "        data_time_stamps = np.load(files['data_time_stamps'])\n",
        "        label_time_stamps = np.load(files['label_time_stamps'])\n",
        "\n",
        "        transposed_time_series = data_time_series.T\n",
        "        node_time_series = transposed_time_series[:8, :]  # Kept only row 0-7 (8 electrodes)\n",
        "        graph_series = []\n",
        "        label_series = []\n",
        "        #self.data_series.append(node_time_series)\n",
        "\n",
        "        for idx, label in zip(range(0,len(label_time_stamps),2) , label_time_series):\n",
        "            arr = np.zeros((8, 1740))\n",
        "            self.img_series = []\n",
        "            start_idx = label_time_stamps[idx]\n",
        "            if idx+1 < len(label_time_stamps):\n",
        "              end_idx = label_time_stamps[idx+1]\n",
        "            else:\n",
        "              continue\n",
        "\n",
        "\n",
        "            time_start_idx = np.argmin(np.abs(data_time_stamps - start_idx))\n",
        "            time_end_idx = np.argmin(np.abs(data_time_stamps - end_idx))\n",
        "\n",
        "            for ch_idx in range(len(node_time_series)):\n",
        "                chunk = data_time_series.T[:8, :][ch_idx][time_start_idx:time_end_idx]\n",
        "                if len(chunk) < 1740:\n",
        "                    chunk = np.pad(chunk, (0, 1740 - len(chunk)), 'constant')  #  (0, 1740 - len(chunk)) means has 0 padding before the chunk first element while has n padding after chunk last element (n is the difference)\n",
        "                arr[ch_idx] = chunk[:1740]\n",
        "\n",
        "\n",
        "            # Preprocessing pipeline\n",
        "            for ch_idx in range(arr.shape[0]):\n",
        "              if self.transform:\n",
        "                  x, img = self.transform(arr, ch_idx)\n",
        "                  self.img_series.append(img)\n",
        "\n",
        "\n",
        "            dataset = datasets.Dataset.from_dict({'images': self.img_series})\n",
        "\n",
        "            # Encoded images in data series list into node embeddings\n",
        "            emb_vecs = pipe(dataset['images'])\n",
        "            # show outputs\n",
        "            emb_vecs = torch.tensor(emb_vecs).squeeze()\n",
        "\n",
        "            # Create Graph object using node emb and edge index\n",
        "            graph_data = self.create_graph(emb_vecs)\n",
        "            graph_series.append(graph_data)\n",
        "            label_series.append(label)\n",
        "\n",
        "        data = graph_series\n",
        "        label = label_series\n",
        "\n",
        "        #data = torch.tensor(data, dtype=torch.float32)  # transform before become torch.tensor\n",
        "        return data, label"
      ],
      "metadata": {
        "id": "roaHy2_jxjyi"
      },
      "execution_count": null,
      "outputs": []
    },
    {
      "cell_type": "markdown",
      "source": [
        "#### Test the Time Series Dataset"
      ],
      "metadata": {
        "id": "DDLKkGF7JX8z"
      }
    },
    {
      "cell_type": "code",
      "source": [
        "folder_path =  \"/content/train/train\"\n",
        "Transform = EEGTransform(l_freq = 13, h_freq= 32 , sample_rate = 1/125, n_order=5)\n",
        "data_bp = TimeSeriesDataset(folder_path, transform = Transform)"
      ],
      "metadata": {
        "id": "ibQOMPLxxnC3"
      },
      "execution_count": null,
      "outputs": []
    },
    {
      "cell_type": "code",
      "source": [
        "data_graph , labels = data_bp[2]"
      ],
      "metadata": {
        "colab": {
          "base_uri": "https://localhost:8080/"
        },
        "id": "_acsbiivP5Vh",
        "outputId": "165d30a2-9814-45f7-bc67-8b941e8a1881"
      },
      "execution_count": null,
      "outputs": [
        {
          "output_type": "execute_result",
          "data": {
            "text/plain": [
              "([Data(x=[8, 768], edge_index=[2, 64]),\n",
              "  Data(x=[8, 768], edge_index=[2, 64]),\n",
              "  Data(x=[8, 768], edge_index=[2, 64]),\n",
              "  Data(x=[8, 768], edge_index=[2, 64]),\n",
              "  Data(x=[8, 768], edge_index=[2, 64]),\n",
              "  Data(x=[8, 768], edge_index=[2, 64]),\n",
              "  Data(x=[8, 768], edge_index=[2, 64]),\n",
              "  Data(x=[8, 768], edge_index=[2, 64]),\n",
              "  Data(x=[8, 768], edge_index=[2, 64]),\n",
              "  Data(x=[8, 768], edge_index=[2, 64]),\n",
              "  Data(x=[8, 768], edge_index=[2, 64]),\n",
              "  Data(x=[8, 768], edge_index=[2, 64]),\n",
              "  Data(x=[8, 768], edge_index=[2, 64]),\n",
              "  Data(x=[8, 768], edge_index=[2, 64]),\n",
              "  Data(x=[8, 768], edge_index=[2, 64])],\n",
              " [array([120], dtype=int32),\n",
              "  array([110], dtype=int32),\n",
              "  array([150], dtype=int32),\n",
              "  array([150], dtype=int32),\n",
              "  array([120], dtype=int32),\n",
              "  array([110], dtype=int32),\n",
              "  array([120], dtype=int32),\n",
              "  array([110], dtype=int32),\n",
              "  array([150], dtype=int32),\n",
              "  array([150], dtype=int32),\n",
              "  array([120], dtype=int32),\n",
              "  array([110], dtype=int32),\n",
              "  array([120], dtype=int32),\n",
              "  array([150], dtype=int32),\n",
              "  array([110], dtype=int32)])"
            ]
          },
          "metadata": {},
          "execution_count": 40
        }
      ]
    },
    {
      "cell_type": "code",
      "source": [
        "sample_signal ,img_output , label = data_bp[5]\n",
        "print(sample_signal.shape)\n",
        "print(label)\n",
        "display(img_output)"
      ],
      "metadata": {
        "colab": {
          "base_uri": "https://localhost:8080/",
          "height": 422
        },
        "id": "3oWOhrYZF4K1",
        "outputId": "978c3cb2-35bc-4de0-ed50-f30d7dbdb705"
      },
      "execution_count": null,
      "outputs": [
        {
          "output_type": "stream",
          "name": "stdout",
          "text": [
            "(867, 8)\n",
            "[110]\n"
          ]
        },
        {
          "output_type": "display_data",
          "data": {
            "text/plain": [
              "<PIL.Image.Image image mode=RGBA size=496x369>"
            ],
            "image/png": "[encoded data removed]"
          },
          "metadata": {}
        }
      ]
    },
    {
      "cell_type": "code",
      "source": [
        "img_1 = Image.open(img_output)"
      ],
      "metadata": {
        "colab": {
          "base_uri": "https://localhost:8080/",
          "height": 329
        },
        "id": "QLYkie8pUimH",
        "outputId": "f19af4f3-7d2c-4166-fce7-f80139e3966c"
      },
      "execution_count": null,
      "outputs": [
        {
          "output_type": "error",
          "ename": "AttributeError",
          "evalue": "read",
          "traceback": [
            "\u001b[0;31m---------------------------------------------------------------------------\u001b[0m",
            "\u001b[0;31mAttributeError\u001b[0m                            Traceback (most recent call last)",
            "\u001b[0;32m<ipython-input-91-5548cb1f3483>\u001b[0m in \u001b[0;36m<cell line: 1>\u001b[0;34m()\u001b[0m\n\u001b[0;32m----> 1\u001b[0;31m \u001b[0mimg_1\u001b[0m \u001b[0;34m=\u001b[0m \u001b[0mImage\u001b[0m\u001b[0;34m.\u001b[0m\u001b[0mopen\u001b[0m\u001b[0;34m(\u001b[0m\u001b[0mimg_output\u001b[0m\u001b[0;34m)\u001b[0m\u001b[0;34m\u001b[0m\u001b[0;34m\u001b[0m\u001b[0m\n\u001b[0m",
            "\u001b[0;32m/usr/local/lib/python3.10/dist-packages/PIL/Image.py\u001b[0m in \u001b[0;36mopen\u001b[0;34m(fp, mode, formats)\u001b[0m\n\u001b[1;32m   3234\u001b[0m         \u001b[0mexclusive_fp\u001b[0m \u001b[0;34m=\u001b[0m \u001b[0;32mTrue\u001b[0m\u001b[0;34m\u001b[0m\u001b[0;34m\u001b[0m\u001b[0m\n\u001b[1;32m   3235\u001b[0m \u001b[0;34m\u001b[0m\u001b[0m\n\u001b[0;32m-> 3236\u001b[0;31m     \u001b[0mprefix\u001b[0m \u001b[0;34m=\u001b[0m \u001b[0mfp\u001b[0m\u001b[0;34m.\u001b[0m\u001b[0mread\u001b[0m\u001b[0;34m(\u001b[0m\u001b[0;36m16\u001b[0m\u001b[0;34m)\u001b[0m\u001b[0;34m\u001b[0m\u001b[0;34m\u001b[0m\u001b[0m\n\u001b[0m\u001b[1;32m   3237\u001b[0m \u001b[0;34m\u001b[0m\u001b[0m\n\u001b[1;32m   3238\u001b[0m     \u001b[0mpreinit\u001b[0m\u001b[0;34m(\u001b[0m\u001b[0;34m)\u001b[0m\u001b[0;34m\u001b[0m\u001b[0;34m\u001b[0m\u001b[0m\n",
            "\u001b[0;32m/usr/local/lib/python3.10/dist-packages/PIL/Image.py\u001b[0m in \u001b[0;36m__getattr__\u001b[0;34m(self, name)\u001b[0m\n\u001b[1;32m    527\u001b[0m             \u001b[0mdeprecate\u001b[0m\u001b[0;34m(\u001b[0m\u001b[0;34m\"Image categories\"\u001b[0m\u001b[0;34m,\u001b[0m \u001b[0;36m10\u001b[0m\u001b[0;34m,\u001b[0m \u001b[0;34m\"is_animated\"\u001b[0m\u001b[0;34m,\u001b[0m \u001b[0mplural\u001b[0m\u001b[0;34m=\u001b[0m\u001b[0;32mTrue\u001b[0m\u001b[0;34m)\u001b[0m\u001b[0;34m\u001b[0m\u001b[0;34m\u001b[0m\u001b[0m\n\u001b[1;32m    528\u001b[0m             \u001b[0;32mreturn\u001b[0m \u001b[0mself\u001b[0m\u001b[0;34m.\u001b[0m\u001b[0m_category\u001b[0m\u001b[0;34m\u001b[0m\u001b[0;34m\u001b[0m\u001b[0m\n\u001b[0;32m--> 529\u001b[0;31m         \u001b[0;32mraise\u001b[0m \u001b[0mAttributeError\u001b[0m\u001b[0;34m(\u001b[0m\u001b[0mname\u001b[0m\u001b[0;34m)\u001b[0m\u001b[0;34m\u001b[0m\u001b[0;34m\u001b[0m\u001b[0m\n\u001b[0m\u001b[1;32m    530\u001b[0m \u001b[0;34m\u001b[0m\u001b[0m\n\u001b[1;32m    531\u001b[0m     \u001b[0;34m@\u001b[0m\u001b[0mproperty\u001b[0m\u001b[0;34m\u001b[0m\u001b[0;34m\u001b[0m\u001b[0m\n",
            "\u001b[0;31mAttributeError\u001b[0m: read"
          ]
        }
      ]
    },
    {
      "cell_type": "code",
      "source": [],
      "metadata": {
        "id": "QXwGR0i4KnDu"
      },
      "execution_count": null,
      "outputs": []
    }
  ]
}