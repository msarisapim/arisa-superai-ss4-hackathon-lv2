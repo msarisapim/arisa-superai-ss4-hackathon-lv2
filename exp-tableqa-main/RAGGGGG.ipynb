{
 "cells": [
  {
   "cell_type": "code",
   "execution_count": 26,
   "id": "cf0c7d7c-10e2-47c2-9d15-308f123ef05a",
   "metadata": {},
   "outputs": [],
   "source": [
    "import pandas as pd\n",
    "import numpy as np"
   ]
  },
  {
   "cell_type": "code",
   "execution_count": 2,
   "id": "64db2cb0-34b5-4a53-a40f-043796ceff94",
   "metadata": {},
   "outputs": [
    {
     "name": "stdout",
     "output_type": "stream",
     "text": [
      "Fri May  3 04:01:49 2024       \n",
      "+-----------------------------------------------------------------------------+\n",
      "| NVIDIA-SMI 525.105.17   Driver Version: 525.105.17   CUDA Version: 12.0     |\n",
      "|-------------------------------+----------------------+----------------------+\n",
      "| GPU  Name        Persistence-M| Bus-Id        Disp.A | Volatile Uncorr. ECC |\n",
      "| Fan  Temp  Perf  Pwr:Usage/Cap|         Memory-Usage | GPU-Util  Compute M. |\n",
      "|                               |                      |               MIG M. |\n",
      "|===============================+======================+======================|\n",
      "|   0  NVIDIA A100-SXM...  On   | 00000000:03:00.0 Off |                    0 |\n",
      "| N/A   37C    P0    51W / 400W |      0MiB / 40960MiB |      0%      Default |\n",
      "|                               |                      |             Disabled |\n",
      "+-------------------------------+----------------------+----------------------+\n",
      "|   1  NVIDIA A100-SXM...  On   | 00000000:41:00.0 Off |                    0 |\n",
      "| N/A   36C    P0    52W / 400W |      0MiB / 40960MiB |      0%      Default |\n",
      "|                               |                      |             Disabled |\n",
      "+-------------------------------+----------------------+----------------------+\n",
      "|   2  NVIDIA A100-SXM...  On   | 00000000:81:00.0 Off |                    0 |\n",
      "| N/A   37C    P0    55W / 400W |      0MiB / 40960MiB |      0%      Default |\n",
      "|                               |                      |             Disabled |\n",
      "+-------------------------------+----------------------+----------------------+\n",
      "|   3  NVIDIA A100-SXM...  On   | 00000000:C1:00.0 Off |                    0 |\n",
      "| N/A   36C    P0    52W / 400W |      0MiB / 40960MiB |      0%      Default |\n",
      "|                               |                      |             Disabled |\n",
      "+-------------------------------+----------------------+----------------------+\n",
      "                                                                               \n",
      "+-----------------------------------------------------------------------------+\n",
      "| Processes:                                                                  |\n",
      "|  GPU   GI   CI        PID   Type   Process name                  GPU Memory |\n",
      "|        ID   ID                                                   Usage      |\n",
      "|=============================================================================|\n",
      "|  No running processes found                                                 |\n",
      "+-----------------------------------------------------------------------------+\n"
     ]
    }
   ],
   "source": [
    "!nvidia-smi"
   ]
  },
  {
   "cell_type": "code",
   "execution_count": 3,
   "id": "6c79e7f2-7f0b-4e00-a1b7-24893106fe5a",
   "metadata": {},
   "outputs": [],
   "source": [
    "from sqlalchemy import (\n",
    "    create_engine,\n",
    "    MetaData,\n",
    "    Table,\n",
    "    Column,\n",
    "    String,\n",
    "    Integer,\n",
    "    select,\n",
    ")"
   ]
  },
  {
   "cell_type": "code",
   "execution_count": 4,
   "id": "21ba3e64-ee1d-4c59-b864-4feca4bb15f7",
   "metadata": {},
   "outputs": [
    {
     "name": "stderr",
     "output_type": "stream",
     "text": [
      "/home/ai4109/.conda/envs/llm/lib/python3.9/site-packages/tqdm/auto.py:21: TqdmWarning: IProgress not found. Please update jupyter and ipywidgets. See https://ipywidgets.readthedocs.io/en/stable/user_install.html\n",
      "  from .autonotebook import tqdm as notebook_tqdm\n"
     ]
    }
   ],
   "source": [
    "from llama_index.core import SQLDatabase"
   ]
  },
  {
   "cell_type": "markdown",
   "id": "9107bb2f-8078-4fab-a4d9-1e5a4813f63a",
   "metadata": {},
   "source": [
    "# start here"
   ]
  },
  {
   "cell_type": "code",
   "execution_count": 5,
   "id": "c878e3d8-3000-49db-a79a-757f7d6646c9",
   "metadata": {},
   "outputs": [
    {
     "data": {
      "text/plain": [
       "'/lustrefs/disk/project/lt900052-ai2414/NonOTG70B_Test'"
      ]
     },
     "execution_count": 5,
     "metadata": {},
     "output_type": "execute_result"
    }
   ],
   "source": [
    "pwd"
   ]
  },
  {
   "attachments": {},
   "cell_type": "markdown",
   "id": "bdfd1a85",
   "metadata": {},
   "source": [
    "## Load Model\n",
    "(OpenThaiGPT finetuned with text to sql dataset (https://huggingface.co/datasets/gretelai/synthetic_text_to_sql))"
   ]
  },
  {
   "cell_type": "code",
   "execution_count": 6,
   "id": "bc307905-f7aa-4d34-b21c-dab3660aa028",
   "metadata": {},
   "outputs": [],
   "source": [
    "model_path = '/project/lt900052-ai2414/Junior/SuperAI_LLM_FineTune/new_checkpoint_4'"
   ]
  },
  {
   "cell_type": "code",
   "execution_count": 7,
   "id": "5873d39f-22cb-40ba-b13b-e13c22507a3d",
   "metadata": {},
   "outputs": [],
   "source": [
    "import torch\n",
    "from llama_index.llms.huggingface import HuggingFaceLLM"
   ]
  },
  {
   "cell_type": "code",
   "execution_count": 8,
   "id": "c96e1254-19a7-4714-ac5d-4bcd4345fe83",
   "metadata": {},
   "outputs": [],
   "source": [
    "# #Load resp synth model\n",
    "# synthesizer_path = '/project/lt900048-ai24tn/models/openthaigpt/openthaigpt-1.0.0-13b-chat'\n",
    "# llm_synthesizer = HuggingFaceLLM(\n",
    "#     model_name=synthesizer_path,\n",
    "#     tokenizer_name=synthesizer_path,\n",
    "#     device_map=\"auto\",\n",
    "#     generate_kwargs = {'num_beams' : 3, 'no_repeat_ngram_size' : 3},\n",
    "#     # model_kwargs={\"load_in_8bit\": True}\n",
    "# )"
   ]
  },
  {
   "cell_type": "code",
   "execution_count": 9,
   "id": "46927197-2707-4716-b946-843146dd7e17",
   "metadata": {},
   "outputs": [
    {
     "name": "stderr",
     "output_type": "stream",
     "text": [
      "Loading checkpoint shards: 100%|██████████| 6/6 [02:08<00:00, 21.40s/it]\n",
      "Special tokens have been added in the vocabulary, make sure the associated word embeddings are fine-tuned or trained.\n",
      "You set `add_prefix_space`. The tokenizer needs to be converted from the slow tokenizers\n",
      "Special tokens have been added in the vocabulary, make sure the associated word embeddings are fine-tuned or trained.\n"
     ]
    }
   ],
   "source": [
    "\n",
    "\n",
    "llm = HuggingFaceLLM(\n",
    "    model_name=model_path,\n",
    "    tokenizer_name=model_path,\n",
    "    device_map=\"auto\",\n",
    "    generate_kwargs = {'num_beams' : 5}\n",
    ")"
   ]
  },
  {
   "cell_type": "code",
   "execution_count": 10,
   "id": "aab81cd3-d67c-4429-bbb3-12574b36dd4b",
   "metadata": {},
   "outputs": [
    {
     "data": {
      "text/plain": [
       "tensor([0.], device='cuda:0')"
      ]
     },
     "execution_count": 10,
     "metadata": {},
     "output_type": "execute_result"
    }
   ],
   "source": [
    "torch.zeros(1).cuda()"
   ]
  },
  {
   "cell_type": "code",
   "execution_count": 11,
   "id": "cc0b2f95-f577-4e97-a742-f8e31f69c08d",
   "metadata": {},
   "outputs": [
    {
     "data": {
      "text/plain": [
       "True"
      ]
     },
     "execution_count": 11,
     "metadata": {},
     "output_type": "execute_result"
    }
   ],
   "source": [
    "torch.cuda.is_available()"
   ]
  },
  {
   "cell_type": "code",
   "execution_count": 12,
   "id": "2c4ffe30-1fe6-499b-99e5-9ca95f3fb2af",
   "metadata": {},
   "outputs": [
    {
     "data": {
      "text/plain": [
       "device(type='cuda')"
      ]
     },
     "execution_count": 12,
     "metadata": {},
     "output_type": "execute_result"
    }
   ],
   "source": [
    "device = torch.device(\"cuda\" if torch.cuda.is_available() else \"cpu\")\n",
    "device"
   ]
  },
  {
   "cell_type": "code",
   "execution_count": 13,
   "id": "ee1f66ce-6a07-4ada-8e6e-aa48a236a733",
   "metadata": {},
   "outputs": [
    {
     "name": "stdout",
     "output_type": "stream",
     "text": [
      "Embeddings have been explicitly disabled. Using MockEmbedding.\n"
     ]
    }
   ],
   "source": [
    "from llama_index.embeddings.huggingface import HuggingFaceEmbedding\n",
    "from llama_index.core import Settings\n",
    "\n",
    "Settings.embed_model = None"
   ]
  },
  {
   "cell_type": "code",
   "execution_count": 14,
   "id": "518ac5f7-e68c-4a90-8e1d-aff396bc1cd7",
   "metadata": {},
   "outputs": [],
   "source": [
    "engine = create_engine(\"sqlite:////scratch/lt900052-ai2414/exp.db\")"
   ]
  },
  {
   "cell_type": "code",
   "execution_count": 15,
   "id": "f671c3f6-3222-4b41-91b6-c443bc6eebfc",
   "metadata": {},
   "outputs": [],
   "source": [
    "# test read df from sql\n",
    "df = pd.read_sql('select * from financial_statement',engine)"
   ]
  },
  {
   "cell_type": "code",
   "execution_count": 16,
   "id": "b85b4f8f-c0d3-44ef-848c-eed5c7922d8d",
   "metadata": {},
   "outputs": [
    {
     "data": {
      "text/html": [
       "<div>\n",
       "<style scoped>\n",
       "    .dataframe tbody tr th:only-of-type {\n",
       "        vertical-align: middle;\n",
       "    }\n",
       "\n",
       "    .dataframe tbody tr th {\n",
       "        vertical-align: top;\n",
       "    }\n",
       "\n",
       "    .dataframe thead th {\n",
       "        text-align: right;\n",
       "    }\n",
       "</style>\n",
       "<table border=\"1\" class=\"dataframe\">\n",
       "  <thead>\n",
       "    <tr style=\"text-align: right;\">\n",
       "      <th></th>\n",
       "      <th>Year</th>\n",
       "      <th>Company</th>\n",
       "      <th>Category</th>\n",
       "      <th>Market Cap(in B USD)</th>\n",
       "      <th>Revenue</th>\n",
       "      <th>Gross Profit</th>\n",
       "      <th>Net Income</th>\n",
       "      <th>Earning Per Share</th>\n",
       "      <th>EBITDA</th>\n",
       "      <th>Share Holder Equity</th>\n",
       "      <th>...</th>\n",
       "      <th>Current Ratio</th>\n",
       "      <th>Debt/Equity Ratio</th>\n",
       "      <th>ROE</th>\n",
       "      <th>ROA</th>\n",
       "      <th>ROI</th>\n",
       "      <th>Net Profit Margin</th>\n",
       "      <th>Free Cash Flow per Share</th>\n",
       "      <th>Return on Tangible Equity</th>\n",
       "      <th>Number of Employees</th>\n",
       "      <th>Inflation Rate(in US)</th>\n",
       "    </tr>\n",
       "  </thead>\n",
       "  <tbody>\n",
       "    <tr>\n",
       "      <th>0</th>\n",
       "      <td>2022</td>\n",
       "      <td>AAPL</td>\n",
       "      <td>IT</td>\n",
       "      <td>2066.94</td>\n",
       "      <td>394328.0</td>\n",
       "      <td>170782.0</td>\n",
       "      <td>99803.0</td>\n",
       "      <td>6.11</td>\n",
       "      <td>130541.0</td>\n",
       "      <td>50672.0</td>\n",
       "      <td>...</td>\n",
       "      <td>0.8794</td>\n",
       "      <td>2.3695</td>\n",
       "      <td>196.9589</td>\n",
       "      <td>28.2924</td>\n",
       "      <td>66.6994</td>\n",
       "      <td>25.3096</td>\n",
       "      <td>1.3146</td>\n",
       "      <td>196.9589</td>\n",
       "      <td>164000</td>\n",
       "      <td>8.0028</td>\n",
       "    </tr>\n",
       "    <tr>\n",
       "      <th>1</th>\n",
       "      <td>2021</td>\n",
       "      <td>AAPL</td>\n",
       "      <td>IT</td>\n",
       "      <td>2913.28</td>\n",
       "      <td>365817.0</td>\n",
       "      <td>152836.0</td>\n",
       "      <td>94680.0</td>\n",
       "      <td>5.61</td>\n",
       "      <td>120233.0</td>\n",
       "      <td>63090.0</td>\n",
       "      <td>...</td>\n",
       "      <td>1.0746</td>\n",
       "      <td>1.9768</td>\n",
       "      <td>150.0713</td>\n",
       "      <td>26.9742</td>\n",
       "      <td>54.9839</td>\n",
       "      <td>25.8818</td>\n",
       "      <td>1.3261</td>\n",
       "      <td>150.0713</td>\n",
       "      <td>154000</td>\n",
       "      <td>4.6979</td>\n",
       "    </tr>\n",
       "    <tr>\n",
       "      <th>2</th>\n",
       "      <td>2020</td>\n",
       "      <td>AAPL</td>\n",
       "      <td>IT</td>\n",
       "      <td>2255.97</td>\n",
       "      <td>274515.0</td>\n",
       "      <td>104956.0</td>\n",
       "      <td>57411.0</td>\n",
       "      <td>3.28</td>\n",
       "      <td>77344.0</td>\n",
       "      <td>65339.0</td>\n",
       "      <td>...</td>\n",
       "      <td>1.3636</td>\n",
       "      <td>1.7208</td>\n",
       "      <td>87.8664</td>\n",
       "      <td>17.7256</td>\n",
       "      <td>35.0054</td>\n",
       "      <td>20.9136</td>\n",
       "      <td>1.0183</td>\n",
       "      <td>87.8664</td>\n",
       "      <td>147000</td>\n",
       "      <td>1.2336</td>\n",
       "    </tr>\n",
       "    <tr>\n",
       "      <th>3</th>\n",
       "      <td>2019</td>\n",
       "      <td>AAPL</td>\n",
       "      <td>IT</td>\n",
       "      <td>1304.76</td>\n",
       "      <td>260174.0</td>\n",
       "      <td>98392.0</td>\n",
       "      <td>55256.0</td>\n",
       "      <td>2.97</td>\n",
       "      <td>76477.0</td>\n",
       "      <td>90488.0</td>\n",
       "      <td>...</td>\n",
       "      <td>1.5401</td>\n",
       "      <td>1.1940</td>\n",
       "      <td>61.0645</td>\n",
       "      <td>16.3230</td>\n",
       "      <td>30.3113</td>\n",
       "      <td>21.2381</td>\n",
       "      <td>-0.0388</td>\n",
       "      <td>61.0645</td>\n",
       "      <td>137000</td>\n",
       "      <td>1.8122</td>\n",
       "    </tr>\n",
       "    <tr>\n",
       "      <th>4</th>\n",
       "      <td>2018</td>\n",
       "      <td>AAPL</td>\n",
       "      <td>IT</td>\n",
       "      <td>748.54</td>\n",
       "      <td>265595.0</td>\n",
       "      <td>101839.0</td>\n",
       "      <td>59531.0</td>\n",
       "      <td>2.98</td>\n",
       "      <td>81801.0</td>\n",
       "      <td>107147.0</td>\n",
       "      <td>...</td>\n",
       "      <td>1.1329</td>\n",
       "      <td>1.0685</td>\n",
       "      <td>55.5601</td>\n",
       "      <td>16.2775</td>\n",
       "      <td>29.6348</td>\n",
       "      <td>22.4142</td>\n",
       "      <td>0.7414</td>\n",
       "      <td>55.5601</td>\n",
       "      <td>132000</td>\n",
       "      <td>2.4426</td>\n",
       "    </tr>\n",
       "  </tbody>\n",
       "</table>\n",
       "<p>5 rows × 23 columns</p>\n",
       "</div>"
      ],
      "text/plain": [
       "   Year Company Category  Market Cap(in B USD)   Revenue  Gross Profit  \\\n",
       "0  2022    AAPL       IT               2066.94  394328.0      170782.0   \n",
       "1  2021    AAPL       IT               2913.28  365817.0      152836.0   \n",
       "2  2020    AAPL       IT               2255.97  274515.0      104956.0   \n",
       "3  2019    AAPL       IT               1304.76  260174.0       98392.0   \n",
       "4  2018    AAPL       IT                748.54  265595.0      101839.0   \n",
       "\n",
       "   Net Income  Earning Per Share    EBITDA  Share Holder Equity  ...  \\\n",
       "0     99803.0               6.11  130541.0              50672.0  ...   \n",
       "1     94680.0               5.61  120233.0              63090.0  ...   \n",
       "2     57411.0               3.28   77344.0              65339.0  ...   \n",
       "3     55256.0               2.97   76477.0              90488.0  ...   \n",
       "4     59531.0               2.98   81801.0             107147.0  ...   \n",
       "\n",
       "   Current Ratio  Debt/Equity Ratio       ROE      ROA      ROI  \\\n",
       "0         0.8794             2.3695  196.9589  28.2924  66.6994   \n",
       "1         1.0746             1.9768  150.0713  26.9742  54.9839   \n",
       "2         1.3636             1.7208   87.8664  17.7256  35.0054   \n",
       "3         1.5401             1.1940   61.0645  16.3230  30.3113   \n",
       "4         1.1329             1.0685   55.5601  16.2775  29.6348   \n",
       "\n",
       "   Net Profit Margin  Free Cash Flow per Share  Return on Tangible Equity  \\\n",
       "0            25.3096                    1.3146                   196.9589   \n",
       "1            25.8818                    1.3261                   150.0713   \n",
       "2            20.9136                    1.0183                    87.8664   \n",
       "3            21.2381                   -0.0388                    61.0645   \n",
       "4            22.4142                    0.7414                    55.5601   \n",
       "\n",
       "   Number of Employees  Inflation Rate(in US)  \n",
       "0               164000                 8.0028  \n",
       "1               154000                 4.6979  \n",
       "2               147000                 1.2336  \n",
       "3               137000                 1.8122  \n",
       "4               132000                 2.4426  \n",
       "\n",
       "[5 rows x 23 columns]"
      ]
     },
     "execution_count": 16,
     "metadata": {},
     "output_type": "execute_result"
    }
   ],
   "source": [
    "df.head(5)"
   ]
  },
  {
   "cell_type": "code",
   "execution_count": 16,
   "id": "e8037eed-232d-458d-bbb7-a5c20887ead0",
   "metadata": {},
   "outputs": [],
   "source": [
    "from llama_index.embeddings.huggingface import HuggingFaceEmbedding\n",
    "embed_model = HuggingFaceEmbedding(model_name=\"models/bge-m3\")"
   ]
  },
  {
   "cell_type": "code",
   "execution_count": 18,
   "id": "68ed8268-4cb2-4f54-81c3-10c3440e1e10",
   "metadata": {},
   "outputs": [],
   "source": [
    "from llama_index.core import Settings\n",
    "Settings.embed_model = embed_model"
   ]
  },
  {
   "cell_type": "code",
   "execution_count": 35,
   "id": "34afc0a0-c53c-4295-a2d1-905a57a0cc35",
   "metadata": {},
   "outputs": [],
   "source": [
    "table_name = \"customer_support_tickets.faiss\""
   ]
  },
  {
   "cell_type": "code",
   "execution_count": 37,
   "id": "59e8a765-df63-4a2f-a78c-9ef39fc456e4",
   "metadata": {},
   "outputs": [],
   "source": [
    "import faiss\n",
    "from llama_index.readers.faiss import FaissReader\n",
    "index = faiss.read_index(\"/scratch/lt900052-ai2414/\"+table_name)\n",
    "reader = FaissReader(index)\n"
   ]
  },
  {
   "cell_type": "code",
   "execution_count": 42,
   "id": "f53dc4d1-8d9c-4108-b684-4a3c74d44743",
   "metadata": {},
   "outputs": [],
   "source": [
    "search_text = 'สัดส่วนของลูกค้าชายที่ซื้อ Macbook'\n",
    "search_vector = embed_model.get_text_embedding(search_text)\n",
    "_vector = np.array([search_vector])"
   ]
  },
  {
   "cell_type": "code",
   "execution_count": 43,
   "id": "2b97ee7c-104f-43bf-8a2b-6140484d5d5e",
   "metadata": {},
   "outputs": [],
   "source": [
    "distances, ann = index.search(_vector, k=3)"
   ]
  },
  {
   "cell_type": "code",
   "execution_count": 55,
   "id": "c12c98e8-1758-4644-bcc8-2603c5e768fb",
   "metadata": {},
   "outputs": [],
   "source": [
    "import json\n",
    "d = dict()\n",
    "with open('/scratch/lt900052-ai2414/customer_support_tickets.json') as json_data:\n",
    "    d = json.load(json_data)\n"
   ]
  },
  {
   "cell_type": "code",
   "execution_count": 60,
   "id": "c3baf795-8958-416a-a46b-bddb63b42dfa",
   "metadata": {},
   "outputs": [],
   "source": [
    "rag_examples = [d[str(x)] for x in ann[0]]"
   ]
  },
  {
   "cell_type": "code",
   "execution_count": 64,
   "id": "483c42f0-cec5-4a51-971c-2f61cf4b117c",
   "metadata": {},
   "outputs": [
    {
     "data": {
      "text/plain": [
       "[[\"SELECT AVG(Customer_Age) FROM customer_support_tickets WHERE Product_Purchased = 'Macbook';\",\n",
       "  \"หา Customer_Age เฉลี่ยของลูกค้าที่ซื้อ 'Macbook'\"],\n",
       " [\"SELECT COUNT(*) FROM customer_support_tickets WHERE Customer_Age BETWEEN 25 AND 35 AND Product_Purchased = 'MacBook';\",\n",
       "  \"มี Customer_Age จำนวนเท่าไหร่ ที่อยู่ในช่วง 25-35 ปี และ Product_Purchased เป็น 'MacBook'\"],\n",
       " ['SELECT \"Product_Purchased\", COUNT(*) AS \"Total_Purchased\" FROM \"customer_support_tickets\" WHERE \"Customer_Gender\" = \\'Male\\' GROUP BY \"Product_Purchased\" ORDER BY \"Total_Purchased\" DESC LIMIT 1; ',\n",
       "  'ลูกค้าชายซื้ออะไรมากที่สุด']]"
      ]
     },
     "execution_count": 64,
     "metadata": {},
     "output_type": "execute_result"
    }
   ],
   "source": [
    "rag_examples"
   ]
  },
  {
   "cell_type": "code",
   "execution_count": 65,
   "id": "6f33eff8-0110-4686-885b-0f2b5092c34e",
   "metadata": {},
   "outputs": [],
   "source": [
    "formatted_strings = []\n",
    "for i, example in enumerate(rag_examples, start=1):\n",
    "    formatted_string = f\"Question: {example[1]}\\nSql query: {example[0]}\"\n",
    "    formatted_strings.append(formatted_string)\n",
    "\n",
    "formatted_output = \"\\n\".join(formatted_strings)"
   ]
  },
  {
   "cell_type": "code",
   "execution_count": null,
   "id": "cc423497-6021-4c6e-aeda-759588f500c9",
   "metadata": {},
   "outputs": [],
   "source": []
  },
  {
   "cell_type": "code",
   "execution_count": 32,
   "id": "13350bf6-2248-41b4-abe7-ec30b7a7c4d7",
   "metadata": {},
   "outputs": [],
   "source": [
    "import logging\n",
    "import sys\n",
    "\n",
    "logging.basicConfig(stream=sys.stdout, level=logging.INFO)\n",
    "logging.getLogger().addHandler(logging.StreamHandler(stream=sys.stdout))"
   ]
  },
  {
   "cell_type": "code",
   "execution_count": 17,
   "id": "36d83b67-8669-463e-acb3-2ecca6020df0",
   "metadata": {},
   "outputs": [],
   "source": [
    "sql_database = SQLDatabase(engine, include_tables=[\"online_shopping\",])\n",
    "#'financial_statement','spotify','customer_support_tickets'"
   ]
  },
  {
   "cell_type": "code",
   "execution_count": 33,
   "id": "c3e0b7c2-1b1a-4f86-a622-df237a9c3dd4",
   "metadata": {},
   "outputs": [
    {
     "name": "stdout",
     "output_type": "stream",
     "text": [
      "INFO:faiss.loader:Loading faiss with AVX2 support.\n",
      "Loading faiss with AVX2 support.\n",
      "INFO:faiss.loader:Successfully loaded faiss with AVX2 support.\n",
      "Successfully loaded faiss with AVX2 support.\n"
     ]
    }
   ],
   "source": []
  },
  {
   "cell_type": "code",
   "execution_count": 18,
   "id": "b92b9ca1-806e-435f-80e9-05a3b442ef92",
   "metadata": {},
   "outputs": [],
   "source": [
    "# # TABLE B Prompt\n",
    "# new_prompt_str = \"\"\"<s>[INST] <<SYS>>\\nYou are a question answering assistant. Answer the question as truthful and helpful as possible คุณคือผู้ช่วยตอบคำถาม จงตอบคำถามอย่างถูกต้องและมีประโยชน์ที่สุด<</SYS>>\\n\\n\n",
    "# You are a SQLite expert. Given an input question,create a syntactically correct SQLite query to run.\n",
    "# You can order the results to return the most informative data in the database.\n",
    "# You are working with only one table named financial_statement.\n",
    "\n",
    "# DO WRAP EVERY COLUMN NAME WITH (\").\n",
    "# For example: DO: \"Market Cap\".\n",
    "# DO NOT: Market Cap\n",
    "# Use the following format:\n",
    "\n",
    "# SQLQuery: SQL Query to run\n",
    "\n",
    "# Only use the following columns of the financial_statement table:\n",
    "# Year\n",
    "# Description: Year of financial statement\n",
    "\n",
    "# Data Type: Categorical;\n",
    "\n",
    "# Company\n",
    "# ชื่อบริษัท\n",
    "# Data Type: Text;\n",
    "\n",
    "# Category\n",
    "# หมวดหมู่\n",
    "# Data Type: Categorical;\n",
    "\n",
    "# Market Cap(in B USD)\n",
    "# มูลค่าตลาด (พันล้าน USD)\n",
    "# Data Type: Numeric;\n",
    "\n",
    "# Revenue\n",
    "# Data Type: Numeric;\n",
    "\n",
    "# Gross Profit\n",
    "# ผลกำไรขั้นต้น\n",
    "# Data Type: Numeric;\n",
    "\n",
    "# Net Income\n",
    "# ผลกำไรสุทธิ\n",
    "# Data Type: Numeric;\n",
    "\n",
    "# Earning Per Share\n",
    "# กำไรต่อหุ้น\n",
    "# Data Type: Numeric;\n",
    "\n",
    "# EBITDA:\n",
    "# กำไรก่อนดอกเบี้ย ภาษี ค่าเสื่อมราคาและค่าตัดจำหน่าย\n",
    "# Data Type: Numeric;\n",
    "\n",
    "# Share Holder Equity\n",
    "# ส่วนของผู้ถือหุ้น\n",
    "# Data Type: Numeric;\n",
    "\n",
    "# Cash Flow from Operating\n",
    "# Data Type: Numeric;\n",
    "\n",
    "# Cash Flow from Investing\n",
    "# Description: Any inflows or outflows of cash from a company's long-term investments.\n",
    "# กระแสเงินสดจากการลงทุน\n",
    "# Data Type: Numeric;\n",
    "\n",
    "# Cash Flow from Financial Activities\n",
    "# กระแสเงินสดจากกิจกรรมจัดหาเงิน\n",
    "# Data Type: Numeric;\n",
    "\n",
    "# Current Ratio\n",
    "# Data Type: Date;\n",
    "\n",
    "# Debt/Equity Ratio\n",
    "# อัตราส่วน หนี้สิน ต่อ ทุน\n",
    "# Data Type: Numeric;\n",
    "\n",
    "# ROE\n",
    "# ผลตอบแทนต่อส่วนของผู้ถือหุ้น\n",
    "# Data Type: Numeric;\n",
    "\n",
    "# ROA\n",
    "# อัตราผลตอบแทนจากสินทรัพย์ทั้งหมด\n",
    "# Data Type: Numeric;\n",
    "\n",
    "# ROI\n",
    "# ผลตอบแทนจากการลงทุนนั่นเอง.\n",
    "# Data Type: Numeric;\n",
    "\n",
    "# Net Profit Margin\n",
    "# อัตรากำไร (%)\n",
    "# Data Type: Numeric;\n",
    "\n",
    "# Free Cash Flow per Share\n",
    "\n",
    "# Data Type: Numeric;\n",
    "\n",
    "# Return on Tangible Equity\n",
    "\n",
    "# Data Type: Numeric;\n",
    "\n",
    "# Number of Employees\n",
    "# Description: Number of Employee in each company\n",
    "# จำนวนพนักงาน\n",
    "# Data Type: Numeric;\n",
    "\n",
    "# Inflation Rate(in US)\n",
    "# Description: the rate of increase in prices over a given period of time in US\n",
    "# อัตราเงินเฟ้อ\n",
    "# Data Type: Numeric;\n",
    "\n",
    "# Here's some example rows from the table:\n",
    "# <Table>\n",
    "# Year\tCompany\tCategory\tMarket Cap(in B USD)\tRevenue\tGross Profit\tNet Income\tEarning Per Share\tEBITDA\tShare Holder Equity\tCash Flow from Operating\tCash Flow from Investing\tCash Flow from Financial Activities\tCurrent Ratio\tDebt/Equity Ratio\tROE\tROA\tROI\tNet Profit Margin\tFree Cash Flow per Share\tReturn on Tangible Equity\tNumber of Employees\tInflation Rate(in US)\n",
    "# MSFT\tIT\t238.78\t62484\t50089\t18760\t2.1\t26771\t46175\t24073\t-11314\t-13291\t2.1293\t0.1286\t40.628\t21.7853\t36.7023\t30.0237\t0.7057\t57.5054\t94000\t1.64\n",
    "# </Table>\n",
    "# ###RULES\n",
    "# Remember to DO WRAP EVERY COLUMN NAME WITH single quote(\").\n",
    "# For example: DO: \"Market Cap\".\n",
    "# DO NOT: Market Cap\n",
    "# And DO NOT CHANGE Company symbol to it's full name\n",
    "# for example: MSFT should stay as MSFT. NEVER Microsoft\n",
    "# IF the question is not related to the columns or table. Just say I don't know.\n",
    "# This is some relevant question and their SQL examples:\n",
    "# Question:บริษัท MSFT จัดอยู่ใน Category อะไร ในปี 2022\n",
    "# SQL Query:SELECT Category FROM financial_statement WHERE Year = 2022 AND Company = \"MSFT\" \n",
    "# Question:ผลรวมกำไรขั้นต้นของบริษัท XXX 5 ปีย้อนหลัง (ตั้งแต่ปี 2019-2023) มากกว่า ผลรวมกำไรขั้นต้นของบริษัท YYY 5 ปีย้อนหลัง (ตั้งแต่ปี 2019-2023) หรือไม่ กรุณาตอบเป็น 'True' หรือ 'False',\n",
    "# SQL Query:SELECT SUM(CASE WHEN a.Company = 'XXX' THEN a.\"Gross Profit\" ELSE 0 END) AS XXX_Gross_Profit, SUM(CASE WHEN a.Company = 'YYY' THEN a.\"Gross Profit\" ELSE 0 END) AS YYY_Gross_Profit FROM (SELECT * FROM financial_statement WHERE Company IN ('XXX', 'YYY') AND Year BETWEEN 2019 AND 2023) a;\n",
    "# Question: {query_str}\n",
    "# SQL Query: \n",
    "# [/INST]\"\"\""
   ]
  },
  {
   "cell_type": "code",
   "execution_count": 19,
   "id": "4d779587-ed1d-41d8-92c9-c90b71884c01",
   "metadata": {},
   "outputs": [],
   "source": [
    "# new_prompt_str = \"\"\"<<SYS>>\\nYou are a question answering assistant. Answer the question as truthful and helpful as possible คุณคือผู้ช่วยตอบคำถาม จงตอบคำถามอย่างถูกต้องและมีประโยชน์ที่สุด<</SYS>>\\n\\n\n",
    "# You are a SQLite expert. Given an input question,create a syntactically correct SQLite query to run.\n",
    "# You can order the results to return the most informative data in the database.\n",
    "# Never query for all columns from a table. You must query only the columns that are needed to answer the question. Wrap each column name in double quotes (\") to denote them as delimited identifiers.\n",
    "# Pay attention to use only the column names you can see in the table below. Be careful to not query for columns that do not exist.\n",
    "# You are working with only one table named online_shopping.\n",
    "# Unless the query specifies the number of results, you MUST give only 1 answer, using LIMIT 1\n",
    "# DO WRAP EVERY COLUMN NAME WITH (\").\n",
    "# For example: DO: \"Market Cap\".\n",
    "# DO NOT: Market Cap\n",
    "# Use the following format:\n",
    "\n",
    "# SQLQuery: SQL Query to run\n",
    "\n",
    "\n",
    "# Only use the following columns of the online_shopping table:\n",
    "# ### CustomerID\n",
    "# รหัสลูกค้า\n",
    "\n",
    "# ### Gender\n",
    "# Description: Gender of the customer (e.g., M,F).\n",
    "# เพศ\n",
    "\n",
    "# ### Location\n",
    "# สถานที่ เมือง\n",
    "# Data Type: Text;\n",
    "# ### Tenure_Months\n",
    "\n",
    "# ### Transaction_ID\n",
    "\n",
    "# ### Transaction_Date\n",
    "# วันที่ทำธุรกรรม\n",
    "\n",
    "# ### Product_SKU\n",
    "# รหัสสินค้า\n",
    "\n",
    "# ### Product_Description\n",
    "\n",
    "# ### Product_Category:\n",
    "# ประเภทสินค้า\n",
    "\n",
    "# ### Quantity\n",
    "# จำนวนสินค้าที่ซื้อ\n",
    "\n",
    "# ### Avg_Price\n",
    "# ราคาเฉลี่ย\n",
    "\n",
    "# ### Total_Price\n",
    "# ราคารวม ไม่รวมค่าจัดส่ง\n",
    "\n",
    "# ### Delivery_Charges\n",
    "# ค่าจัดส่ง\n",
    "\n",
    "# ### Date\n",
    "# วันที่\n",
    "\n",
    "# ### Month\n",
    "# เดือน\n",
    "\n",
    "# Here's some example rows from the table:\n",
    "# <Table>\n",
    "# CustomerID\tGender\tLocation\tTenure_Months\tTransaction_ID\tTransaction_Date\tProduct_SKU\tProduct_Description\tProduct_Category\tQuantity\tAvg_Price\tTotal_Price\tDelivery_Charges\tDate\tMonth\n",
    "# 17850\tM\tChicago\t12\t16679\t2019-01-01\tGGOENEBJ079499\tNest Learning Thermostat 3rd Gen-USA - Stainless Steel\tNest-USA\t1\t153.71\t153.71\t6.5\t1/1/2019\t1\n",
    "# 17850\tM\tChicago\t12\t16680\t2019-01-01\tGGOENEBJ079499\tNest Learning Thermostat 3rd Gen-USA - Stainless Steel\tNest-USA\t1\t153.71\t153.71\t6.5\t1/1/2019\t1\n",
    "# 17850\tM\tChicago\t12\t16696\t2019-01-01\tGGOENEBQ078999\tNest Cam Outdoor Security Camera - USA\tNest-USA\t2\t122.77\t245.54\t6.5\t1/1/2019\t1\n",
    "# 17850\tM\tChicago\t12\t16699\t2019-01-01\tGGOENEBQ079099\tNest Protect Smoke + CO White Battery Alarm-USA\tNest-USA\t1\t81.5\t81.5\t6.5\t1/1/2019\t1\n",
    "# 17850\tM\tChicago\t12\t16700\t2019-01-01\tGGOENEBJ079499\tNest Learning Thermostat 3rd Gen-USA - Stainless Steel\tNest-USA\t1\t153.71\t153.71\t6.5\t1/1/2019\t1\n",
    "# </Table>\n",
    "\n",
    "# ###RULES\n",
    "# Remember to DO WRAP EVERY COLUMN NAME WITH single quote(\").\n",
    "# For example: DO: \"Market Cap\".\n",
    "# DO NOT: Market Cap\n",
    "\n",
    "\n",
    "# Question: {query_str}\n",
    "# SQL Query:[/INST]\n",
    "# \"\"\""
   ]
  },
  {
   "cell_type": "code",
   "execution_count": 67,
   "id": "51c96b0c-ad2f-40e6-9c71-1a67e4c31912",
   "metadata": {},
   "outputs": [
    {
     "data": {
      "text/plain": [
       "'<<SYS>>\\nYou are a question answering assistant. Answer the question as truthful and helpful as possible คุณคือผู้ช่วยตอบคำถาม จงตอบคำถามอย่างถูกต้องและมีประโยชน์ที่สุด<</SYS>>\\n\\n\\nYou are a SQLite expert. Given an input question,create a syntactically correct SQLite query to run.\\nYou can order the results to return the most informative data in the database.\\nNever query for all columns from a table. You must query only the columns that are needed to answer the question. Wrap each column name in double quotes (\") to denote them as delimited identifiers.\\nPay attention to use only the column names you can see in the table below. Be careful to not query for columns that do not exist.\\nYou are working with only one table named spotify.\\nUnless the query specifies the number of results, you MUST give only 1 answer, using LIMIT 1\\nDO WRAP EVERY COLUMN NAME WITH (\").\\nFor example: DO: \"Market Cap\".\\nDO NOT: Market Cap\\nUse the following format:\\n\\nSQLQuery: SQL Query to run\\n\\n\\nOnly use the following columns of the spotify table:\\nTable name : spotify\\n    Column : \"track_name\"\\n    respresent: Name of the song\\n    Data Type: Text;\\n\\n    Column : \"artist(s)_name\"\\n    respresent: Name of the artist(s) of the song\\n    Data Type: Text;\\n\\n    Column : \"artist_count\"\\n    respresent: Number of artists contributing to the song\\n    Data Type: [1, 2, 3, 4, 5, 6, 7, 8]\\n\\n    Column : \"released_year\"\\n    respresent: Year when the song was released\\n    Data Type: [2023, 2019, 2022, 2013, 2014, 2018, 2017, 2020, 2016, 2012, 1999,\\n       2008, 1975, 2021, 2015, 2011, 2004, 1985, 2007, 2002, 2010, 1983,\\n       1992, 1968, 1984, 2000, 1997, 1995, 2003, 1973, 1930, 1994, 1958,\\n       1957, 1963, 1959, 1970, 1971, 1952, 1946, 1979, 1950, 1942, 1986,\\n       2005, 1991, 1996, 1998, 1982, 1987]\\n\\n    Column : \"released_month\"\\n    respresent: Month when the song was released\\n    Data Type: [1, 2, 3, 4, 5, 6, 7, 8, 9, 10, 11, 12]\\n\\n    Column : \"released_day\"\\n    respresent: Day of the month when the song was released\\n    Data Type: [1, 2, 3, 4, 5, 6, 7, 8, 9, 10, 11, 12, 13, 14, 15, 16, 17, 18,\\n    19, 20, 21, 22, 23, 24, 25, 26, 27, 28, 29, 30, 31]\\n\\n    Column : in_spotify_playlists\\n    respresent: Number of Spotify playlists the song is included in\\n    Data Type: Numeric;\\n\\n    Column : in_spotify_charts\\n    respresent: Presence and rank of the song on Spotify charts\\n    Data Type: Numeric;\\n\\n    Column : streams\\n    respresent: Total number of streams on Spotify\\n    Data Type: object;\\n\\n    Column : in_apple_playlists\\n    respresent: Number of Apple Music playlists the song is included in\\n    Data Type: Numeric;\\n\\n    Column : in_apple_charts\\n    respresent: Presence and rank of the song on Apple Music charts\\n    Data Type: Numeric;\\n\\n    Column : in_deezer_playlists\\n    respresent: Number of Deezer playlists the song is included in\\n    Data Type: [10, 14, 12, 15, 17, 13, 11,  5, 58, 24, 46,  6,  2,  4,  1, 38,  8,\\n       23,  9, 18,  7,  3, 45, 16, 37,  0, 19, 20, 28, 26, 31, 22, 29, 21]\\n\\n    Column : in_deezer_charts\\n    respresent: Presence and rank of the song on Deezer charts\\n    Data Type: Numeric;\\n\\n    Column : in_shazam_charts\\n    respresent: Presence and rank of the song on Shazam charts\\n    Data Type: object;\\n\\n    Column : bpm\\n    respresent: Beats per minute, a measure of song tempo\\n    Data Type: Numeric;\\n\\n    Column : key\\n    respresent: Key of the song\\n    Data Type: [\\'B\\', \\'C#\\', \\'F\\', \\'A\\', \\'D\\', \\'F#\\', nan, \\'G#\\', \\'G\\', \\'E\\', \\'A#\\', \\'D#\\']\\n\\n    Column : mode\\n    respresent: Mode of the song (major or minor)\\n    Data Type: Categorical; [\\'Major\\', \\'Minor\\']\\n\\n    Column : danceability_%\\n    respresent: Percentage indicating how suitable the song is for dancing\\n    Data Type: Numeric;\\n\\n    Column : valence_%\\n    respresent: Positivity of the song\\'s musical content\\n    Data Type: Numeric;\\n\\n    Column : energy_%\\n    respresent: Perceived energy level of the song\\n    Data Type: Numeric;\\n\\n    Column : acousticness_%\\n    respresent: Amount of acoustic sound in the song\\n    Data Type: Numeric;\\n\\n    Column : instrumentalness_%\\n    respresent: Amount of instrumental content in the song\\n    Data Type: Numeric;\\n\\n    Column : liveness_%\\n    respresent: Presence of live performance elements\\n    Data Type: Numeric;\\n\\n    Column : speechiness_%\\n    respresent: Amount of spoken words in the song\\n    Data Type: Numeric;\\n\\nHere\\'s some example rows from the table:\\n<Table>\\ntrack_name\\tartist(s)_name\\tartist_count\\treleased_year\\treleased_month\\treleased_day\\tin_spotify_playlists\\tin_spotify_charts\\tstreams\\tin_apple_playlists\\tin_apple_charts\\tin_deezer_playlists\\tin_deezer_charts\\tin_shazam_charts\\tbpm\\tkey\\tmode\\tdanceability_%\\tvalence_%\\tenergy_%\\tacousticness_%\\tinstrumentalness_%\\tliveness_%\\tspeechiness_%\\nSeven (feat. Latto) (Explicit Ver.)\\tLatto, Jung Kook\\t2\\t2023\\t7\\t14\\t553\\t147\\t141381703\\t43\\t263\\t45\\t10\\t826\\t125\\tB\\tMajor\\t80\\t89\\t83\\t31\\t0\\t8\\t4\\nLALA\\tMyke Towers\\t1\\t2023\\t3\\t23\\t1474\\t48\\t133716286\\t48\\t126\\t58\\t14\\t382\\t92\\tC#\\tMajor\\t71\\t61\\t74\\t7\\t0\\t10\\t4\\nvampire\\tOlivia Rodrigo\\t1\\t2023\\t6\\t30\\t1397\\t113\\t140003974\\t94\\t207\\t91\\t14\\t949\\t138\\tF\\tMajor\\t51\\t32\\t53\\t17\\t0\\t31\\t6\\nCruel Summer\\tTaylor Swift\\t1\\t2019\\t8\\t23\\t7858\\t100\\t800840817\\t116\\t207\\t125\\t12\\t548\\t170\\tA\\tMajor\\t55\\t58\\t72\\t11\\t0\\t11\\t15\\n</Table>\\n\\n###RULES\\nRemember to DO WRAP EVERY COLUMN NAME WITH single quote(\").\\nFor example: DO: \"Market Cap\".\\nDO NOT: Market Cap\\n\\nHere\\'s some example string\\nQuestion: หา Customer_Age เฉลี่ยของลูกค้าที่ซื้อ \\'Macbook\\'\\nSql query: SELECT AVG(Customer_Age) FROM customer_support_tickets WHERE Product_Purchased = \\'Macbook\\';\\nQuestion: มี Customer_Age จำนวนเท่าไหร่ ที่อยู่ในช่วง 25-35 ปี และ Product_Purchased เป็น \\'MacBook\\'\\nSql query: SELECT COUNT(*) FROM customer_support_tickets WHERE Customer_Age BETWEEN 25 AND 35 AND Product_Purchased = \\'MacBook\\';\\nQuestion: ลูกค้าชายซื้ออะไรมากที่สุด\\nSql query: SELECT \"Product_Purchased\", COUNT(*) AS \"Total_Purchased\" FROM \"customer_support_tickets\" WHERE \"Customer_Gender\" = \\'Male\\' GROUP BY \"Product_Purchased\" ORDER BY \"Total_Purchased\" DESC LIMIT 1; \\n\\nQuestion: {query_str}\\nSQL Query:[/INST]'"
      ]
     },
     "execution_count": 67,
     "metadata": {},
     "output_type": "execute_result"
    }
   ],
   "source": [
    "#Table C prompt\n",
    "new_prompt_str = f\"\"\"<<SYS>>\\nYou are a question answering assistant. Answer the question as truthful and helpful as possible คุณคือผู้ช่วยตอบคำถาม จงตอบคำถามอย่างถูกต้องและมีประโยชน์ที่สุด<</SYS>>\\n\\n\n",
    "You are a SQLite expert. Given an input question,create a syntactically correct SQLite query to run.\n",
    "You can order the results to return the most informative data in the database.\n",
    "Never query for all columns from a table. You must query only the columns that are needed to answer the question. Wrap each column name in double quotes (\") to denote them as delimited identifiers.\n",
    "Pay attention to use only the column names you can see in the table below. Be careful to not query for columns that do not exist.\n",
    "You are working with only one table named spotify.\n",
    "Unless the query specifies the number of results, you MUST give only 1 answer, using LIMIT 1\n",
    "DO WRAP EVERY COLUMN NAME WITH (\").\n",
    "For example: DO: \"Market Cap\".\n",
    "DO NOT: Market Cap\n",
    "Use the following format:\n",
    "\n",
    "SQLQuery: SQL Query to run\n",
    "\n",
    "\n",
    "Only use the following columns of the spotify table:\n",
    "Table name : spotify\n",
    "    Column : \"track_name\"\n",
    "    respresent: Name of the song\n",
    "    Data Type: Text;\n",
    "\n",
    "    Column : \"artist(s)_name\"\n",
    "    respresent: Name of the artist(s) of the song\n",
    "    Data Type: Text;\n",
    "\n",
    "    Column : \"artist_count\"\n",
    "    respresent: Number of artists contributing to the song\n",
    "    Data Type: [1, 2, 3, 4, 5, 6, 7, 8]\n",
    "\n",
    "    Column : \"released_year\"\n",
    "    respresent: Year when the song was released\n",
    "    Data Type: [2023, 2019, 2022, 2013, 2014, 2018, 2017, 2020, 2016, 2012, 1999,\n",
    "       2008, 1975, 2021, 2015, 2011, 2004, 1985, 2007, 2002, 2010, 1983,\n",
    "       1992, 1968, 1984, 2000, 1997, 1995, 2003, 1973, 1930, 1994, 1958,\n",
    "       1957, 1963, 1959, 1970, 1971, 1952, 1946, 1979, 1950, 1942, 1986,\n",
    "       2005, 1991, 1996, 1998, 1982, 1987]\n",
    "\n",
    "    Column : \"released_month\"\n",
    "    respresent: Month when the song was released\n",
    "    Data Type: [1, 2, 3, 4, 5, 6, 7, 8, 9, 10, 11, 12]\n",
    "\n",
    "    Column : \"released_day\"\n",
    "    respresent: Day of the month when the song was released\n",
    "    Data Type: [1, 2, 3, 4, 5, 6, 7, 8, 9, 10, 11, 12, 13, 14, 15, 16, 17, 18,\n",
    "    19, 20, 21, 22, 23, 24, 25, 26, 27, 28, 29, 30, 31]\n",
    "\n",
    "    Column : in_spotify_playlists\n",
    "    respresent: Number of Spotify playlists the song is included in\n",
    "    Data Type: Numeric;\n",
    "\n",
    "    Column : in_spotify_charts\n",
    "    respresent: Presence and rank of the song on Spotify charts\n",
    "    Data Type: Numeric;\n",
    "\n",
    "    Column : streams\n",
    "    respresent: Total number of streams on Spotify\n",
    "    Data Type: object;\n",
    "\n",
    "    Column : in_apple_playlists\n",
    "    respresent: Number of Apple Music playlists the song is included in\n",
    "    Data Type: Numeric;\n",
    "\n",
    "    Column : in_apple_charts\n",
    "    respresent: Presence and rank of the song on Apple Music charts\n",
    "    Data Type: Numeric;\n",
    "\n",
    "    Column : in_deezer_playlists\n",
    "    respresent: Number of Deezer playlists the song is included in\n",
    "    Data Type: [10, 14, 12, 15, 17, 13, 11,  5, 58, 24, 46,  6,  2,  4,  1, 38,  8,\n",
    "       23,  9, 18,  7,  3, 45, 16, 37,  0, 19, 20, 28, 26, 31, 22, 29, 21]\n",
    "\n",
    "    Column : in_deezer_charts\n",
    "    respresent: Presence and rank of the song on Deezer charts\n",
    "    Data Type: Numeric;\n",
    "\n",
    "    Column : in_shazam_charts\n",
    "    respresent: Presence and rank of the song on Shazam charts\n",
    "    Data Type: object;\n",
    "\n",
    "    Column : bpm\n",
    "    respresent: Beats per minute, a measure of song tempo\n",
    "    Data Type: Numeric;\n",
    "\n",
    "    Column : key\n",
    "    respresent: Key of the song\n",
    "    Data Type: ['B', 'C#', 'F', 'A', 'D', 'F#', nan, 'G#', 'G', 'E', 'A#', 'D#']\n",
    "\n",
    "    Column : mode\n",
    "    respresent: Mode of the song (major or minor)\n",
    "    Data Type: Categorical; ['Major', 'Minor']\n",
    "\n",
    "    Column : danceability_%\n",
    "    respresent: Percentage indicating how suitable the song is for dancing\n",
    "    Data Type: Numeric;\n",
    "\n",
    "    Column : valence_%\n",
    "    respresent: Positivity of the song's musical content\n",
    "    Data Type: Numeric;\n",
    "\n",
    "    Column : energy_%\n",
    "    respresent: Perceived energy level of the song\n",
    "    Data Type: Numeric;\n",
    "\n",
    "    Column : acousticness_%\n",
    "    respresent: Amount of acoustic sound in the song\n",
    "    Data Type: Numeric;\n",
    "\n",
    "    Column : instrumentalness_%\n",
    "    respresent: Amount of instrumental content in the song\n",
    "    Data Type: Numeric;\n",
    "\n",
    "    Column : liveness_%\n",
    "    respresent: Presence of live performance elements\n",
    "    Data Type: Numeric;\n",
    "\n",
    "    Column : speechiness_%\n",
    "    respresent: Amount of spoken words in the song\n",
    "    Data Type: Numeric;\n",
    "\n",
    "Here's some example rows from the table:\n",
    "<Table>\n",
    "track_name\tartist(s)_name\tartist_count\treleased_year\treleased_month\treleased_day\tin_spotify_playlists\tin_spotify_charts\tstreams\tin_apple_playlists\tin_apple_charts\tin_deezer_playlists\tin_deezer_charts\tin_shazam_charts\tbpm\tkey\tmode\tdanceability_%\tvalence_%\tenergy_%\tacousticness_%\tinstrumentalness_%\tliveness_%\tspeechiness_%\n",
    "Seven (feat. Latto) (Explicit Ver.)\tLatto, Jung Kook\t2\t2023\t7\t14\t553\t147\t141381703\t43\t263\t45\t10\t826\t125\tB\tMajor\t80\t89\t83\t31\t0\t8\t4\n",
    "LALA\tMyke Towers\t1\t2023\t3\t23\t1474\t48\t133716286\t48\t126\t58\t14\t382\t92\tC#\tMajor\t71\t61\t74\t7\t0\t10\t4\n",
    "vampire\tOlivia Rodrigo\t1\t2023\t6\t30\t1397\t113\t140003974\t94\t207\t91\t14\t949\t138\tF\tMajor\t51\t32\t53\t17\t0\t31\t6\n",
    "Cruel Summer\tTaylor Swift\t1\t2019\t8\t23\t7858\t100\t800840817\t116\t207\t125\t12\t548\t170\tA\tMajor\t55\t58\t72\t11\t0\t11\t15\n",
    "</Table>\n",
    "\n",
    "###RULES\n",
    "Remember to DO WRAP EVERY COLUMN NAME WITH single quote(\").\n",
    "For example: DO: \"Market Cap\".\n",
    "DO NOT: Market Cap\n",
    "\n",
    "Here's some revelant question and query for example:\n",
    "{formatted_output}\n",
    "\n",
    "\"\"\"\n",
    "new_prompt_str += \"Question: {query_str}\\nSQL Query:[/INST]\"\n",
    "new_prompt_str"
   ]
  },
  {
   "cell_type": "code",
   "execution_count": 21,
   "id": "283e7c99-05cd-4658-b1f0-99d7032695e5",
   "metadata": {},
   "outputs": [],
   "source": [
    "# #Table D prompt\n",
    "# new_prompt_str = \"\"\"<<SYS>>\\nYou are a question answering assistant. Answer the question as truthful and helpful as possible คุณคือผู้ช่วยตอบคำถาม จงตอบคำถามอย่างถูกต้องและมีประโยชน์ที่สุด<</SYS>>\\n\\n\n",
    "# You are a SQLite expert. Given an input question,create a syntactically correct SQLite query to run.\n",
    "# You can order the results to return the most informative data in the database.\n",
    "# Never query for all columns from a table. You must query only the columns that are needed to answer the question. Wrap each column name in double quotes (\") to denote them as delimited identifiers.\n",
    "# Pay attention to use only the column names you can see in the table below. Be careful to not query for columns that do not exist.\n",
    "# You are working with only one table named customer_support_tickets.\n",
    "# Unless the query specifies the number of results, you MUST give only 1 answer, using LIMIT 1\n",
    "# DO WRAP EVERY COLUMN NAME WITH (\").\n",
    "# For example: DO: \"Market Cap\".\n",
    "# DO NOT: Market Cap\n",
    "# Use the following format:\n",
    "\n",
    "# SQLQuery: SQL Query to run\n",
    "\n",
    "\n",
    "# Only use the following columns of the customer_support_tickets table:\n",
    "# Table name : \"customer_support_tickets\"\n",
    "\n",
    "#     Column: \"Ticket_ID\"\n",
    "#     respresent: A unique identifier for each ticket.\n",
    "#     values : Numeric;\n",
    "\n",
    "#     Column: \"Customer_Email\"\n",
    "#     respresent: The email address of the customer (Domain name - @example.com is intentional for user data privacy concern).\n",
    "#     values : Text;\n",
    "\n",
    "#     Column: \"Customer_Age\"\n",
    "#     respresent: The age of the customer.\n",
    "#     values : Numeric;\n",
    "\n",
    "#     Column: \"Customer_Gender\"\n",
    "#     respresent: The gender of the customer.\n",
    "#     values : ['Male','Female','Other']\n",
    "\n",
    "#     Column: \"Product_Purchased\"\n",
    "#     respresent: The tech product purchased by the customer.\n",
    "#     values : Text;\n",
    "\n",
    "#     Column: \"Date_of_Purchase\"\n",
    "#     respresent: The date when the product was purchased.\n",
    "#     values : Year-Month-Day;\n",
    "\n",
    "#     Column: \"Ticket_Type\"\n",
    "#     respresent: The type of ticket (e.g., technical issue, billing inquiry, product inquiry).\n",
    "#     values : ['Refund request','Technical issue','Cancellation request','Product inquiry','Billing inquiry']\n",
    "\n",
    "#     Column: \"Ticket_Subject\"\n",
    "#     respresent: The subject/topic of the ticket.\n",
    "#     values : ['Refund request','Software bug','Product compatibility','Delivery problem','Hardware issue','Battery life',\n",
    "#     Network problem','Installation support','Product setup','Payment issue','Product recommendation','Account access','Peripheral compatibility',\n",
    "#     'Data loss','Cancellation request','Display issue']\n",
    "\n",
    "#     Column: \"Ticket_Description\"\n",
    "#     respresent: The description of the customer's issue or inquiry.\n",
    "#     values : Text;\n",
    "\n",
    "#     Column: \"Ticket_Status\"\n",
    "#     respresent: The status of the ticket (e.g., open, closed, pending customer response).\n",
    "#     values : ['Pending Customer Response','Open','Closed']\n",
    "\n",
    "#     Column: \"Resolution\"\n",
    "#     respresent: The resolution or solution provided for closed tickets.\n",
    "#     values : Text;\n",
    "\n",
    "#     Column: \"Ticket_Priority\"\n",
    "#     respresent: The priority level assigned to the ticket (e.g., low, medium, high, critical).\n",
    "#     values : ['Medium','Critical','High','Low']\n",
    "\n",
    "#     Column: \"Ticket_Channel\"\n",
    "#     respresent: The channel through which the ticket was raised (e.g., email, phone, chat, social media).\n",
    "#     values : ['Email','Phone','Social media','Chat']\n",
    "\n",
    "#     Column: \"First_Response_Time\"\n",
    "#     respresent: The time taken to provide the first response to the customer.\n",
    "#     values : Year-Month-Day Hour:minute:second;\n",
    "\n",
    "#     Column: \"Time_to_Resolution\"\n",
    "#     respresent: The time taken to resolve the ticket.\n",
    "#     values : Year-Month-Day Hour:minute:second;\n",
    "\n",
    "#     Column: \"Customer_Satisfaction_Rating\"\n",
    "#     respresent: The customer's satisfaction rating for closed tickets (on a scale of 1 to 5).\n",
    "\n",
    "# Here's some example rows from the table:\n",
    "# <Table>\n",
    "# Ticket_ID\tCustomer_Name\tCustomer_Email\tCustomer_Age\tCustomer_Gender\tProduct_Purchased\tDate_of_Purchase\tTicket_Type\tTicket_Subject\tTicket_Description\tTicket_Status\tResolution\tTicket_Priority\tTicket_Channel\tFirst_Response_Time\tTime_to_Resolution\tCustomer_Satisfaction_Rating\n",
    "# 1\tMarisa Obrien\tcarrollallison@example.com\t32\tOther\tGoPro Hero\t2021-03-22\tTechnical issue\tProduct setup\t\"I'm having an issue with the {product_purchased}. Please assist.\n",
    "\n",
    "# Your billing zip code is: 71701.\n",
    "\n",
    "# We appreciate that you have requested a website address.\n",
    "\n",
    "# Please double check your email address. I've tried troubleshooting steps mentioned in the user manual, but the issue persists.\"\tPending Customer Response\t\tCritical\tSocial media\t2023-06-01 12:15:36\t\t\n",
    "# 2\tJessica Rios\tclarkeashley@example.com\t42\tFemale\tLG Smart TV\t2021-05-22\tTechnical issue\tPeripheral compatibility\t\"I'm having an issue with the {product_purchased}. Please assist.\n",
    "\n",
    "# If you need to change an existing product.\n",
    "\n",
    "# I'm having an issue with the {product_purchased}. Please assist.\n",
    "\n",
    "# If The issue I'm facing is intermittent. Sometimes it works fine, but other times it acts up unexpectedly.\"\tPending Customer Response\t\tCritical\tChat\t2023-06-01 16:45:38\t\t\n",
    "# 3\tChristopher Robbins\tgonzalestracy@example.com\t48\tOther\tDell XPS\t2020-07-14\tTechnical issue\tNetwork problem\t\"I'm facing a problem with my {product_purchased}. The {product_purchased} is not turning on. It was working fine until yesterday, but now it doesn't respond.\n",
    "\n",
    "# 1.8.3 I really I'm using the original charger that came with my {product_purchased}, but it's not charging properly.\"\tClosed\tCase maybe show recently my computer follow.\tLow\tSocial media\t2023-06-01 11:14:38\t2023-06-01 18:05:38\t3\n",
    "# 4\tChristina Dillon\tbradleyolson@example.org\t27\tFemale\tMicrosoft Office\t2020-11-13\tBilling inquiry\tAccount access\t\"I'm having an issue with the {product_purchased}. Please assist.\n",
    "\n",
    "# If you have a problem you're interested in and I'd love to see this happen, please check out the Feedback. I've already contacted customer support multiple times, but the issue remains unresolved.\"\tClosed\tTry capital clearly never color toward story.\tLow\tSocial media\t2023-06-01 07:29:40\t2023-06-01 01:57:40\t3\n",
    "# </Table>\n",
    "\n",
    "# ###RULES\n",
    "# Remember to DO WRAP EVERY COLUMN NAME WITH single quote(\").\n",
    "# For example: DO: \"Market Cap\".\n",
    "# DO NOT: Market Cap\n",
    "\n",
    "\n",
    "# Question: {query_str}\n",
    "# SQL Query:[/INST]\n",
    "# \"\"\""
   ]
  },
  {
   "cell_type": "code",
   "execution_count": 22,
   "id": "96dc7a24-07cb-405d-9cb4-909b748a1b8c",
   "metadata": {},
   "outputs": [],
   "source": [
    "# resp_synthesis_prompt_str = (\"\"\"\n",
    "# [INST]<<SYS>>\n",
    "# You are a question answering assistant. Answer the question as truthful and helpful as possible คุณคือผู้ช่วยตอบคำถาม จงตอบคำถามอย่างถูกต้องและมีประโยชน์ที่สุด<</SYS>>\n",
    "# \"The original query is as follows: {query_str}\\n\"\n",
    "#     \"We have provided an existing answer: {context_str}\\n\"\n",
    "#     \"You must refine the existing answer to match the instruction in the original query\"\n",
    "#     \"If the context isn't useful, return the original answer.\\n\"\n",
    "#     YOU MUST NEVER USE ANY INFORMATION OUTSIDE OF THE EXISTING ANSWER\n",
    "#     \"If there's no additional instruction in the original query, just return the existing answer\"\n",
    "#     For example:\n",
    "#     Original Query: ผู้หญิงหรือผู้ชายใครมียอดจำนวน record การสั่งซื้อมากกว่ากัน กรุณาตอบแค่ `ผู้ชาย` หรือ `ผู้หญิง`\n",
    "#     Existing answer: ['ผู้หญิง']\n",
    "#     Refined Answer: ผู้หญิง\n",
    "\n",
    "#     Original Query: ในเดือนตุลาคมผู้หญิงที่ California นิยมซื้อ Product SKU ไหนมากที่สุด\n",
    "#     Existing answer: [('GGOENEBQ078999', 168)]\n",
    "#     Refined Answer: GGOENEBQ078999\n",
    "    \n",
    "#     Original Query: {query_str}\n",
    "#     Existing answer: {context_str}\n",
    "#     \"Refined Answer:[/INST]\"\n",
    "# \"\"\")"
   ]
  },
  {
   "cell_type": "code",
   "execution_count": 23,
   "id": "a2678fe4-6e47-471a-a2d1-ffda00357136",
   "metadata": {},
   "outputs": [],
   "source": [
    "resp_synthesis_prompt_str = (\"\"\"[INST]<<SYS>>You are a question answering assistant. Answer the question as truthful and helpful as possible คุณคือผู้ช่วยตอบคำถาม จงตอบคำถามอย่างถูกต้องและมีประโยชน์ที่สุด<</SYS>>\n",
    "\n",
    "Refine the given answer so that it directly addresses the original question:\n",
    "Do not explain your answer.\n",
    "DO not any information other than the answer.\n",
    "Original question: {query_str}\n",
    "Answer: {context_str}\n",
    "New_Answer: [/INST]\n",
    "\"\"\")"
   ]
  },
  {
   "cell_type": "code",
   "execution_count": 24,
   "id": "10703915-b778-42de-b277-01509e061d46",
   "metadata": {},
   "outputs": [],
   "source": [
    "from llama_index.core import PromptTemplate\n",
    "new_prompt = PromptTemplate(new_prompt_str)\n",
    "resp_synthesis_prompt = PromptTemplate(resp_synthesis_prompt_str)"
   ]
  },
  {
   "cell_type": "code",
   "execution_count": 25,
   "id": "d86c0920-4cf6-46da-8f13-776f2c1f8842",
   "metadata": {},
   "outputs": [],
   "source": [
    "from llama_index.core.retrievers import NLSQLRetriever\n",
    "sql_retriever = NLSQLRetriever(text_to_sql_prompt = new_prompt, sql_database = sql_database,tables = ['spotify'], llm = llm)"
   ]
  },
  {
   "cell_type": "code",
   "execution_count": 26,
   "id": "bc0c6f0c-9808-4316-a059-25d2bec337c1",
   "metadata": {},
   "outputs": [
    {
     "name": "stderr",
     "output_type": "stream",
     "text": [
      "Token indices sequence length is longer than the specified maximum sequence length for this model (2256 > 2048). Running this sequence through the model will result in indexing errors\n",
      "Setting `pad_token_id` to `eos_token_id`:2 for open-end generation.\n"
     ]
    },
    {
     "data": {
      "text/plain": [
       "[NodeWithScore(node=TextNode(id_='3ff68856-7064-4d2e-a66f-a6fa8b1dafce', embedding=None, metadata={}, excluded_embed_metadata_keys=[], excluded_llm_metadata_keys=[], relationships={}, text=\"Error: Statement 'SELECT C.City FROM Customers C INNER JOIN (SELECT CustomerID, MIN(TotalAmount) AS MinTotalAmount FROM Orders GROUP BY CustomerID) O ON C.CustomerID = O.CustomerID WHERE O.MinTotalAmount = (SELECT MIN(TotalAmount) FROM Orders);' is invalid SQL.\", start_char_idx=None, end_char_idx=None, text_template='{metadata_str}\\n\\n{content}', metadata_template='{key}: {value}', metadata_seperator='\\n'), score=None)]"
      ]
     },
     "execution_count": 26,
     "metadata": {},
     "output_type": "execute_result"
    }
   ],
   "source": [
    "node = sql_retriever.retrieve(\"CustomerID ที่มียอดจำนวนเงินสั่งซื้อไม่รวมค่าขนส่งน้อยที่สุดมาจากที่เมืองไหน\")\n",
    "node"
   ]
  },
  {
   "cell_type": "code",
   "execution_count": null,
   "id": "d2f268ee-8deb-48ec-8545-9bbdc1bf6c08",
   "metadata": {},
   "outputs": [],
   "source": []
  },
  {
   "cell_type": "code",
   "execution_count": 27,
   "id": "0edeb2cf-bd91-447a-baad-03e6ae8aa41d",
   "metadata": {},
   "outputs": [],
   "source": [
    "from llama_index.core.data_structs import Node\n",
    "from llama_index.core.schema import NodeWithScore\n",
    "from llama_index.core import get_response_synthesizer\n",
    "\n",
    "response_synthesizer = get_response_synthesizer(\n",
    "    response_mode=\"compact\",\n",
    "    llm = llm,\n",
    "    text_qa_template=resp_synthesis_prompt,\n",
    "    refine_template=resp_synthesis_prompt,\n",
    "    use_async=False,\n",
    "    streaming=False,\n",
    ")"
   ]
  },
  {
   "cell_type": "code",
   "execution_count": 28,
   "id": "39d575c0-bd94-4d66-852f-c6ffc108fbf1",
   "metadata": {},
   "outputs": [],
   "source": [
    "from llama_index.core.query_engine import CustomQueryEngine\n",
    "from llama_index.core.retrievers import BaseRetriever\n",
    "from llama_index.core import get_response_synthesizer\n",
    "from llama_index.core.response_synthesizers import BaseSynthesizer\n",
    "from llama_index.core import Response\n",
    "class EXPQueryEngine(CustomQueryEngine):\n",
    "    \"\"\"EXP Query Engine.\"\"\"\n",
    "\n",
    "    retriever: NLSQLRetriever\n",
    "    response_synthesizer: BaseSynthesizer\n",
    "\n",
    "    def custom_query(self, query_str: str):\n",
    "        nodes = self.retriever.retrieve(query_str)\n",
    "        response_obj = Response(nodes[0].text)\n",
    "        return response_obj"
   ]
  },
  {
   "cell_type": "code",
   "execution_count": 29,
   "id": "9dd55567-666e-4b5a-aef0-df905fc89d24",
   "metadata": {},
   "outputs": [],
   "source": [
    "EXP_engine = EXPQueryEngine(\n",
    "    retriever = sql_retriever,\n",
    "    response_synthesizer = response_synthesizer\n",
    ")"
   ]
  },
  {
   "cell_type": "code",
   "execution_count": 32,
   "id": "57b73197-8d95-4909-8acf-672709fb580d",
   "metadata": {},
   "outputs": [
    {
     "ename": "NameError",
     "evalue": "name 'EXP_engine' is not defined",
     "output_type": "error",
     "traceback": [
      "\u001b[0;31m---------------------------------------------------------------------------\u001b[0m",
      "\u001b[0;31mNameError\u001b[0m                                 Traceback (most recent call last)",
      "Cell \u001b[0;32mIn[32], line 2\u001b[0m\n\u001b[1;32m      1\u001b[0m query_str \u001b[38;5;241m=\u001b[39m \u001b[38;5;124m\"\"\"\u001b[39m\u001b[38;5;124mเพลย์ลิสต์ Deezer มีกี่เพลง?\u001b[39m\u001b[38;5;124m\"\"\"\u001b[39m\n\u001b[0;32m----> 2\u001b[0m response \u001b[38;5;241m=\u001b[39m \u001b[43mEXP_engine\u001b[49m\u001b[38;5;241m.\u001b[39mquery(query_str)\n",
      "\u001b[0;31mNameError\u001b[0m: name 'EXP_engine' is not defined"
     ]
    }
   ],
   "source": [
    "\n",
    "query_str = \"\"\"เพลย์ลิสต์ Deezer มีกี่เพลง?\"\"\"\n",
    "response = EXP_engine.query(query_str)\n",
    "\n"
   ]
  },
  {
   "cell_type": "code",
   "execution_count": 31,
   "id": "6cc570b7-d06e-48bd-9cd1-96a1bf9c8e36",
   "metadata": {},
   "outputs": [
    {
     "data": {
      "text/plain": [
       "Response(response='[(46,)]', source_nodes=[], metadata=None)"
      ]
     },
     "execution_count": 31,
     "metadata": {},
     "output_type": "execute_result"
    }
   ],
   "source": [
    "\n",
    "response"
   ]
  }
 ],
 "metadata": {
  "kernelspec": {
   "display_name": "Python 3 (ipykernel)",
   "language": "python",
   "name": "python3"
  },
  "language_info": {
   "codemirror_mode": {
    "name": "ipython",
    "version": 3
   },
   "file_extension": ".py",
   "mimetype": "text/x-python",
   "name": "python",
   "nbconvert_exporter": "python",
   "pygments_lexer": "ipython3",
   "version": "3.9.19"
  }
 },
 "nbformat": 4,
 "nbformat_minor": 5
}
